{
  "nbformat": 4,
  "nbformat_minor": 0,
  "metadata": {
    "colab": {
      "name": "modeloPreditivoCampBrasileiroTemp.ipynb",
      "provenance": [],
      "collapsed_sections": [],
      "authorship_tag": "ABX9TyNyCB4UkIE59P5kTFSFyGPO",
      "include_colab_link": true
    },
    "kernelspec": {
      "name": "python3",
      "display_name": "Python 3"
    }
  },
  "cells": [
    {
      "cell_type": "markdown",
      "metadata": {
        "id": "view-in-github",
        "colab_type": "text"
      },
      "source": [
        "<a href=\"https://colab.research.google.com/github/BrenoMilagres/DataScienceProjetos/blob/master/modeloPreditivoCampBrasileiroTemp.ipynb\" target=\"_parent\"><img src=\"https://colab.research.google.com/assets/colab-badge.svg\" alt=\"Open In Colab\"/></a>"
      ]
    },
    {
      "cell_type": "code",
      "metadata": {
        "id": "Brdk_L_KfQY4"
      },
      "source": [
        "%matplotlib inline\n",
        "import pandas as pd\n",
        "import matplotlib.pyplot as plt\n",
        "import seaborn as sns\n",
        "import numpy as np"
      ],
      "execution_count": 150,
      "outputs": []
    },
    {
      "cell_type": "code",
      "metadata": {
        "id": "PvLymi5yfimP"
      },
      "source": [
        "#importando os dados para o google colab\n",
        "from google.colab import files\n",
        "uploaded = files.upload()"
      ],
      "execution_count": null,
      "outputs": []
    },
    {
      "cell_type": "code",
      "metadata": {
        "id": "kTWOrm9cfvJd"
      },
      "source": [
        "times = pd.read_csv('campeonato-brasileiro-full.csv')"
      ],
      "execution_count": 152,
      "outputs": []
    },
    {
      "cell_type": "code",
      "metadata": {
        "id": "5q_X6Oksf2B5",
        "outputId": "100dbb15-f11c-4656-e369-2d55618e7f08",
        "colab": {
          "base_uri": "https://localhost:8080/",
          "height": 197
        }
      },
      "source": [
        "times.head()"
      ],
      "execution_count": 153,
      "outputs": [
        {
          "output_type": "execute_result",
          "data": {
            "text/html": [
              "<div>\n",
              "<style scoped>\n",
              "    .dataframe tbody tr th:only-of-type {\n",
              "        vertical-align: middle;\n",
              "    }\n",
              "\n",
              "    .dataframe tbody tr th {\n",
              "        vertical-align: top;\n",
              "    }\n",
              "\n",
              "    .dataframe thead th {\n",
              "        text-align: right;\n",
              "    }\n",
              "</style>\n",
              "<table border=\"1\" class=\"dataframe\">\n",
              "  <thead>\n",
              "    <tr style=\"text-align: right;\">\n",
              "      <th></th>\n",
              "      <th>Horário</th>\n",
              "      <th>Dia</th>\n",
              "      <th>Data</th>\n",
              "      <th>Clube 1</th>\n",
              "      <th>Clube 2</th>\n",
              "      <th>Vencedor</th>\n",
              "      <th>Rodada</th>\n",
              "      <th>Arena</th>\n",
              "      <th>Clube 1 Gols</th>\n",
              "      <th>Clube 2 Gols</th>\n",
              "      <th>Clube 1 Estado</th>\n",
              "      <th>Clube 2 Estado</th>\n",
              "      <th>Estado Clube Vencedor</th>\n",
              "    </tr>\n",
              "  </thead>\n",
              "  <tbody>\n",
              "    <tr>\n",
              "      <th>0</th>\n",
              "      <td>16h00</td>\n",
              "      <td>Sábado</td>\n",
              "      <td>2000-07-29</td>\n",
              "      <td>Fluminense</td>\n",
              "      <td>Bahia</td>\n",
              "      <td>Fluminense</td>\n",
              "      <td>1ª Rodada</td>\n",
              "      <td>Maracanã</td>\n",
              "      <td>2</td>\n",
              "      <td>0</td>\n",
              "      <td>RJ</td>\n",
              "      <td>BA</td>\n",
              "      <td>RJ</td>\n",
              "    </tr>\n",
              "    <tr>\n",
              "      <th>1</th>\n",
              "      <td>16h00</td>\n",
              "      <td>Sábado</td>\n",
              "      <td>2000-07-29</td>\n",
              "      <td>Vasco</td>\n",
              "      <td>Sport</td>\n",
              "      <td>Sport</td>\n",
              "      <td>1ª Rodada</td>\n",
              "      <td>São Januário</td>\n",
              "      <td>0</td>\n",
              "      <td>2</td>\n",
              "      <td>RJ</td>\n",
              "      <td>PE</td>\n",
              "      <td>PE</td>\n",
              "    </tr>\n",
              "    <tr>\n",
              "      <th>2</th>\n",
              "      <td>16h00</td>\n",
              "      <td>Sábado</td>\n",
              "      <td>2000-07-29</td>\n",
              "      <td>Vitória</td>\n",
              "      <td>Palmeiras</td>\n",
              "      <td>Vitória</td>\n",
              "      <td>1ª Rodada</td>\n",
              "      <td>Barradão</td>\n",
              "      <td>4</td>\n",
              "      <td>1</td>\n",
              "      <td>ES</td>\n",
              "      <td>SP</td>\n",
              "      <td>ES</td>\n",
              "    </tr>\n",
              "    <tr>\n",
              "      <th>3</th>\n",
              "      <td>17h00</td>\n",
              "      <td>Domingo</td>\n",
              "      <td>2000-07-30</td>\n",
              "      <td>Botafogo-RJ</td>\n",
              "      <td>Atlético-MG</td>\n",
              "      <td>-</td>\n",
              "      <td>1ª Rodada</td>\n",
              "      <td>Caio Martins</td>\n",
              "      <td>0</td>\n",
              "      <td>0</td>\n",
              "      <td>RJ</td>\n",
              "      <td>MG</td>\n",
              "      <td>Empate</td>\n",
              "    </tr>\n",
              "    <tr>\n",
              "      <th>4</th>\n",
              "      <td>18h30</td>\n",
              "      <td>Domingo</td>\n",
              "      <td>2000-07-30</td>\n",
              "      <td>Juventude</td>\n",
              "      <td>Flamengo</td>\n",
              "      <td>-</td>\n",
              "      <td>1ª Rodada</td>\n",
              "      <td>Alfredo Jaconi</td>\n",
              "      <td>1</td>\n",
              "      <td>1</td>\n",
              "      <td>RS</td>\n",
              "      <td>RJ</td>\n",
              "      <td>Empate</td>\n",
              "    </tr>\n",
              "  </tbody>\n",
              "</table>\n",
              "</div>"
            ],
            "text/plain": [
              "  Horário      Dia  ... Clube 2 Estado Estado Clube Vencedor\n",
              "0   16h00   Sábado  ...             BA                    RJ\n",
              "1   16h00   Sábado  ...             PE                    PE\n",
              "2   16h00   Sábado  ...             SP                    ES\n",
              "3   17h00  Domingo  ...             MG                Empate\n",
              "4   18h30  Domingo  ...             RJ                Empate\n",
              "\n",
              "[5 rows x 13 columns]"
            ]
          },
          "metadata": {
            "tags": []
          },
          "execution_count": 153
        }
      ]
    },
    {
      "cell_type": "code",
      "metadata": {
        "id": "L5vdLA3Vf5Jj",
        "outputId": "a1f6922d-5a95-4eec-b9e0-733727b322b6",
        "colab": {
          "base_uri": "https://localhost:8080/"
        }
      },
      "source": [
        "times.info()"
      ],
      "execution_count": 154,
      "outputs": [
        {
          "output_type": "stream",
          "text": [
            "<class 'pandas.core.frame.DataFrame'>\n",
            "RangeIndex: 7939 entries, 0 to 7938\n",
            "Data columns (total 13 columns):\n",
            " #   Column                 Non-Null Count  Dtype \n",
            "---  ------                 --------------  ----- \n",
            " 0   Horário                7582 non-null   object\n",
            " 1   Dia                    7939 non-null   object\n",
            " 2   Data                   7939 non-null   object\n",
            " 3   Clube 1                7939 non-null   object\n",
            " 4   Clube 2                7939 non-null   object\n",
            " 5   Vencedor               7939 non-null   object\n",
            " 6   Rodada                 7939 non-null   object\n",
            " 7   Arena                  7939 non-null   object\n",
            " 8   Clube 1 Gols           7939 non-null   int64 \n",
            " 9   Clube 2 Gols           7939 non-null   int64 \n",
            " 10  Clube 1 Estado         7939 non-null   object\n",
            " 11  Clube 2 Estado         7939 non-null   object\n",
            " 12  Estado Clube Vencedor  7939 non-null   object\n",
            "dtypes: int64(2), object(11)\n",
            "memory usage: 806.4+ KB\n"
          ],
          "name": "stdout"
        }
      ]
    },
    {
      "cell_type": "markdown",
      "metadata": {
        "id": "zCnDaoEsyiNt"
      },
      "source": [
        "#### Renomeando colunas"
      ]
    },
    {
      "cell_type": "code",
      "metadata": {
        "id": "ayqjmuPygkk4",
        "outputId": "93358dae-6840-4c60-ed3f-8a7c57c39a55",
        "colab": {
          "base_uri": "https://localhost:8080/",
          "height": 197
        }
      },
      "source": [
        "times = times.rename(columns={'Clube 1':'Mandante','Clube 2':'Visitante','Clube 1 Gols':'MandanteGols','Clube 2 Gols':'VisitanteGols'})\n",
        "times.head()"
      ],
      "execution_count": 155,
      "outputs": [
        {
          "output_type": "execute_result",
          "data": {
            "text/html": [
              "<div>\n",
              "<style scoped>\n",
              "    .dataframe tbody tr th:only-of-type {\n",
              "        vertical-align: middle;\n",
              "    }\n",
              "\n",
              "    .dataframe tbody tr th {\n",
              "        vertical-align: top;\n",
              "    }\n",
              "\n",
              "    .dataframe thead th {\n",
              "        text-align: right;\n",
              "    }\n",
              "</style>\n",
              "<table border=\"1\" class=\"dataframe\">\n",
              "  <thead>\n",
              "    <tr style=\"text-align: right;\">\n",
              "      <th></th>\n",
              "      <th>Horário</th>\n",
              "      <th>Dia</th>\n",
              "      <th>Data</th>\n",
              "      <th>Mandante</th>\n",
              "      <th>Visitante</th>\n",
              "      <th>Vencedor</th>\n",
              "      <th>Rodada</th>\n",
              "      <th>Arena</th>\n",
              "      <th>MandanteGols</th>\n",
              "      <th>VisitanteGols</th>\n",
              "      <th>Clube 1 Estado</th>\n",
              "      <th>Clube 2 Estado</th>\n",
              "      <th>Estado Clube Vencedor</th>\n",
              "    </tr>\n",
              "  </thead>\n",
              "  <tbody>\n",
              "    <tr>\n",
              "      <th>0</th>\n",
              "      <td>16h00</td>\n",
              "      <td>Sábado</td>\n",
              "      <td>2000-07-29</td>\n",
              "      <td>Fluminense</td>\n",
              "      <td>Bahia</td>\n",
              "      <td>Fluminense</td>\n",
              "      <td>1ª Rodada</td>\n",
              "      <td>Maracanã</td>\n",
              "      <td>2</td>\n",
              "      <td>0</td>\n",
              "      <td>RJ</td>\n",
              "      <td>BA</td>\n",
              "      <td>RJ</td>\n",
              "    </tr>\n",
              "    <tr>\n",
              "      <th>1</th>\n",
              "      <td>16h00</td>\n",
              "      <td>Sábado</td>\n",
              "      <td>2000-07-29</td>\n",
              "      <td>Vasco</td>\n",
              "      <td>Sport</td>\n",
              "      <td>Sport</td>\n",
              "      <td>1ª Rodada</td>\n",
              "      <td>São Januário</td>\n",
              "      <td>0</td>\n",
              "      <td>2</td>\n",
              "      <td>RJ</td>\n",
              "      <td>PE</td>\n",
              "      <td>PE</td>\n",
              "    </tr>\n",
              "    <tr>\n",
              "      <th>2</th>\n",
              "      <td>16h00</td>\n",
              "      <td>Sábado</td>\n",
              "      <td>2000-07-29</td>\n",
              "      <td>Vitória</td>\n",
              "      <td>Palmeiras</td>\n",
              "      <td>Vitória</td>\n",
              "      <td>1ª Rodada</td>\n",
              "      <td>Barradão</td>\n",
              "      <td>4</td>\n",
              "      <td>1</td>\n",
              "      <td>ES</td>\n",
              "      <td>SP</td>\n",
              "      <td>ES</td>\n",
              "    </tr>\n",
              "    <tr>\n",
              "      <th>3</th>\n",
              "      <td>17h00</td>\n",
              "      <td>Domingo</td>\n",
              "      <td>2000-07-30</td>\n",
              "      <td>Botafogo-RJ</td>\n",
              "      <td>Atlético-MG</td>\n",
              "      <td>-</td>\n",
              "      <td>1ª Rodada</td>\n",
              "      <td>Caio Martins</td>\n",
              "      <td>0</td>\n",
              "      <td>0</td>\n",
              "      <td>RJ</td>\n",
              "      <td>MG</td>\n",
              "      <td>Empate</td>\n",
              "    </tr>\n",
              "    <tr>\n",
              "      <th>4</th>\n",
              "      <td>18h30</td>\n",
              "      <td>Domingo</td>\n",
              "      <td>2000-07-30</td>\n",
              "      <td>Juventude</td>\n",
              "      <td>Flamengo</td>\n",
              "      <td>-</td>\n",
              "      <td>1ª Rodada</td>\n",
              "      <td>Alfredo Jaconi</td>\n",
              "      <td>1</td>\n",
              "      <td>1</td>\n",
              "      <td>RS</td>\n",
              "      <td>RJ</td>\n",
              "      <td>Empate</td>\n",
              "    </tr>\n",
              "  </tbody>\n",
              "</table>\n",
              "</div>"
            ],
            "text/plain": [
              "  Horário      Dia  ... Clube 2 Estado Estado Clube Vencedor\n",
              "0   16h00   Sábado  ...             BA                    RJ\n",
              "1   16h00   Sábado  ...             PE                    PE\n",
              "2   16h00   Sábado  ...             SP                    ES\n",
              "3   17h00  Domingo  ...             MG                Empate\n",
              "4   18h30  Domingo  ...             RJ                Empate\n",
              "\n",
              "[5 rows x 13 columns]"
            ]
          },
          "metadata": {
            "tags": []
          },
          "execution_count": 155
        }
      ]
    },
    {
      "cell_type": "code",
      "metadata": {
        "id": "zGypXG8FgFry",
        "outputId": "e1616e1b-dc93-4397-e093-68c47a99e475",
        "colab": {
          "base_uri": "https://localhost:8080/",
          "height": 287
        }
      },
      "source": [
        "times.describe()"
      ],
      "execution_count": 156,
      "outputs": [
        {
          "output_type": "execute_result",
          "data": {
            "text/html": [
              "<div>\n",
              "<style scoped>\n",
              "    .dataframe tbody tr th:only-of-type {\n",
              "        vertical-align: middle;\n",
              "    }\n",
              "\n",
              "    .dataframe tbody tr th {\n",
              "        vertical-align: top;\n",
              "    }\n",
              "\n",
              "    .dataframe thead th {\n",
              "        text-align: right;\n",
              "    }\n",
              "</style>\n",
              "<table border=\"1\" class=\"dataframe\">\n",
              "  <thead>\n",
              "    <tr style=\"text-align: right;\">\n",
              "      <th></th>\n",
              "      <th>MandanteGols</th>\n",
              "      <th>VisitanteGols</th>\n",
              "    </tr>\n",
              "  </thead>\n",
              "  <tbody>\n",
              "    <tr>\n",
              "      <th>count</th>\n",
              "      <td>7939.000000</td>\n",
              "      <td>7939.000000</td>\n",
              "    </tr>\n",
              "    <tr>\n",
              "      <th>mean</th>\n",
              "      <td>1.596801</td>\n",
              "      <td>1.052526</td>\n",
              "    </tr>\n",
              "    <tr>\n",
              "      <th>std</th>\n",
              "      <td>1.251372</td>\n",
              "      <td>1.039719</td>\n",
              "    </tr>\n",
              "    <tr>\n",
              "      <th>min</th>\n",
              "      <td>0.000000</td>\n",
              "      <td>0.000000</td>\n",
              "    </tr>\n",
              "    <tr>\n",
              "      <th>25%</th>\n",
              "      <td>1.000000</td>\n",
              "      <td>0.000000</td>\n",
              "    </tr>\n",
              "    <tr>\n",
              "      <th>50%</th>\n",
              "      <td>1.000000</td>\n",
              "      <td>1.000000</td>\n",
              "    </tr>\n",
              "    <tr>\n",
              "      <th>75%</th>\n",
              "      <td>2.000000</td>\n",
              "      <td>2.000000</td>\n",
              "    </tr>\n",
              "    <tr>\n",
              "      <th>max</th>\n",
              "      <td>7.000000</td>\n",
              "      <td>7.000000</td>\n",
              "    </tr>\n",
              "  </tbody>\n",
              "</table>\n",
              "</div>"
            ],
            "text/plain": [
              "       MandanteGols  VisitanteGols\n",
              "count   7939.000000    7939.000000\n",
              "mean       1.596801       1.052526\n",
              "std        1.251372       1.039719\n",
              "min        0.000000       0.000000\n",
              "25%        1.000000       0.000000\n",
              "50%        1.000000       1.000000\n",
              "75%        2.000000       2.000000\n",
              "max        7.000000       7.000000"
            ]
          },
          "metadata": {
            "tags": []
          },
          "execution_count": 156
        }
      ]
    },
    {
      "cell_type": "markdown",
      "metadata": {
        "id": "KfUePsY2y1r6"
      },
      "source": [
        "#### Definindo colunas interessantes ao modelo"
      ]
    },
    {
      "cell_type": "code",
      "metadata": {
        "id": "DuKFbYmSiM69"
      },
      "source": [
        "entradas = ['Data','Mandante','Visitante','MandanteGols','VisitanteGols','Vencedor','Rodada']\n",
        "df_entradas = times[entradas]"
      ],
      "execution_count": 157,
      "outputs": []
    },
    {
      "cell_type": "markdown",
      "metadata": {
        "id": "8pkfyiSRzNlO"
      },
      "source": [
        "#### Transformando a coluna Data para datetime e criando uma coluna apenas com o ano "
      ]
    },
    {
      "cell_type": "code",
      "metadata": {
        "id": "b8kYUcEwnJ31",
        "outputId": "2d1cab84-584a-4473-eeba-740fa41812f2",
        "colab": {
          "base_uri": "https://localhost:8080/"
        }
      },
      "source": [
        "df_entradas['Data']= pd.to_datetime(df_entradas['Data'],format='%Y/%m/%d')\n",
        "df_entradas['Ano'] = df_entradas['Data'].dt.year\n",
        "df_entradas.info()"
      ],
      "execution_count": 158,
      "outputs": [
        {
          "output_type": "stream",
          "text": [
            "<class 'pandas.core.frame.DataFrame'>\n",
            "RangeIndex: 7939 entries, 0 to 7938\n",
            "Data columns (total 8 columns):\n",
            " #   Column         Non-Null Count  Dtype         \n",
            "---  ------         --------------  -----         \n",
            " 0   Data           7939 non-null   datetime64[ns]\n",
            " 1   Mandante       7939 non-null   object        \n",
            " 2   Visitante      7939 non-null   object        \n",
            " 3   MandanteGols   7939 non-null   int64         \n",
            " 4   VisitanteGols  7939 non-null   int64         \n",
            " 5   Vencedor       7939 non-null   object        \n",
            " 6   Rodada         7939 non-null   object        \n",
            " 7   Ano            7939 non-null   int64         \n",
            "dtypes: datetime64[ns](1), int64(3), object(4)\n",
            "memory usage: 496.3+ KB\n"
          ],
          "name": "stdout"
        },
        {
          "output_type": "stream",
          "text": [
            "/usr/local/lib/python3.6/dist-packages/ipykernel_launcher.py:1: SettingWithCopyWarning: \n",
            "A value is trying to be set on a copy of a slice from a DataFrame.\n",
            "Try using .loc[row_indexer,col_indexer] = value instead\n",
            "\n",
            "See the caveats in the documentation: https://pandas.pydata.org/pandas-docs/stable/user_guide/indexing.html#returning-a-view-versus-a-copy\n",
            "  \"\"\"Entry point for launching an IPython kernel.\n",
            "/usr/local/lib/python3.6/dist-packages/ipykernel_launcher.py:2: SettingWithCopyWarning: \n",
            "A value is trying to be set on a copy of a slice from a DataFrame.\n",
            "Try using .loc[row_indexer,col_indexer] = value instead\n",
            "\n",
            "See the caveats in the documentation: https://pandas.pydata.org/pandas-docs/stable/user_guide/indexing.html#returning-a-view-versus-a-copy\n",
            "  \n"
          ],
          "name": "stderr"
        }
      ]
    },
    {
      "cell_type": "markdown",
      "metadata": {
        "id": "GzmpbVYxzeqR"
      },
      "source": [
        "#### Obtendo a média de gols feitos e sofridos por temporada "
      ]
    },
    {
      "cell_type": "code",
      "metadata": {
        "id": "tD55jD6Asjou",
        "outputId": "6cf2445b-7acc-4df5-c7cc-04b7c7f7dcae",
        "colab": {
          "base_uri": "https://localhost:8080/"
        }
      },
      "source": [
        "avgMandanteTemporada = df_entradas.groupby(['Mandante','Ano'])['MandanteGols'].mean().reset_index()\n",
        "avgVisitanteTemporada = df_entradas.groupby(['Visitante','Ano'])['VisitanteGols'].mean().reset_index()\n",
        "\n",
        "avgMandanteTemporada = avgMandanteTemporada.rename(columns={'MandanteGols':'avgGFMandante'})\n",
        "avgVisitanteTemporada = avgVisitanteTemporada.rename(columns={'VisitanteGols':'avgGFVisitante'})\n",
        "\n",
        "\n",
        "print(avgMandanteTemporada)\n",
        "print(avgVisitanteTemporada)"
      ],
      "execution_count": 159,
      "outputs": [
        {
          "output_type": "stream",
          "text": [
            "       Mandante   Ano  avgGFMandante\n",
            "0    América-MG  2000       1.500000\n",
            "1    América-MG  2001       1.214286\n",
            "2    América-MG  2011       1.736842\n",
            "3    América-MG  2016       0.684211\n",
            "4    América-MG  2018       1.157895\n",
            "..          ...   ...            ...\n",
            "449     Vitória  2013       1.684211\n",
            "450     Vitória  2014       1.210526\n",
            "451     Vitória  2016       1.578947\n",
            "452     Vitória  2017       1.157895\n",
            "453     Vitória  2018       1.157895\n",
            "\n",
            "[454 rows x 3 columns]\n",
            "      Visitante   Ano  avgGFVisitante\n",
            "0    América-MG  2000        0.666667\n",
            "1    América-MG  2001        1.153846\n",
            "2    América-MG  2011        0.947368\n",
            "3    América-MG  2016        0.526316\n",
            "4    América-MG  2018        0.421053\n",
            "..          ...   ...             ...\n",
            "452     Vitória  2014        0.736842\n",
            "453     Vitória  2016        1.105263\n",
            "454     Vitória  2017        1.473684\n",
            "455     Vitória  2018        0.736842\n",
            "456  portuguesa  2001        1.000000\n",
            "\n",
            "[457 rows x 3 columns]\n"
          ],
          "name": "stdout"
        }
      ]
    },
    {
      "cell_type": "code",
      "metadata": {
        "id": "COAFzdam_2gx",
        "outputId": "0d3bdd4b-1cf7-49b9-ed4d-1a8f45886d91",
        "colab": {
          "base_uri": "https://localhost:8080/"
        }
      },
      "source": [
        "avgGSMandanteTemporada = df_entradas.groupby(['Ano','Mandante'])['VisitanteGols'].mean().reset_index()\n",
        "avgGSVisitanteTemporada = df_entradas.groupby(['Ano','Visitante'])['MandanteGols'].mean().reset_index()\n",
        "\n",
        "avgGSMandanteTemporada = avgGSMandanteTemporada.rename(columns={'VisitanteGols':'avgGSMandante'})\n",
        "avgGSVisitanteTemporada = avgGSVisitanteTemporada.rename(columns={'MandanteGols':'avgGSVisitante'})\n",
        "\n",
        "\n",
        "print(avgGSMandanteTemporada)\n",
        "print(avgGSVisitanteTemporada)"
      ],
      "execution_count": 160,
      "outputs": [
        {
          "output_type": "stream",
          "text": [
            "      Ano       Mandante  avgGSMandante\n",
            "0    2000     América-MG       0.916667\n",
            "1    2000   Athlético-PR       1.000000\n",
            "2    2000    Atlético-MG       1.692308\n",
            "3    2000          BAHIA       3.000000\n",
            "4    2000          Bahia       1.230769\n",
            "..    ...            ...            ...\n",
            "449  2019  Internacional       0.789474\n",
            "450  2019      Palmeiras       0.684211\n",
            "451  2019         Santos       0.789474\n",
            "452  2019      São Paulo       0.631579\n",
            "453  2019          Vasco       1.157895\n",
            "\n",
            "[454 rows x 3 columns]\n",
            "      Ano      Visitante  avgGSVisitante\n",
            "0    2000     América-MG        2.000000\n",
            "1    2000   Athlético-PR        1.307692\n",
            "2    2000    Atlético-MG        1.818182\n",
            "3    2000          BAHIA        3.000000\n",
            "4    2000          Bahia        1.363636\n",
            "..    ...            ...             ...\n",
            "452  2019  Internacional        1.263158\n",
            "453  2019      Palmeiras        1.000000\n",
            "454  2019         Santos        0.947368\n",
            "455  2019      São Paulo        0.947368\n",
            "456  2019          Vasco        1.210526\n",
            "\n",
            "[457 rows x 3 columns]\n"
          ],
          "name": "stdout"
        }
      ]
    },
    {
      "cell_type": "markdown",
      "metadata": {
        "id": "GzmahA7t0Da9"
      },
      "source": [
        "#### Obtendo o Total de vitórias \n",
        "> Verifiquei que essa feature  não influencia positivamente o modelo."
      ]
    },
    {
      "cell_type": "code",
      "metadata": {
        "id": "y9tv5omsHscW",
        "outputId": "bfafe09e-317e-4aea-e295-6a6364b12b5f",
        "colab": {
          "base_uri": "https://localhost:8080/"
        }
      },
      "source": [
        "nVitoriasM = df_entradas.loc[df_entradas['Vencedor'] == df_entradas['Mandante']]\n",
        "nVitoriasM = nVitoriasM.groupby(['Ano'])['Vencedor'].value_counts().to_frame(name='nVitoriasM')\n",
        "nVitoriasM = nVitoriasM.reset_index(level=['Ano','Vencedor'])\n",
        "print(nVitoriasM)\n"
      ],
      "execution_count": 97,
      "outputs": [
        {
          "output_type": "stream",
          "text": [
            "      Ano     Vencedor  nVitoriasM\n",
            "0    2000   Fluminense           9\n",
            "1    2000  Ponte Preta           9\n",
            "2    2000        Bahia           8\n",
            "3    2000       Grêmio           8\n",
            "4    2000   Portuguesa           8\n",
            "..    ...          ...         ...\n",
            "440  2019          CSA           6\n",
            "441  2019   Fluminense           6\n",
            "442  2019     Cruzeiro           5\n",
            "443  2019  Chapecoense           4\n",
            "444  2019         Avaí           1\n",
            "\n",
            "[445 rows x 3 columns]\n"
          ],
          "name": "stdout"
        }
      ]
    },
    {
      "cell_type": "code",
      "metadata": {
        "id": "rEmZAK8bUyfF",
        "outputId": "717e4584-fd84-49b0-a97f-acf147653142",
        "colab": {
          "base_uri": "https://localhost:8080/"
        }
      },
      "source": [
        "nVitoriasV = df_entradas.loc[df_entradas['Vencedor'] == df_entradas['Visitante']]\n",
        "nVitoriasV = nVitoriasV.groupby(['Ano'])['Vencedor'].value_counts().to_frame(name='nVitoriasV')\n",
        "nVitoriasV = nVitoriasV.reset_index(level=['Ano','Vencedor'])\n",
        "print(nVitoriasV)"
      ],
      "execution_count": 98,
      "outputs": [
        {
          "output_type": "stream",
          "text": [
            "      Ano      Vencedor  nVitoriasV\n",
            "0    2000     Palmeiras           6\n",
            "1    2000  Athlético-PR           5\n",
            "2    2000      Cruzeiro           5\n",
            "3    2000         Goiás           4\n",
            "4    2000        Grêmio           4\n",
            "..    ...           ...         ...\n",
            "430  2019   Chapecoense           3\n",
            "431  2019          Avaí           2\n",
            "432  2019           CSA           2\n",
            "433  2019         Ceará           2\n",
            "434  2019      Cruzeiro           2\n",
            "\n",
            "[435 rows x 3 columns]\n"
          ],
          "name": "stdout"
        }
      ]
    },
    {
      "cell_type": "markdown",
      "metadata": {
        "id": "uzUkf2ETWKfY"
      },
      "source": [
        "#### Obetendo Total de gols marcados nos últimos 5 jogos."
      ]
    },
    {
      "cell_type": "code",
      "metadata": {
        "id": "k_37zmoTUJNA",
        "outputId": "d321aa00-7f1b-46de-99b8-728943f47f67",
        "colab": {
          "base_uri": "https://localhost:8080/"
        }
      },
      "source": [
        "# Total de gols marcados útimos 3 jogos Mandante\n",
        "df_entradas['nGF_U3_Mandante'] = (df_entradas.groupby(['Ano','Mandante'])['MandanteGols'].shift(1) + \n",
        "df_entradas.groupby(['Ano','Mandante'])['MandanteGols'].shift(2) +\n",
        "df_entradas.groupby(['Ano','Mandante'])['MandanteGols'].shift(3)+\n",
        "df_entradas.groupby(['Ano','Mandante'])['MandanteGols'].shift(4)+\n",
        "df_entradas.groupby(['Ano','Mandante'])['MandanteGols'].shift(5)\n",
        ")\n",
        "\n",
        "# Total dos gols marcados útimos 3 jogos Visitante\n",
        "df_entradas['nGF_U3_Visitante'] = (df_entradas.groupby(['Ano','Visitante'])['VisitanteGols'].shift(1) + \n",
        "df_entradas.groupby(['Ano','Visitante'])['VisitanteGols'].shift(2) +\n",
        "df_entradas.groupby(['Ano','Visitante'])['VisitanteGols'].shift(3)+\n",
        "df_entradas.groupby(['Ano','Visitante'])['VisitanteGols'].shift(4)+\n",
        "df_entradas.groupby(['Ano','Visitante'])['VisitanteGols'].shift(5)\n",
        ")\n",
        "\n",
        "# Total de  gols sofridos ultimos 3 jogos Mandante\n",
        "df_entradas['nGS_U3_Mandante'] = (df_entradas.groupby(['Ano','Mandante'])['VisitanteGols'].shift(1) + \n",
        "df_entradas.groupby(['Ano','Mandante'])['VisitanteGols'].shift(2) +\n",
        "df_entradas.groupby(['Ano','Mandante'])['VisitanteGols'].shift(3)+\n",
        "df_entradas.groupby(['Ano','Mandante'])['VisitanteGols'].shift(4)+\n",
        "df_entradas.groupby(['Ano','Mandante'])['VisitanteGols'].shift(5)\n",
        ")\n",
        "\n",
        "# Total de  gols sofridos ultimos 3 jogos Visitante\n",
        "df_entradas['nGS_U3_Visitante'] = (df_entradas.groupby(['Ano','Visitante'])['MandanteGols'].shift(1) + \n",
        "df_entradas.groupby(['Ano','Visitante'])['MandanteGols'].shift(2) +\n",
        "df_entradas.groupby(['Ano','Visitante'])['MandanteGols'].shift(3) +\n",
        "df_entradas.groupby(['Ano','Visitante'])['MandanteGols'].shift(4) +\n",
        "df_entradas.groupby(['Ano','Visitante'])['MandanteGols'].shift(5) \n",
        ")\n",
        "\n",
        "\n",
        "df_entradas.info()"
      ],
      "execution_count": 161,
      "outputs": [
        {
          "output_type": "stream",
          "text": [
            "<class 'pandas.core.frame.DataFrame'>\n",
            "RangeIndex: 7939 entries, 0 to 7938\n",
            "Data columns (total 12 columns):\n",
            " #   Column            Non-Null Count  Dtype         \n",
            "---  ------            --------------  -----         \n",
            " 0   Data              7939 non-null   datetime64[ns]\n",
            " 1   Mandante          7939 non-null   object        \n",
            " 2   Visitante         7939 non-null   object        \n",
            " 3   MandanteGols      7939 non-null   int64         \n",
            " 4   VisitanteGols     7939 non-null   int64         \n",
            " 5   Vencedor          7939 non-null   object        \n",
            " 6   Rodada            7939 non-null   object        \n",
            " 7   Ano               7939 non-null   int64         \n",
            " 8   nGF_U3_Mandante   5753 non-null   float64       \n",
            " 9   nGF_U3_Visitante  5750 non-null   float64       \n",
            " 10  nGS_U3_Mandante   5753 non-null   float64       \n",
            " 11  nGS_U3_Visitante  5750 non-null   float64       \n",
            "dtypes: datetime64[ns](1), float64(4), int64(3), object(4)\n",
            "memory usage: 744.4+ KB\n"
          ],
          "name": "stdout"
        },
        {
          "output_type": "stream",
          "text": [
            "/usr/local/lib/python3.6/dist-packages/ipykernel_launcher.py:6: SettingWithCopyWarning: \n",
            "A value is trying to be set on a copy of a slice from a DataFrame.\n",
            "Try using .loc[row_indexer,col_indexer] = value instead\n",
            "\n",
            "See the caveats in the documentation: https://pandas.pydata.org/pandas-docs/stable/user_guide/indexing.html#returning-a-view-versus-a-copy\n",
            "  \n",
            "/usr/local/lib/python3.6/dist-packages/ipykernel_launcher.py:14: SettingWithCopyWarning: \n",
            "A value is trying to be set on a copy of a slice from a DataFrame.\n",
            "Try using .loc[row_indexer,col_indexer] = value instead\n",
            "\n",
            "See the caveats in the documentation: https://pandas.pydata.org/pandas-docs/stable/user_guide/indexing.html#returning-a-view-versus-a-copy\n",
            "  \n",
            "/usr/local/lib/python3.6/dist-packages/ipykernel_launcher.py:22: SettingWithCopyWarning: \n",
            "A value is trying to be set on a copy of a slice from a DataFrame.\n",
            "Try using .loc[row_indexer,col_indexer] = value instead\n",
            "\n",
            "See the caveats in the documentation: https://pandas.pydata.org/pandas-docs/stable/user_guide/indexing.html#returning-a-view-versus-a-copy\n",
            "/usr/local/lib/python3.6/dist-packages/ipykernel_launcher.py:30: SettingWithCopyWarning: \n",
            "A value is trying to be set on a copy of a slice from a DataFrame.\n",
            "Try using .loc[row_indexer,col_indexer] = value instead\n",
            "\n",
            "See the caveats in the documentation: https://pandas.pydata.org/pandas-docs/stable/user_guide/indexing.html#returning-a-view-versus-a-copy\n"
          ],
          "name": "stderr"
        }
      ]
    },
    {
      "cell_type": "markdown",
      "metadata": {
        "id": "bHeQKbMn0TxF"
      },
      "source": [
        "#### Colocando Variaveis no DataFrame "
      ]
    },
    {
      "cell_type": "code",
      "metadata": {
        "id": "8b_2l8J90CyT",
        "outputId": "4c9960ae-945d-4db6-d1d0-ac2b3cec5df1",
        "colab": {
          "base_uri": "https://localhost:8080/"
        }
      },
      "source": [
        "\n",
        "df_entradas =pd.merge(avgMandanteTemporada,df_entradas) \n",
        "df_entradas =pd.merge (avgVisitanteTemporada,df_entradas) \n",
        "\n",
        "\n",
        "df_entradas =pd.merge (avgGSMandanteTemporada,df_entradas)\n",
        "df_entradas =pd.merge (avgGSVisitanteTemporada,df_entradas)\n",
        "\n",
        "\n",
        "\n",
        "\n",
        "df_entradas.info()"
      ],
      "execution_count": 162,
      "outputs": [
        {
          "output_type": "stream",
          "text": [
            "<class 'pandas.core.frame.DataFrame'>\n",
            "Int64Index: 7939 entries, 0 to 7938\n",
            "Data columns (total 16 columns):\n",
            " #   Column            Non-Null Count  Dtype         \n",
            "---  ------            --------------  -----         \n",
            " 0   Ano               7939 non-null   int64         \n",
            " 1   Visitante         7939 non-null   object        \n",
            " 2   avgGSVisitante    7939 non-null   float64       \n",
            " 3   Mandante          7939 non-null   object        \n",
            " 4   avgGSMandante     7939 non-null   float64       \n",
            " 5   avgGFVisitante    7939 non-null   float64       \n",
            " 6   avgGFMandante     7939 non-null   float64       \n",
            " 7   Data              7939 non-null   datetime64[ns]\n",
            " 8   MandanteGols      7939 non-null   int64         \n",
            " 9   VisitanteGols     7939 non-null   int64         \n",
            " 10  Vencedor          7939 non-null   object        \n",
            " 11  Rodada            7939 non-null   object        \n",
            " 12  nGF_U3_Mandante   5753 non-null   float64       \n",
            " 13  nGF_U3_Visitante  5750 non-null   float64       \n",
            " 14  nGS_U3_Mandante   5753 non-null   float64       \n",
            " 15  nGS_U3_Visitante  5750 non-null   float64       \n",
            "dtypes: datetime64[ns](1), float64(8), int64(3), object(4)\n",
            "memory usage: 1.0+ MB\n"
          ],
          "name": "stdout"
        }
      ]
    },
    {
      "cell_type": "markdown",
      "metadata": {
        "id": "1ghfJvS-dETt"
      },
      "source": [
        "#### Eliminando valores nulos "
      ]
    },
    {
      "cell_type": "code",
      "metadata": {
        "id": "adM4kORGUNv7",
        "outputId": "b56c681e-0c41-44a5-890c-85032f9957ad",
        "colab": {
          "base_uri": "https://localhost:8080/"
        }
      },
      "source": [
        "df_entradas = df_entradas.loc[df_entradas['nGF_U3_Mandante'].notnull()]\n",
        "df_entradas = df_entradas.loc[df_entradas['nGF_U3_Visitante'].notnull()]\n",
        "\n",
        "df_entradas.info()"
      ],
      "execution_count": 163,
      "outputs": [
        {
          "output_type": "stream",
          "text": [
            "<class 'pandas.core.frame.DataFrame'>\n",
            "Int64Index: 5621 entries, 0 to 7938\n",
            "Data columns (total 16 columns):\n",
            " #   Column            Non-Null Count  Dtype         \n",
            "---  ------            --------------  -----         \n",
            " 0   Ano               5621 non-null   int64         \n",
            " 1   Visitante         5621 non-null   object        \n",
            " 2   avgGSVisitante    5621 non-null   float64       \n",
            " 3   Mandante          5621 non-null   object        \n",
            " 4   avgGSMandante     5621 non-null   float64       \n",
            " 5   avgGFVisitante    5621 non-null   float64       \n",
            " 6   avgGFMandante     5621 non-null   float64       \n",
            " 7   Data              5621 non-null   datetime64[ns]\n",
            " 8   MandanteGols      5621 non-null   int64         \n",
            " 9   VisitanteGols     5621 non-null   int64         \n",
            " 10  Vencedor          5621 non-null   object        \n",
            " 11  Rodada            5621 non-null   object        \n",
            " 12  nGF_U3_Mandante   5621 non-null   float64       \n",
            " 13  nGF_U3_Visitante  5621 non-null   float64       \n",
            " 14  nGS_U3_Mandante   5621 non-null   float64       \n",
            " 15  nGS_U3_Visitante  5621 non-null   float64       \n",
            "dtypes: datetime64[ns](1), float64(8), int64(3), object(4)\n",
            "memory usage: 746.5+ KB\n"
          ],
          "name": "stdout"
        }
      ]
    },
    {
      "cell_type": "code",
      "metadata": {
        "id": "3lyyOWCePXQ0",
        "outputId": "e6b20350-5495-4b56-e3a3-c2828ffdca0f",
        "colab": {
          "base_uri": "https://localhost:8080/",
          "height": 534
        }
      },
      "source": [
        "df_entradas.tail(10)"
      ],
      "execution_count": 164,
      "outputs": [
        {
          "output_type": "execute_result",
          "data": {
            "text/html": [
              "<div>\n",
              "<style scoped>\n",
              "    .dataframe tbody tr th:only-of-type {\n",
              "        vertical-align: middle;\n",
              "    }\n",
              "\n",
              "    .dataframe tbody tr th {\n",
              "        vertical-align: top;\n",
              "    }\n",
              "\n",
              "    .dataframe thead th {\n",
              "        text-align: right;\n",
              "    }\n",
              "</style>\n",
              "<table border=\"1\" class=\"dataframe\">\n",
              "  <thead>\n",
              "    <tr style=\"text-align: right;\">\n",
              "      <th></th>\n",
              "      <th>Ano</th>\n",
              "      <th>Visitante</th>\n",
              "      <th>avgGSVisitante</th>\n",
              "      <th>Mandante</th>\n",
              "      <th>avgGSMandante</th>\n",
              "      <th>avgGFVisitante</th>\n",
              "      <th>avgGFMandante</th>\n",
              "      <th>Data</th>\n",
              "      <th>MandanteGols</th>\n",
              "      <th>VisitanteGols</th>\n",
              "      <th>Vencedor</th>\n",
              "      <th>Rodada</th>\n",
              "      <th>nGF_U3_Mandante</th>\n",
              "      <th>nGF_U3_Visitante</th>\n",
              "      <th>nGS_U3_Mandante</th>\n",
              "      <th>nGS_U3_Visitante</th>\n",
              "    </tr>\n",
              "  </thead>\n",
              "  <tbody>\n",
              "    <tr>\n",
              "      <th>7926</th>\n",
              "      <td>2019</td>\n",
              "      <td>Vasco</td>\n",
              "      <td>1.210526</td>\n",
              "      <td>Ceará</td>\n",
              "      <td>0.736842</td>\n",
              "      <td>1.0</td>\n",
              "      <td>1.210526</td>\n",
              "      <td>2019-10-26</td>\n",
              "      <td>1</td>\n",
              "      <td>1</td>\n",
              "      <td>-</td>\n",
              "      <td>28ª Rodada</td>\n",
              "      <td>1.0</td>\n",
              "      <td>5.0</td>\n",
              "      <td>4.0</td>\n",
              "      <td>3.0</td>\n",
              "    </tr>\n",
              "    <tr>\n",
              "      <th>7927</th>\n",
              "      <td>2019</td>\n",
              "      <td>Vasco</td>\n",
              "      <td>1.210526</td>\n",
              "      <td>Chapecoense</td>\n",
              "      <td>1.157895</td>\n",
              "      <td>1.0</td>\n",
              "      <td>0.842105</td>\n",
              "      <td>2019-09-14</td>\n",
              "      <td>1</td>\n",
              "      <td>2</td>\n",
              "      <td>Vasco</td>\n",
              "      <td>19ª Rodada</td>\n",
              "      <td>3.0</td>\n",
              "      <td>3.0</td>\n",
              "      <td>4.0</td>\n",
              "      <td>5.0</td>\n",
              "    </tr>\n",
              "    <tr>\n",
              "      <th>7928</th>\n",
              "      <td>2019</td>\n",
              "      <td>Vasco</td>\n",
              "      <td>1.210526</td>\n",
              "      <td>Corinthians</td>\n",
              "      <td>0.684211</td>\n",
              "      <td>1.0</td>\n",
              "      <td>1.315789</td>\n",
              "      <td>2019-09-29</td>\n",
              "      <td>1</td>\n",
              "      <td>0</td>\n",
              "      <td>Corinthians</td>\n",
              "      <td>22ª Rodada</td>\n",
              "      <td>9.0</td>\n",
              "      <td>5.0</td>\n",
              "      <td>3.0</td>\n",
              "      <td>5.0</td>\n",
              "    </tr>\n",
              "    <tr>\n",
              "      <th>7929</th>\n",
              "      <td>2019</td>\n",
              "      <td>Vasco</td>\n",
              "      <td>1.210526</td>\n",
              "      <td>Cruzeiro</td>\n",
              "      <td>0.894737</td>\n",
              "      <td>1.0</td>\n",
              "      <td>0.684211</td>\n",
              "      <td>2019-09-01</td>\n",
              "      <td>1</td>\n",
              "      <td>0</td>\n",
              "      <td>Cruzeiro</td>\n",
              "      <td>17ª Rodada</td>\n",
              "      <td>3.0</td>\n",
              "      <td>4.0</td>\n",
              "      <td>4.0</td>\n",
              "      <td>5.0</td>\n",
              "    </tr>\n",
              "    <tr>\n",
              "      <th>7930</th>\n",
              "      <td>2019</td>\n",
              "      <td>Vasco</td>\n",
              "      <td>1.210526</td>\n",
              "      <td>Flamengo</td>\n",
              "      <td>0.947368</td>\n",
              "      <td>1.0</td>\n",
              "      <td>2.947368</td>\n",
              "      <td>2019-11-13</td>\n",
              "      <td>4</td>\n",
              "      <td>4</td>\n",
              "      <td>-</td>\n",
              "      <td>34ª Rodada</td>\n",
              "      <td>13.0</td>\n",
              "      <td>5.0</td>\n",
              "      <td>3.0</td>\n",
              "      <td>1.0</td>\n",
              "    </tr>\n",
              "    <tr>\n",
              "      <th>7931</th>\n",
              "      <td>2019</td>\n",
              "      <td>Vasco</td>\n",
              "      <td>1.210526</td>\n",
              "      <td>Fluminense</td>\n",
              "      <td>0.789474</td>\n",
              "      <td>1.0</td>\n",
              "      <td>0.947368</td>\n",
              "      <td>2019-11-02</td>\n",
              "      <td>0</td>\n",
              "      <td>0</td>\n",
              "      <td>-</td>\n",
              "      <td>30ª Rodada</td>\n",
              "      <td>7.0</td>\n",
              "      <td>4.0</td>\n",
              "      <td>5.0</td>\n",
              "      <td>3.0</td>\n",
              "    </tr>\n",
              "    <tr>\n",
              "      <th>7933</th>\n",
              "      <td>2019</td>\n",
              "      <td>Vasco</td>\n",
              "      <td>1.210526</td>\n",
              "      <td>Goiás</td>\n",
              "      <td>1.210526</td>\n",
              "      <td>1.0</td>\n",
              "      <td>1.631579</td>\n",
              "      <td>2019-08-11</td>\n",
              "      <td>0</td>\n",
              "      <td>1</td>\n",
              "      <td>Vasco</td>\n",
              "      <td>14ª Rodada</td>\n",
              "      <td>8.0</td>\n",
              "      <td>3.0</td>\n",
              "      <td>3.0</td>\n",
              "      <td>8.0</td>\n",
              "    </tr>\n",
              "    <tr>\n",
              "      <th>7935</th>\n",
              "      <td>2019</td>\n",
              "      <td>Vasco</td>\n",
              "      <td>1.210526</td>\n",
              "      <td>Internacional</td>\n",
              "      <td>0.789474</td>\n",
              "      <td>1.0</td>\n",
              "      <td>1.473684</td>\n",
              "      <td>2019-10-20</td>\n",
              "      <td>0</td>\n",
              "      <td>1</td>\n",
              "      <td>Vasco</td>\n",
              "      <td>27ª Rodada</td>\n",
              "      <td>6.0</td>\n",
              "      <td>4.0</td>\n",
              "      <td>3.0</td>\n",
              "      <td>4.0</td>\n",
              "    </tr>\n",
              "    <tr>\n",
              "      <th>7936</th>\n",
              "      <td>2019</td>\n",
              "      <td>Vasco</td>\n",
              "      <td>1.210526</td>\n",
              "      <td>Palmeiras</td>\n",
              "      <td>0.684211</td>\n",
              "      <td>1.0</td>\n",
              "      <td>2.105263</td>\n",
              "      <td>2019-07-27</td>\n",
              "      <td>1</td>\n",
              "      <td>1</td>\n",
              "      <td>-</td>\n",
              "      <td>12ª Rodada</td>\n",
              "      <td>12.0</td>\n",
              "      <td>3.0</td>\n",
              "      <td>0.0</td>\n",
              "      <td>11.0</td>\n",
              "    </tr>\n",
              "    <tr>\n",
              "      <th>7938</th>\n",
              "      <td>2019</td>\n",
              "      <td>Vasco</td>\n",
              "      <td>1.210526</td>\n",
              "      <td>São Paulo</td>\n",
              "      <td>0.631579</td>\n",
              "      <td>1.0</td>\n",
              "      <td>1.210526</td>\n",
              "      <td>2019-11-28</td>\n",
              "      <td>1</td>\n",
              "      <td>0</td>\n",
              "      <td>São Paulo</td>\n",
              "      <td>35ª Rodada</td>\n",
              "      <td>4.0</td>\n",
              "      <td>9.0</td>\n",
              "      <td>3.0</td>\n",
              "      <td>5.0</td>\n",
              "    </tr>\n",
              "  </tbody>\n",
              "</table>\n",
              "</div>"
            ],
            "text/plain": [
              "       Ano Visitante  ...  nGS_U3_Mandante nGS_U3_Visitante\n",
              "7926  2019     Vasco  ...              4.0              3.0\n",
              "7927  2019     Vasco  ...              4.0              5.0\n",
              "7928  2019     Vasco  ...              3.0              5.0\n",
              "7929  2019     Vasco  ...              4.0              5.0\n",
              "7930  2019     Vasco  ...              3.0              1.0\n",
              "7931  2019     Vasco  ...              5.0              3.0\n",
              "7933  2019     Vasco  ...              3.0              8.0\n",
              "7935  2019     Vasco  ...              3.0              4.0\n",
              "7936  2019     Vasco  ...              0.0             11.0\n",
              "7938  2019     Vasco  ...              3.0              5.0\n",
              "\n",
              "[10 rows x 16 columns]"
            ]
          },
          "metadata": {
            "tags": []
          },
          "execution_count": 164
        }
      ]
    },
    {
      "cell_type": "markdown",
      "metadata": {
        "id": "OHKe4HCp3tff"
      },
      "source": [
        "#### Criando a variavel total de gols, e redividindo-a em intervalos.(obtendo saída)\n",
        "> Para Total de gols menor ou igual a 3, {x = 0}\n",
        "\n",
        "> Para Total de gols maior que 3, {x = 1}"
      ]
    },
    {
      "cell_type": "code",
      "metadata": {
        "id": "a_HfkJCWIHAK",
        "outputId": "2878f17c-cff3-454f-8da2-f24dc0f8726a",
        "colab": {
          "base_uri": "https://localhost:8080/",
          "height": 282
        }
      },
      "source": [
        "df_entradas['total_gols'] = df_entradas['MandanteGols'] + df_entradas['VisitanteGols']\n",
        "df_entradas.total_gols.plot(kind='hist')"
      ],
      "execution_count": 165,
      "outputs": [
        {
          "output_type": "execute_result",
          "data": {
            "text/plain": [
              "<matplotlib.axes._subplots.AxesSubplot at 0x7f702fee9ef0>"
            ]
          },
          "metadata": {
            "tags": []
          },
          "execution_count": 165
        },
        {
          "output_type": "display_data",
          "data": {
            "image/png": "[encoded data removed]",
            "text/plain": [
              "<Figure size 432x288 with 1 Axes>"
            ]
          },
          "metadata": {
            "tags": [],
            "needs_background": "light"
          }
        }
      ]
    },
    {
      "cell_type": "code",
      "metadata": {
        "id": "s5aPtaqOIj7R",
        "outputId": "28f7c17d-73f1-4ad7-8576-4bd95a71e070",
        "colab": {
          "base_uri": "https://localhost:8080/",
          "height": 624
        }
      },
      "source": [
        "#matriz de correlação plotada\n",
        "plt.figure(figsize=(12,9))\n",
        "matriz_correlacao=df_entradas.corr()\n",
        "sns.heatmap(matriz_correlacao, annot=True)\n",
        "plt.show()"
      ],
      "execution_count": 166,
      "outputs": [
        {
          "output_type": "display_data",
          "data": {
            "image/png": "[encoded data removed]",
            "text/plain": [
              "<Figure size 864x648 with 2 Axes>"
            ]
          },
          "metadata": {
            "tags": [],
            "needs_background": "light"
          }
        }
      ]
    },
    {
      "cell_type": "code",
      "metadata": {
        "id": "PWv_G0qaE_AR",
        "outputId": "5f854ea0-4dd3-4f68-9e6c-c5ba098d6b95",
        "colab": {
          "base_uri": "https://localhost:8080/"
        }
      },
      "source": [
        "# dividindo  em intervalos \n",
        "df_entradas['faixa_degols'] = df_entradas['total_gols'].apply(lambda x: 0 if x<=3 else 1)\n",
        "df_entradas['faixa_degols'].value_counts()\n",
        "                                                          "
      ],
      "execution_count": 167,
      "outputs": [
        {
          "output_type": "execute_result",
          "data": {
            "text/plain": [
              "0    4058\n",
              "1    1563\n",
              "Name: faixa_degols, dtype: int64"
            ]
          },
          "metadata": {
            "tags": []
          },
          "execution_count": 167
        }
      ]
    },
    {
      "cell_type": "markdown",
      "metadata": {
        "id": "ddoJ3FYO42yA"
      },
      "source": [
        "#### Dividindo os dados para entrada 'X' e saída 'y'"
      ]
    },
    {
      "cell_type": "code",
      "metadata": {
        "id": "a8EjVM5QF-dk"
      },
      "source": [
        "X = df_entradas[['avgGFMandante','avgGFVisitante','avgGSMandante','avgGSVisitante','nGF_U3_Mandante','nGS_U3_Mandante','nGF_U3_Visitante','nGS_U3_Visitante'\n",
        "                  ]]\n",
        "y = df_entradas['faixa_degols']"
      ],
      "execution_count": 169,
      "outputs": []
    },
    {
      "cell_type": "markdown",
      "metadata": {
        "id": "sap6qWqNPl3a"
      },
      "source": [
        "#### Tratando desbalanceamento "
      ]
    },
    {
      "cell_type": "code",
      "metadata": {
        "id": "8KbdJUF8HnWt",
        "outputId": "507289ad-1522-4bf2-e2d6-c193221cdecb",
        "colab": {
          "base_uri": "https://localhost:8080/"
        }
      },
      "source": [
        "from imblearn.under_sampling import NearMiss\n",
        "nr = NearMiss()\n",
        "X, y = nr.fit_sample(X, y)\n",
        "np.bincount(y)"
      ],
      "execution_count": 170,
      "outputs": [
        {
          "output_type": "stream",
          "text": [
            "/usr/local/lib/python3.6/dist-packages/sklearn/utils/deprecation.py:87: FutureWarning: Function safe_indexing is deprecated; safe_indexing is deprecated in version 0.22 and will be removed in version 0.24.\n",
            "  warnings.warn(msg, category=FutureWarning)\n",
            "/usr/local/lib/python3.6/dist-packages/sklearn/utils/deprecation.py:87: FutureWarning: Function safe_indexing is deprecated; safe_indexing is deprecated in version 0.22 and will be removed in version 0.24.\n",
            "  warnings.warn(msg, category=FutureWarning)\n",
            "/usr/local/lib/python3.6/dist-packages/sklearn/utils/deprecation.py:87: FutureWarning: Function safe_indexing is deprecated; safe_indexing is deprecated in version 0.22 and will be removed in version 0.24.\n",
            "  warnings.warn(msg, category=FutureWarning)\n"
          ],
          "name": "stderr"
        },
        {
          "output_type": "execute_result",
          "data": {
            "text/plain": [
              "array([1563, 1563])"
            ]
          },
          "metadata": {
            "tags": []
          },
          "execution_count": 170
        }
      ]
    },
    {
      "cell_type": "markdown",
      "metadata": {
        "id": "9xIiNfgg5Epe"
      },
      "source": [
        "#### Efetuando normalização dos dados"
      ]
    },
    {
      "cell_type": "code",
      "metadata": {
        "id": "ii3Ml1r_GwNv"
      },
      "source": [
        "#importando o preprocessamento com o MinMax\n",
        "from sklearn.preprocessing import MinMaxScaler\n",
        "sc_X = MinMaxScaler()\n",
        "X_escaler = sc_X.fit_transform(X)\n"
      ],
      "execution_count": 171,
      "outputs": []
    },
    {
      "cell_type": "markdown",
      "metadata": {
        "id": "yCVOItVt5NMm"
      },
      "source": [
        "#### Dividindo dados para treino e teste (Validação cruzada)"
      ]
    },
    {
      "cell_type": "code",
      "metadata": {
        "id": "LDOT-rehGyi1"
      },
      "source": [
        "from sklearn.model_selection import train_test_split\n",
        "X_train, X_test, y_train, y_test = train_test_split(X_escaler, y, test_size=0.3, random_state=0)"
      ],
      "execution_count": 172,
      "outputs": []
    },
    {
      "cell_type": "markdown",
      "metadata": {
        "id": "52Zfpnop5ZRI"
      },
      "source": [
        "#### Resultados Para Regressão Logistica "
      ]
    },
    {
      "cell_type": "code",
      "metadata": {
        "id": "YodGMqa_G1NR",
        "outputId": "55c8a3a2-74db-4ed2-ba81-45addd92a3b9",
        "colab": {
          "base_uri": "https://localhost:8080/"
        }
      },
      "source": [
        "from sklearn.linear_model import LogisticRegression\n",
        "classifier = LogisticRegression(random_state = 0)\n",
        "classifier.fit(X_train, y_train)"
      ],
      "execution_count": 173,
      "outputs": [
        {
          "output_type": "execute_result",
          "data": {
            "text/plain": [
              "LogisticRegression(C=1.0, class_weight=None, dual=False, fit_intercept=True,\n",
              "                   intercept_scaling=1, l1_ratio=None, max_iter=100,\n",
              "                   multi_class='auto', n_jobs=None, penalty='l2',\n",
              "                   random_state=0, solver='lbfgs', tol=0.0001, verbose=0,\n",
              "                   warm_start=False)"
            ]
          },
          "metadata": {
            "tags": []
          },
          "execution_count": 173
        }
      ]
    },
    {
      "cell_type": "code",
      "metadata": {
        "id": "xgRNvLs4HeYF"
      },
      "source": [
        "y_pred = classifier.predict(X_test)"
      ],
      "execution_count": 174,
      "outputs": []
    },
    {
      "cell_type": "code",
      "metadata": {
        "id": "310gj1jZHfQR",
        "outputId": "5c3f2dfc-d015-4090-c602-9bdd74082547",
        "colab": {
          "base_uri": "https://localhost:8080/"
        }
      },
      "source": [
        "from sklearn.metrics import accuracy_score\n",
        "from sklearn.model_selection import cross_val_score\n",
        "print(\"Acurácia para a classificação :  \",accuracy_score(y_pred,y_test))\n",
        "print(cross_val_score(classifier, X_test, y_test,cv=5))"
      ],
      "execution_count": 175,
      "outputs": [
        {
          "output_type": "stream",
          "text": [
            "Acurácia para a classificação :   0.6535181236673774\n",
            "[0.65957447 0.65425532 0.68085106 0.62032086 0.67914439]\n"
          ],
          "name": "stdout"
        }
      ]
    },
    {
      "cell_type": "markdown",
      "metadata": {
        "id": "gjIwj5-75fv-"
      },
      "source": [
        "#### Resultados para KNN"
      ]
    },
    {
      "cell_type": "code",
      "metadata": {
        "id": "jY0fHaFiIkaC"
      },
      "source": [
        "from sklearn.neighbors import KNeighborsClassifier\n",
        "clf_KNN = KNeighborsClassifier(n_neighbors=5)"
      ],
      "execution_count": 176,
      "outputs": []
    },
    {
      "cell_type": "code",
      "metadata": {
        "id": "QsXGe04sIn0F",
        "outputId": "e1b92969-edf9-43ed-edba-ff5b420cf35f",
        "colab": {
          "base_uri": "https://localhost:8080/"
        }
      },
      "source": [
        "clf_KNN.fit(X_train, y_train)"
      ],
      "execution_count": 177,
      "outputs": [
        {
          "output_type": "execute_result",
          "data": {
            "text/plain": [
              "KNeighborsClassifier(algorithm='auto', leaf_size=30, metric='minkowski',\n",
              "                     metric_params=None, n_jobs=None, n_neighbors=5, p=2,\n",
              "                     weights='uniform')"
            ]
          },
          "metadata": {
            "tags": []
          },
          "execution_count": 177
        }
      ]
    },
    {
      "cell_type": "code",
      "metadata": {
        "id": "pvDLXOshIrl5"
      },
      "source": [
        "y_pred_KNN = clf_KNN.predict(X_test)"
      ],
      "execution_count": 178,
      "outputs": []
    },
    {
      "cell_type": "code",
      "metadata": {
        "id": "RNG5AnAqIxIW",
        "outputId": "fe13243a-746e-450f-bd15-09b40f018e74",
        "colab": {
          "base_uri": "https://localhost:8080/"
        }
      },
      "source": [
        "from sklearn.metrics import accuracy_score\n",
        "print(\"Acurácia para a classificação utilizando o KNN:  \",accuracy_score(y_pred_KNN,y_test))\n",
        "print(cross_val_score(clf_KNN, X_test, y_test,cv=5))"
      ],
      "execution_count": 179,
      "outputs": [
        {
          "output_type": "stream",
          "text": [
            "Acurácia para a classificação utilizando o KNN:   0.6460554371002132\n",
            "[0.62234043 0.61702128 0.64893617 0.65240642 0.67379679]\n"
          ],
          "name": "stdout"
        }
      ]
    },
    {
      "cell_type": "markdown",
      "metadata": {
        "id": "UAipe2DQ5lun"
      },
      "source": [
        "#### Resultados para Arvore de decisão "
      ]
    },
    {
      "cell_type": "code",
      "metadata": {
        "id": "ygpg5wMLJaZs"
      },
      "source": [
        "from sklearn.tree import DecisionTreeClassifier"
      ],
      "execution_count": 180,
      "outputs": []
    },
    {
      "cell_type": "code",
      "metadata": {
        "id": "0Sy_nrRGJcwy"
      },
      "source": [
        "# Cria o objeto de classificação através do \n",
        "clf_arvore = DecisionTreeClassifier()\n",
        "\n",
        "# Realiza o treinamento do classificador\n",
        "clf_arvore = clf_arvore.fit(X_train,y_train)\n",
        "\n",
        "#Realiza a previsão de classificaçao \n",
        "y_pred_arvore = clf_arvore.predict(X_test)"
      ],
      "execution_count": 181,
      "outputs": []
    },
    {
      "cell_type": "code",
      "metadata": {
        "id": "xuUr20NDJdvb",
        "outputId": "cb6ed1fd-d021-4da8-a1a5-fde9a88ecb20",
        "colab": {
          "base_uri": "https://localhost:8080/"
        }
      },
      "source": [
        "from sklearn.metrics import classification_report\n",
        "print(\"O valor de f1-score para a árvore de decisão é:\\n \",classification_report(y_test,y_pred_arvore))\n",
        "print(cross_val_score(clf_arvore, X_test, y_test,cv=5))"
      ],
      "execution_count": 182,
      "outputs": [
        {
          "output_type": "stream",
          "text": [
            "O valor de f1-score para a árvore de decisão é:\n",
            "                precision    recall  f1-score   support\n",
            "\n",
            "           0       0.60      0.59      0.59       490\n",
            "           1       0.56      0.58      0.57       448\n",
            "\n",
            "    accuracy                           0.58       938\n",
            "   macro avg       0.58      0.58      0.58       938\n",
            "weighted avg       0.58      0.58      0.58       938\n",
            "\n",
            "[0.59042553 0.54787234 0.57978723 0.58823529 0.56684492]\n"
          ],
          "name": "stdout"
        }
      ]
    },
    {
      "cell_type": "markdown",
      "metadata": {
        "id": "C4q4cbqq5td8"
      },
      "source": [
        "#### Resultados para floresta randomica"
      ]
    },
    {
      "cell_type": "code",
      "metadata": {
        "id": "cS6jKrHvJqwW"
      },
      "source": [
        "from sklearn.ensemble import RandomForestClassifier"
      ],
      "execution_count": 183,
      "outputs": []
    },
    {
      "cell_type": "code",
      "metadata": {
        "id": "dTIZe0lWJt3O",
        "outputId": "a8953c5c-76da-494d-9d48-ae549eb6c71c",
        "colab": {
          "base_uri": "https://localhost:8080/"
        }
      },
      "source": [
        "#define a floresta randomica\n",
        "clf_floresta = RandomForestClassifier(max_depth=9, random_state=1,n_estimators=1000,min_samples_split=2,max_features='sqrt',oob_score=True)\n",
        "clf_floresta.fit(X_train,y_train)"
      ],
      "execution_count": 184,
      "outputs": [
        {
          "output_type": "execute_result",
          "data": {
            "text/plain": [
              "RandomForestClassifier(bootstrap=True, ccp_alpha=0.0, class_weight=None,\n",
              "                       criterion='gini', max_depth=9, max_features='sqrt',\n",
              "                       max_leaf_nodes=None, max_samples=None,\n",
              "                       min_impurity_decrease=0.0, min_impurity_split=None,\n",
              "                       min_samples_leaf=1, min_samples_split=2,\n",
              "                       min_weight_fraction_leaf=0.0, n_estimators=1000,\n",
              "                       n_jobs=None, oob_score=True, random_state=1, verbose=0,\n",
              "                       warm_start=False)"
            ]
          },
          "metadata": {
            "tags": []
          },
          "execution_count": 184
        }
      ]
    },
    {
      "cell_type": "code",
      "metadata": {
        "id": "N190ITRfJvJr"
      },
      "source": [
        "#Realiza a previsão de classificaçao \n",
        "y_pred_floresta = clf_floresta.predict(X_test)"
      ],
      "execution_count": 185,
      "outputs": []
    },
    {
      "cell_type": "code",
      "metadata": {
        "id": "P3VAtLUdJxm7",
        "outputId": "32f75fdd-3977-4384-9605-05232e2bf617",
        "colab": {
          "base_uri": "https://localhost:8080/"
        }
      },
      "source": [
        "print(\"O valor de f1-score para a floresta randômica é:\\n \",classification_report(y_test,y_pred_floresta))\n",
        "score = (cross_val_score(clf_floresta, X_train, y_train,cv=5))\n",
        "score.mean()"
      ],
      "execution_count": 186,
      "outputs": [
        {
          "output_type": "stream",
          "text": [
            "O valor de f1-score para a floresta randômica é:\n",
            "                precision    recall  f1-score   support\n",
            "\n",
            "           0       0.71      0.77      0.74       490\n",
            "           1       0.72      0.66      0.69       448\n",
            "\n",
            "    accuracy                           0.72       938\n",
            "   macro avg       0.72      0.71      0.71       938\n",
            "weighted avg       0.72      0.72      0.72       938\n",
            "\n"
          ],
          "name": "stdout"
        },
        {
          "output_type": "execute_result",
          "data": {
            "text/plain": [
              "0.7029246732077364"
            ]
          },
          "metadata": {
            "tags": []
          },
          "execution_count": 186
        }
      ]
    },
    {
      "cell_type": "code",
      "metadata": {
        "id": "pmWtZLKbPLiR",
        "outputId": "4ccb5ac4-1aca-45cf-c303-0d1471d16ccb",
        "colab": {
          "base_uri": "https://localhost:8080/",
          "height": 574
        }
      },
      "source": [
        "from sklearn.metrics import plot_confusion_matrix\n",
        "#realiza o plot da matriz de confusão\n",
        "plt.rcParams[\"figure.figsize\"]=(10, 10)\n",
        "plot_confusion_matrix(clf_floresta, X_test, y_test)\n",
        "plt.show()"
      ],
      "execution_count": 187,
      "outputs": [
        {
          "output_type": "display_data",
          "data": {
            "image/png": "[encoded data removed]",
            "text/plain": [
              "<Figure size 720x720 with 2 Axes>"
            ]
          },
          "metadata": {
            "tags": [],
            "needs_background": "light"
          }
        }
      ]
    },
    {
      "cell_type": "markdown",
      "metadata": {
        "id": "ATf2VRaQ51aX"
      },
      "source": [
        "#### Resultados para MLP"
      ]
    },
    {
      "cell_type": "code",
      "metadata": {
        "id": "hMTloRd3KAN0",
        "outputId": "1b9f7990-4688-497f-b130-4eca450b57ca",
        "colab": {
          "base_uri": "https://localhost:8080/"
        }
      },
      "source": [
        "#MLP como classificador\n",
        "from sklearn.neural_network import MLPClassifier\n",
        "#define a configuração da rede\n",
        "clf_mlp = MLPClassifier( alpha=1e-5, hidden_layer_sizes=(5, 5), random_state=1)\n",
        "\n",
        "#realiza o fit do modelo\n",
        "clf_mlp.fit(X_train,y_train)\n",
        "\n",
        "\n",
        "#realiza a previsão\n",
        "y_pred_mlp=clf_mlp.predict(X_test)"
      ],
      "execution_count": 188,
      "outputs": [
        {
          "output_type": "stream",
          "text": [
            "/usr/local/lib/python3.6/dist-packages/sklearn/neural_network/_multilayer_perceptron.py:571: ConvergenceWarning: Stochastic Optimizer: Maximum iterations (200) reached and the optimization hasn't converged yet.\n",
            "  % self.max_iter, ConvergenceWarning)\n"
          ],
          "name": "stderr"
        }
      ]
    },
    {
      "cell_type": "code",
      "metadata": {
        "id": "Rp_PVUBDKEA3",
        "outputId": "31ce9bc1-fa23-4867-b7d9-b153c9379097",
        "colab": {
          "base_uri": "https://localhost:8080/"
        }
      },
      "source": [
        "print(\"O valor de f1-score para MLP é:\\n \",classification_report(y_test,y_pred_mlp))\n",
        "print(cross_val_score(clf_mlp, X_train, y_train,cv=5))"
      ],
      "execution_count": 189,
      "outputs": [
        {
          "output_type": "stream",
          "text": [
            "O valor de f1-score para MLP é:\n",
            "                precision    recall  f1-score   support\n",
            "\n",
            "           0       0.68      0.67      0.67       490\n",
            "           1       0.64      0.66      0.65       448\n",
            "\n",
            "    accuracy                           0.66       938\n",
            "   macro avg       0.66      0.66      0.66       938\n",
            "weighted avg       0.66      0.66      0.66       938\n",
            "\n"
          ],
          "name": "stdout"
        },
        {
          "output_type": "stream",
          "text": [
            "/usr/local/lib/python3.6/dist-packages/sklearn/neural_network/_multilayer_perceptron.py:571: ConvergenceWarning: Stochastic Optimizer: Maximum iterations (200) reached and the optimization hasn't converged yet.\n",
            "  % self.max_iter, ConvergenceWarning)\n",
            "/usr/local/lib/python3.6/dist-packages/sklearn/neural_network/_multilayer_perceptron.py:571: ConvergenceWarning: Stochastic Optimizer: Maximum iterations (200) reached and the optimization hasn't converged yet.\n",
            "  % self.max_iter, ConvergenceWarning)\n",
            "/usr/local/lib/python3.6/dist-packages/sklearn/neural_network/_multilayer_perceptron.py:571: ConvergenceWarning: Stochastic Optimizer: Maximum iterations (200) reached and the optimization hasn't converged yet.\n",
            "  % self.max_iter, ConvergenceWarning)\n",
            "/usr/local/lib/python3.6/dist-packages/sklearn/neural_network/_multilayer_perceptron.py:571: ConvergenceWarning: Stochastic Optimizer: Maximum iterations (200) reached and the optimization hasn't converged yet.\n",
            "  % self.max_iter, ConvergenceWarning)\n"
          ],
          "name": "stderr"
        },
        {
          "output_type": "stream",
          "text": [
            "[0.67123288 0.67579909 0.69406393 0.67734554 0.67505721]\n"
          ],
          "name": "stdout"
        },
        {
          "output_type": "stream",
          "text": [
            "/usr/local/lib/python3.6/dist-packages/sklearn/neural_network/_multilayer_perceptron.py:571: ConvergenceWarning: Stochastic Optimizer: Maximum iterations (200) reached and the optimization hasn't converged yet.\n",
            "  % self.max_iter, ConvergenceWarning)\n"
          ],
          "name": "stderr"
        }
      ]
    },
    {
      "cell_type": "code",
      "metadata": {
        "id": "oW7Mm1oCFIja",
        "outputId": "be8ee128-9be2-4e0e-e307-82443fbcc8b2",
        "colab": {
          "base_uri": "https://localhost:8080/",
          "height": 574
        }
      },
      "source": [
        "\n",
        "#realiza o plot da matriz de confusão\n",
        "plt.rcParams[\"figure.figsize\"]=(10, 10)\n",
        "plot_confusion_matrix(clf_mlp, X_test, y_test)\n",
        "plt.show()"
      ],
      "execution_count": 190,
      "outputs": [
        {
          "output_type": "display_data",
          "data": {
            "image/png": "[encoded data removed]",
            "text/plain": [
              "<Figure size 720x720 with 2 Axes>"
            ]
          },
          "metadata": {
            "tags": [],
            "needs_background": "light"
          }
        }
      ]
    }
  ]
}