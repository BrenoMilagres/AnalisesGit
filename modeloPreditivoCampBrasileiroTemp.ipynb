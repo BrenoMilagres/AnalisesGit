{
  "nbformat": 4,
  "nbformat_minor": 0,
  "metadata": {
    "colab": {
      "name": "modeloPreditivoCampBrasileiroTemp.ipynb",
      "provenance": [],
      "collapsed_sections": [],
      "authorship_tag": "ABX9TyNLAPX9WezWUmG9tzSGoB5f",
      "include_colab_link": true
    },
    "kernelspec": {
      "name": "python3",
      "display_name": "Python 3"
    }
  },
  "cells": [
    {
      "cell_type": "markdown",
      "metadata": {
        "id": "view-in-github",
        "colab_type": "text"
      },
      "source": [
        "<a href=\"https://colab.research.google.com/github/BrenoMilagres/DataScienceProjetos/blob/master/modeloPreditivoCampBrasileiroTemp.ipynb\" target=\"_parent\"><img src=\"https://colab.research.google.com/assets/colab-badge.svg\" alt=\"Open In Colab\"/></a>"
      ]
    },
    {
      "cell_type": "code",
      "metadata": {
        "id": "Brdk_L_KfQY4"
      },
      "source": [
        "%matplotlib inline\n",
        "import pandas as pd\n",
        "import matplotlib.pyplot as plt\n",
        "import seaborn as sns\n",
        "import numpy as np"
      ],
      "execution_count": 1,
      "outputs": []
    },
    {
      "cell_type": "code",
      "metadata": {
        "id": "PvLymi5yfimP",
        "outputId": "43bfe973-2af7-4fce-bb98-fe4e5fd08e19",
        "colab": {
          "resources": {
            "http://localhost:8080/nbextensions/google.colab/files.js": {
              "data": "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",
              "ok": true,
              "headers": [
                [
                  "content-type",
                  "application/javascript"
                ]
              ],
              "status": 200,
              "status_text": ""
            }
          },
          "base_uri": "https://localhost:8080/",
          "height": 72
        }
      },
      "source": [
        "#importando os dados para o google colab\n",
        "from google.colab import files\n",
        "uploaded = files.upload()"
      ],
      "execution_count": 2,
      "outputs": [
        {
          "output_type": "display_data",
          "data": {
            "text/html": [
              "\n",
              "     <input type=\"file\" id=\"files-846f76eb-4f0f-4e58-8492-a4bc3c5510c5\" name=\"files[]\" multiple disabled\n",
              "        style=\"border:none\" />\n",
              "     <output id=\"result-846f76eb-4f0f-4e58-8492-a4bc3c5510c5\">\n",
              "      Upload widget is only available when the cell has been executed in the\n",
              "      current browser session. Please rerun this cell to enable.\n",
              "      </output>\n",
              "      <script src=\"/nbextensions/google.colab/files.js\"></script> "
            ],
            "text/plain": [
              "<IPython.core.display.HTML object>"
            ]
          },
          "metadata": {
            "tags": []
          }
        },
        {
          "output_type": "stream",
          "text": [
            "Saving campeonato-brasileiro-full.csv to campeonato-brasileiro-full.csv\n"
          ],
          "name": "stdout"
        }
      ]
    },
    {
      "cell_type": "code",
      "metadata": {
        "id": "kTWOrm9cfvJd"
      },
      "source": [
        "times = pd.read_csv('campeonato-brasileiro-full.csv')"
      ],
      "execution_count": 3,
      "outputs": []
    },
    {
      "cell_type": "code",
      "metadata": {
        "id": "5q_X6Oksf2B5",
        "outputId": "fca1c185-b8a8-494c-e06e-00364a761a54",
        "colab": {
          "base_uri": "https://localhost:8080/",
          "height": 306
        }
      },
      "source": [
        "times.head()"
      ],
      "execution_count": 4,
      "outputs": [
        {
          "output_type": "execute_result",
          "data": {
            "text/html": [
              "<div>\n",
              "<style scoped>\n",
              "    .dataframe tbody tr th:only-of-type {\n",
              "        vertical-align: middle;\n",
              "    }\n",
              "\n",
              "    .dataframe tbody tr th {\n",
              "        vertical-align: top;\n",
              "    }\n",
              "\n",
              "    .dataframe thead th {\n",
              "        text-align: right;\n",
              "    }\n",
              "</style>\n",
              "<table border=\"1\" class=\"dataframe\">\n",
              "  <thead>\n",
              "    <tr style=\"text-align: right;\">\n",
              "      <th></th>\n",
              "      <th>Horário</th>\n",
              "      <th>Dia</th>\n",
              "      <th>Data</th>\n",
              "      <th>Clube 1</th>\n",
              "      <th>Clube 2</th>\n",
              "      <th>Vencedor</th>\n",
              "      <th>Rodada</th>\n",
              "      <th>Arena</th>\n",
              "      <th>Clube 1 Gols</th>\n",
              "      <th>Clube 2 Gols</th>\n",
              "      <th>Clube 1 Estado</th>\n",
              "      <th>Clube 2 Estado</th>\n",
              "      <th>Estado Clube Vencedor</th>\n",
              "    </tr>\n",
              "  </thead>\n",
              "  <tbody>\n",
              "    <tr>\n",
              "      <th>0</th>\n",
              "      <td>16h00</td>\n",
              "      <td>Sábado</td>\n",
              "      <td>2000-07-29</td>\n",
              "      <td>Fluminense</td>\n",
              "      <td>Bahia</td>\n",
              "      <td>Fluminense</td>\n",
              "      <td>1ª Rodada</td>\n",
              "      <td>Maracanã</td>\n",
              "      <td>2</td>\n",
              "      <td>0</td>\n",
              "      <td>RJ</td>\n",
              "      <td>BA</td>\n",
              "      <td>RJ</td>\n",
              "    </tr>\n",
              "    <tr>\n",
              "      <th>1</th>\n",
              "      <td>16h00</td>\n",
              "      <td>Sábado</td>\n",
              "      <td>2000-07-29</td>\n",
              "      <td>Vasco</td>\n",
              "      <td>Sport</td>\n",
              "      <td>Sport</td>\n",
              "      <td>1ª Rodada</td>\n",
              "      <td>São Januário</td>\n",
              "      <td>0</td>\n",
              "      <td>2</td>\n",
              "      <td>RJ</td>\n",
              "      <td>PE</td>\n",
              "      <td>PE</td>\n",
              "    </tr>\n",
              "    <tr>\n",
              "      <th>2</th>\n",
              "      <td>16h00</td>\n",
              "      <td>Sábado</td>\n",
              "      <td>2000-07-29</td>\n",
              "      <td>Vitória</td>\n",
              "      <td>Palmeiras</td>\n",
              "      <td>Vitória</td>\n",
              "      <td>1ª Rodada</td>\n",
              "      <td>Barradão</td>\n",
              "      <td>4</td>\n",
              "      <td>1</td>\n",
              "      <td>ES</td>\n",
              "      <td>SP</td>\n",
              "      <td>ES</td>\n",
              "    </tr>\n",
              "    <tr>\n",
              "      <th>3</th>\n",
              "      <td>17h00</td>\n",
              "      <td>Domingo</td>\n",
              "      <td>2000-07-30</td>\n",
              "      <td>Botafogo-RJ</td>\n",
              "      <td>Atlético-MG</td>\n",
              "      <td>-</td>\n",
              "      <td>1ª Rodada</td>\n",
              "      <td>Caio Martins</td>\n",
              "      <td>0</td>\n",
              "      <td>0</td>\n",
              "      <td>RJ</td>\n",
              "      <td>MG</td>\n",
              "      <td>Empate</td>\n",
              "    </tr>\n",
              "    <tr>\n",
              "      <th>4</th>\n",
              "      <td>18h30</td>\n",
              "      <td>Domingo</td>\n",
              "      <td>2000-07-30</td>\n",
              "      <td>Juventude</td>\n",
              "      <td>Flamengo</td>\n",
              "      <td>-</td>\n",
              "      <td>1ª Rodada</td>\n",
              "      <td>Alfredo Jaconi</td>\n",
              "      <td>1</td>\n",
              "      <td>1</td>\n",
              "      <td>RS</td>\n",
              "      <td>RJ</td>\n",
              "      <td>Empate</td>\n",
              "    </tr>\n",
              "  </tbody>\n",
              "</table>\n",
              "</div>"
            ],
            "text/plain": [
              "  Horário      Dia  ... Clube 2 Estado Estado Clube Vencedor\n",
              "0   16h00   Sábado  ...             BA                    RJ\n",
              "1   16h00   Sábado  ...             PE                    PE\n",
              "2   16h00   Sábado  ...             SP                    ES\n",
              "3   17h00  Domingo  ...             MG                Empate\n",
              "4   18h30  Domingo  ...             RJ                Empate\n",
              "\n",
              "[5 rows x 13 columns]"
            ]
          },
          "metadata": {
            "tags": []
          },
          "execution_count": 4
        }
      ]
    },
    {
      "cell_type": "code",
      "metadata": {
        "id": "L5vdLA3Vf5Jj",
        "outputId": "afcd910d-4031-4566-f685-fa4bd80337e0",
        "colab": {
          "base_uri": "https://localhost:8080/",
          "height": 357
        }
      },
      "source": [
        "times.info()"
      ],
      "execution_count": 5,
      "outputs": [
        {
          "output_type": "stream",
          "text": [
            "<class 'pandas.core.frame.DataFrame'>\n",
            "RangeIndex: 7939 entries, 0 to 7938\n",
            "Data columns (total 13 columns):\n",
            " #   Column                 Non-Null Count  Dtype \n",
            "---  ------                 --------------  ----- \n",
            " 0   Horário                7582 non-null   object\n",
            " 1   Dia                    7939 non-null   object\n",
            " 2   Data                   7939 non-null   object\n",
            " 3   Clube 1                7939 non-null   object\n",
            " 4   Clube 2                7939 non-null   object\n",
            " 5   Vencedor               7939 non-null   object\n",
            " 6   Rodada                 7939 non-null   object\n",
            " 7   Arena                  7939 non-null   object\n",
            " 8   Clube 1 Gols           7939 non-null   int64 \n",
            " 9   Clube 2 Gols           7939 non-null   int64 \n",
            " 10  Clube 1 Estado         7939 non-null   object\n",
            " 11  Clube 2 Estado         7939 non-null   object\n",
            " 12  Estado Clube Vencedor  7939 non-null   object\n",
            "dtypes: int64(2), object(11)\n",
            "memory usage: 806.4+ KB\n"
          ],
          "name": "stdout"
        }
      ]
    },
    {
      "cell_type": "markdown",
      "metadata": {
        "id": "zCnDaoEsyiNt"
      },
      "source": [
        "#### Renomeando colunas"
      ]
    },
    {
      "cell_type": "code",
      "metadata": {
        "id": "ayqjmuPygkk4",
        "outputId": "25118db0-3737-4e5a-fa96-1099882f932c",
        "colab": {
          "base_uri": "https://localhost:8080/",
          "height": 306
        }
      },
      "source": [
        "times = times.rename(columns={'Clube 1':'Mandante','Clube 2':'Visitante','Clube 1 Gols':'MandanteGols','Clube 2 Gols':'VisitanteGols'})\n",
        "times.head()"
      ],
      "execution_count": 6,
      "outputs": [
        {
          "output_type": "execute_result",
          "data": {
            "text/html": [
              "<div>\n",
              "<style scoped>\n",
              "    .dataframe tbody tr th:only-of-type {\n",
              "        vertical-align: middle;\n",
              "    }\n",
              "\n",
              "    .dataframe tbody tr th {\n",
              "        vertical-align: top;\n",
              "    }\n",
              "\n",
              "    .dataframe thead th {\n",
              "        text-align: right;\n",
              "    }\n",
              "</style>\n",
              "<table border=\"1\" class=\"dataframe\">\n",
              "  <thead>\n",
              "    <tr style=\"text-align: right;\">\n",
              "      <th></th>\n",
              "      <th>Horário</th>\n",
              "      <th>Dia</th>\n",
              "      <th>Data</th>\n",
              "      <th>Mandante</th>\n",
              "      <th>Visitante</th>\n",
              "      <th>Vencedor</th>\n",
              "      <th>Rodada</th>\n",
              "      <th>Arena</th>\n",
              "      <th>MandanteGols</th>\n",
              "      <th>VisitanteGols</th>\n",
              "      <th>Clube 1 Estado</th>\n",
              "      <th>Clube 2 Estado</th>\n",
              "      <th>Estado Clube Vencedor</th>\n",
              "    </tr>\n",
              "  </thead>\n",
              "  <tbody>\n",
              "    <tr>\n",
              "      <th>0</th>\n",
              "      <td>16h00</td>\n",
              "      <td>Sábado</td>\n",
              "      <td>2000-07-29</td>\n",
              "      <td>Fluminense</td>\n",
              "      <td>Bahia</td>\n",
              "      <td>Fluminense</td>\n",
              "      <td>1ª Rodada</td>\n",
              "      <td>Maracanã</td>\n",
              "      <td>2</td>\n",
              "      <td>0</td>\n",
              "      <td>RJ</td>\n",
              "      <td>BA</td>\n",
              "      <td>RJ</td>\n",
              "    </tr>\n",
              "    <tr>\n",
              "      <th>1</th>\n",
              "      <td>16h00</td>\n",
              "      <td>Sábado</td>\n",
              "      <td>2000-07-29</td>\n",
              "      <td>Vasco</td>\n",
              "      <td>Sport</td>\n",
              "      <td>Sport</td>\n",
              "      <td>1ª Rodada</td>\n",
              "      <td>São Januário</td>\n",
              "      <td>0</td>\n",
              "      <td>2</td>\n",
              "      <td>RJ</td>\n",
              "      <td>PE</td>\n",
              "      <td>PE</td>\n",
              "    </tr>\n",
              "    <tr>\n",
              "      <th>2</th>\n",
              "      <td>16h00</td>\n",
              "      <td>Sábado</td>\n",
              "      <td>2000-07-29</td>\n",
              "      <td>Vitória</td>\n",
              "      <td>Palmeiras</td>\n",
              "      <td>Vitória</td>\n",
              "      <td>1ª Rodada</td>\n",
              "      <td>Barradão</td>\n",
              "      <td>4</td>\n",
              "      <td>1</td>\n",
              "      <td>ES</td>\n",
              "      <td>SP</td>\n",
              "      <td>ES</td>\n",
              "    </tr>\n",
              "    <tr>\n",
              "      <th>3</th>\n",
              "      <td>17h00</td>\n",
              "      <td>Domingo</td>\n",
              "      <td>2000-07-30</td>\n",
              "      <td>Botafogo-RJ</td>\n",
              "      <td>Atlético-MG</td>\n",
              "      <td>-</td>\n",
              "      <td>1ª Rodada</td>\n",
              "      <td>Caio Martins</td>\n",
              "      <td>0</td>\n",
              "      <td>0</td>\n",
              "      <td>RJ</td>\n",
              "      <td>MG</td>\n",
              "      <td>Empate</td>\n",
              "    </tr>\n",
              "    <tr>\n",
              "      <th>4</th>\n",
              "      <td>18h30</td>\n",
              "      <td>Domingo</td>\n",
              "      <td>2000-07-30</td>\n",
              "      <td>Juventude</td>\n",
              "      <td>Flamengo</td>\n",
              "      <td>-</td>\n",
              "      <td>1ª Rodada</td>\n",
              "      <td>Alfredo Jaconi</td>\n",
              "      <td>1</td>\n",
              "      <td>1</td>\n",
              "      <td>RS</td>\n",
              "      <td>RJ</td>\n",
              "      <td>Empate</td>\n",
              "    </tr>\n",
              "  </tbody>\n",
              "</table>\n",
              "</div>"
            ],
            "text/plain": [
              "  Horário      Dia  ... Clube 2 Estado Estado Clube Vencedor\n",
              "0   16h00   Sábado  ...             BA                    RJ\n",
              "1   16h00   Sábado  ...             PE                    PE\n",
              "2   16h00   Sábado  ...             SP                    ES\n",
              "3   17h00  Domingo  ...             MG                Empate\n",
              "4   18h30  Domingo  ...             RJ                Empate\n",
              "\n",
              "[5 rows x 13 columns]"
            ]
          },
          "metadata": {
            "tags": []
          },
          "execution_count": 6
        }
      ]
    },
    {
      "cell_type": "code",
      "metadata": {
        "id": "zGypXG8FgFry",
        "outputId": "fd605b74-86ce-4cb4-9d67-b6ca35f2a3ba",
        "colab": {
          "base_uri": "https://localhost:8080/",
          "height": 297
        }
      },
      "source": [
        "times.describe()"
      ],
      "execution_count": 7,
      "outputs": [
        {
          "output_type": "execute_result",
          "data": {
            "text/html": [
              "<div>\n",
              "<style scoped>\n",
              "    .dataframe tbody tr th:only-of-type {\n",
              "        vertical-align: middle;\n",
              "    }\n",
              "\n",
              "    .dataframe tbody tr th {\n",
              "        vertical-align: top;\n",
              "    }\n",
              "\n",
              "    .dataframe thead th {\n",
              "        text-align: right;\n",
              "    }\n",
              "</style>\n",
              "<table border=\"1\" class=\"dataframe\">\n",
              "  <thead>\n",
              "    <tr style=\"text-align: right;\">\n",
              "      <th></th>\n",
              "      <th>MandanteGols</th>\n",
              "      <th>VisitanteGols</th>\n",
              "    </tr>\n",
              "  </thead>\n",
              "  <tbody>\n",
              "    <tr>\n",
              "      <th>count</th>\n",
              "      <td>7939.000000</td>\n",
              "      <td>7939.000000</td>\n",
              "    </tr>\n",
              "    <tr>\n",
              "      <th>mean</th>\n",
              "      <td>1.596801</td>\n",
              "      <td>1.052526</td>\n",
              "    </tr>\n",
              "    <tr>\n",
              "      <th>std</th>\n",
              "      <td>1.251372</td>\n",
              "      <td>1.039719</td>\n",
              "    </tr>\n",
              "    <tr>\n",
              "      <th>min</th>\n",
              "      <td>0.000000</td>\n",
              "      <td>0.000000</td>\n",
              "    </tr>\n",
              "    <tr>\n",
              "      <th>25%</th>\n",
              "      <td>1.000000</td>\n",
              "      <td>0.000000</td>\n",
              "    </tr>\n",
              "    <tr>\n",
              "      <th>50%</th>\n",
              "      <td>1.000000</td>\n",
              "      <td>1.000000</td>\n",
              "    </tr>\n",
              "    <tr>\n",
              "      <th>75%</th>\n",
              "      <td>2.000000</td>\n",
              "      <td>2.000000</td>\n",
              "    </tr>\n",
              "    <tr>\n",
              "      <th>max</th>\n",
              "      <td>7.000000</td>\n",
              "      <td>7.000000</td>\n",
              "    </tr>\n",
              "  </tbody>\n",
              "</table>\n",
              "</div>"
            ],
            "text/plain": [
              "       MandanteGols  VisitanteGols\n",
              "count   7939.000000    7939.000000\n",
              "mean       1.596801       1.052526\n",
              "std        1.251372       1.039719\n",
              "min        0.000000       0.000000\n",
              "25%        1.000000       0.000000\n",
              "50%        1.000000       1.000000\n",
              "75%        2.000000       2.000000\n",
              "max        7.000000       7.000000"
            ]
          },
          "metadata": {
            "tags": []
          },
          "execution_count": 7
        }
      ]
    },
    {
      "cell_type": "markdown",
      "metadata": {
        "id": "KfUePsY2y1r6"
      },
      "source": [
        "#### Definindo colunas interessantes ao modelo"
      ]
    },
    {
      "cell_type": "code",
      "metadata": {
        "id": "DuKFbYmSiM69"
      },
      "source": [
        "entradas = ['Data','Mandante','Visitante','MandanteGols','VisitanteGols','Vencedor','Rodada']\n",
        "df_entradas = times[entradas]"
      ],
      "execution_count": 8,
      "outputs": []
    },
    {
      "cell_type": "markdown",
      "metadata": {
        "id": "8pkfyiSRzNlO"
      },
      "source": [
        "#### Transformando a coluna Data para datetime e criando uma coluna apenas com o ano "
      ]
    },
    {
      "cell_type": "code",
      "metadata": {
        "id": "b8kYUcEwnJ31",
        "outputId": "442b2dd0-0c75-46a6-8fb8-2ebdb14dcca7",
        "colab": {
          "base_uri": "https://localhost:8080/",
          "height": 476
        }
      },
      "source": [
        "df_entradas['Data']= pd.to_datetime(df_entradas['Data'],format='%Y/%m/%d')\n",
        "df_entradas['Ano'] = df_entradas['Data'].dt.year\n",
        "df_entradas.info()"
      ],
      "execution_count": 9,
      "outputs": [
        {
          "output_type": "stream",
          "text": [
            "<class 'pandas.core.frame.DataFrame'>\n",
            "RangeIndex: 7939 entries, 0 to 7938\n",
            "Data columns (total 8 columns):\n",
            " #   Column         Non-Null Count  Dtype         \n",
            "---  ------         --------------  -----         \n",
            " 0   Data           7939 non-null   datetime64[ns]\n",
            " 1   Mandante       7939 non-null   object        \n",
            " 2   Visitante      7939 non-null   object        \n",
            " 3   MandanteGols   7939 non-null   int64         \n",
            " 4   VisitanteGols  7939 non-null   int64         \n",
            " 5   Vencedor       7939 non-null   object        \n",
            " 6   Rodada         7939 non-null   object        \n",
            " 7   Ano            7939 non-null   int64         \n",
            "dtypes: datetime64[ns](1), int64(3), object(4)\n",
            "memory usage: 496.3+ KB\n"
          ],
          "name": "stdout"
        },
        {
          "output_type": "stream",
          "text": [
            "/usr/local/lib/python3.6/dist-packages/ipykernel_launcher.py:1: SettingWithCopyWarning: \n",
            "A value is trying to be set on a copy of a slice from a DataFrame.\n",
            "Try using .loc[row_indexer,col_indexer] = value instead\n",
            "\n",
            "See the caveats in the documentation: https://pandas.pydata.org/pandas-docs/stable/user_guide/indexing.html#returning-a-view-versus-a-copy\n",
            "  \"\"\"Entry point for launching an IPython kernel.\n",
            "/usr/local/lib/python3.6/dist-packages/ipykernel_launcher.py:2: SettingWithCopyWarning: \n",
            "A value is trying to be set on a copy of a slice from a DataFrame.\n",
            "Try using .loc[row_indexer,col_indexer] = value instead\n",
            "\n",
            "See the caveats in the documentation: https://pandas.pydata.org/pandas-docs/stable/user_guide/indexing.html#returning-a-view-versus-a-copy\n",
            "  \n"
          ],
          "name": "stderr"
        }
      ]
    },
    {
      "cell_type": "markdown",
      "metadata": {
        "id": "GzmpbVYxzeqR"
      },
      "source": [
        "#### Obtendo a média de gols feitos e sofridos por temporada "
      ]
    },
    {
      "cell_type": "code",
      "metadata": {
        "id": "tD55jD6Asjou",
        "outputId": "176668b8-b214-48dd-a4fe-74575b108e5a",
        "colab": {
          "base_uri": "https://localhost:8080/",
          "height": 493
        }
      },
      "source": [
        "avgMandanteTemporada = df_entradas.groupby(['Mandante','Ano'])['MandanteGols'].mean().reset_index()\n",
        "avgVisitanteTemporada = df_entradas.groupby(['Visitante','Ano'])['VisitanteGols'].mean().reset_index()\n",
        "\n",
        "avgMandanteTemporada = avgMandanteTemporada.rename(columns={'MandanteGols':'avgGFMandante'})\n",
        "avgVisitanteTemporada = avgVisitanteTemporada.rename(columns={'VisitanteGols':'avgGFVisitante'})\n",
        "\n",
        "\n",
        "print(avgMandanteTemporada)\n",
        "print(avgVisitanteTemporada)"
      ],
      "execution_count": 10,
      "outputs": [
        {
          "output_type": "stream",
          "text": [
            "       Mandante   Ano  avgGFMandante\n",
            "0    América-MG  2000       1.500000\n",
            "1    América-MG  2001       1.214286\n",
            "2    América-MG  2011       1.736842\n",
            "3    América-MG  2016       0.684211\n",
            "4    América-MG  2018       1.157895\n",
            "..          ...   ...            ...\n",
            "449     Vitória  2013       1.684211\n",
            "450     Vitória  2014       1.210526\n",
            "451     Vitória  2016       1.578947\n",
            "452     Vitória  2017       1.157895\n",
            "453     Vitória  2018       1.157895\n",
            "\n",
            "[454 rows x 3 columns]\n",
            "      Visitante   Ano  avgGFVisitante\n",
            "0    América-MG  2000        0.666667\n",
            "1    América-MG  2001        1.153846\n",
            "2    América-MG  2011        0.947368\n",
            "3    América-MG  2016        0.526316\n",
            "4    América-MG  2018        0.421053\n",
            "..          ...   ...             ...\n",
            "452     Vitória  2014        0.736842\n",
            "453     Vitória  2016        1.105263\n",
            "454     Vitória  2017        1.473684\n",
            "455     Vitória  2018        0.736842\n",
            "456  portuguesa  2001        1.000000\n",
            "\n",
            "[457 rows x 3 columns]\n"
          ],
          "name": "stdout"
        }
      ]
    },
    {
      "cell_type": "code",
      "metadata": {
        "id": "COAFzdam_2gx",
        "outputId": "7d335ff5-a818-4a4f-a77c-01f4aca59bd0",
        "colab": {
          "base_uri": "https://localhost:8080/",
          "height": 493
        }
      },
      "source": [
        "avgGSMandanteTemporada = df_entradas.groupby(['Ano','Mandante'])['VisitanteGols'].mean().reset_index()\n",
        "avgGSVisitanteTemporada = df_entradas.groupby(['Ano','Visitante'])['MandanteGols'].mean().reset_index()\n",
        "\n",
        "avgGSMandanteTemporada = avgGSMandanteTemporada.rename(columns={'VisitanteGols':'avgGSMandante'})\n",
        "avgGSVisitanteTemporada = avgGSVisitanteTemporada.rename(columns={'MandanteGols':'avgGSVisitante'})\n",
        "\n",
        "\n",
        "print(avgGSMandanteTemporada)\n",
        "print(avgGSVisitanteTemporada)"
      ],
      "execution_count": 11,
      "outputs": [
        {
          "output_type": "stream",
          "text": [
            "      Ano       Mandante  avgGSMandante\n",
            "0    2000     América-MG       0.916667\n",
            "1    2000   Athlético-PR       1.000000\n",
            "2    2000    Atlético-MG       1.692308\n",
            "3    2000          BAHIA       3.000000\n",
            "4    2000          Bahia       1.230769\n",
            "..    ...            ...            ...\n",
            "449  2019  Internacional       0.789474\n",
            "450  2019      Palmeiras       0.684211\n",
            "451  2019         Santos       0.789474\n",
            "452  2019      São Paulo       0.631579\n",
            "453  2019          Vasco       1.157895\n",
            "\n",
            "[454 rows x 3 columns]\n",
            "      Ano      Visitante  avgGSVisitante\n",
            "0    2000     América-MG        2.000000\n",
            "1    2000   Athlético-PR        1.307692\n",
            "2    2000    Atlético-MG        1.818182\n",
            "3    2000          BAHIA        3.000000\n",
            "4    2000          Bahia        1.363636\n",
            "..    ...            ...             ...\n",
            "452  2019  Internacional        1.263158\n",
            "453  2019      Palmeiras        1.000000\n",
            "454  2019         Santos        0.947368\n",
            "455  2019      São Paulo        0.947368\n",
            "456  2019          Vasco        1.210526\n",
            "\n",
            "[457 rows x 3 columns]\n"
          ],
          "name": "stdout"
        }
      ]
    },
    {
      "cell_type": "markdown",
      "metadata": {
        "id": "GzmahA7t0Da9"
      },
      "source": [
        "#### Obtendo o Total de vitórias "
      ]
    },
    {
      "cell_type": "code",
      "metadata": {
        "id": "Nz4NgE57kLA1",
        "outputId": "c14e76d5-3981-4f23-be04-8519240d566c",
        "colab": {
          "base_uri": "https://localhost:8080/",
          "height": 493
        }
      },
      "source": [
        "nVitoriasMandante = df_entradas.groupby(['Mandante','Ano'])['Vencedor'].nunique().reset_index()\n",
        "nVitoriasVisitante = df_entradas.groupby(['Visitante','Ano'])['Vencedor'].nunique().reset_index()\n",
        "\n",
        "nVitoriasMandante = nVitoriasMandante.rename(columns={'Vencedor':'nVitoriasMandante'})\n",
        "nVitoriasVisitante = nVitoriasVisitante.rename(columns={'Vencedor':'nVitoriasVisitante'})\n",
        "\n",
        "\n",
        "print(nVitoriasMandante)\n",
        "print(nVitoriasVisitante)"
      ],
      "execution_count": 12,
      "outputs": [
        {
          "output_type": "stream",
          "text": [
            "       Mandante   Ano  nVitoriasMandante\n",
            "0    América-MG  2000                  4\n",
            "1    América-MG  2001                  8\n",
            "2    América-MG  2011                  7\n",
            "3    América-MG  2016                 11\n",
            "4    América-MG  2018                  6\n",
            "..          ...   ...                ...\n",
            "449     Vitória  2013                  4\n",
            "450     Vitória  2014                 10\n",
            "451     Vitória  2016                  9\n",
            "452     Vitória  2017                 13\n",
            "453     Vitória  2018                  9\n",
            "\n",
            "[454 rows x 3 columns]\n",
            "      Visitante   Ano  nVitoriasVisitante\n",
            "0    América-MG  2000                  11\n",
            "1    América-MG  2001                  10\n",
            "2    América-MG  2011                  14\n",
            "3    América-MG  2016                  16\n",
            "4    América-MG  2018                  16\n",
            "..          ...   ...                 ...\n",
            "452     Vitória  2014                  14\n",
            "453     Vitória  2016                  12\n",
            "454     Vitória  2017                   8\n",
            "455     Vitória  2018                  14\n",
            "456  portuguesa  2001                   1\n",
            "\n",
            "[457 rows x 3 columns]\n"
          ],
          "name": "stdout"
        }
      ]
    },
    {
      "cell_type": "markdown",
      "metadata": {
        "id": "bHeQKbMn0TxF"
      },
      "source": [
        "#### Colocando Variaveis no DataFrame "
      ]
    },
    {
      "cell_type": "code",
      "metadata": {
        "id": "8b_2l8J90CyT",
        "outputId": "5442d555-e987-422b-e056-666b0ff4d3d7",
        "colab": {
          "base_uri": "https://localhost:8080/",
          "height": 374
        }
      },
      "source": [
        "\n",
        "df_entradas =pd.merge(avgMandanteTemporada,df_entradas) \n",
        "df_entradas =pd.merge (avgVisitanteTemporada,df_entradas) \n",
        "\n",
        "\n",
        "df_entradas =pd.merge (avgGSMandanteTemporada,df_entradas)\n",
        "df_entradas =pd.merge (avgGSVisitanteTemporada,df_entradas)\n",
        "\n",
        "df_entradas =pd.merge (nVitoriasMandante,df_entradas)\n",
        "df_entradas =pd.merge (nVitoriasVisitante,df_entradas)\n",
        "df_entradas.info()"
      ],
      "execution_count": 13,
      "outputs": [
        {
          "output_type": "stream",
          "text": [
            "<class 'pandas.core.frame.DataFrame'>\n",
            "Int64Index: 7939 entries, 0 to 7938\n",
            "Data columns (total 14 columns):\n",
            " #   Column              Non-Null Count  Dtype         \n",
            "---  ------              --------------  -----         \n",
            " 0   Visitante           7939 non-null   object        \n",
            " 1   Ano                 7939 non-null   int64         \n",
            " 2   nVitoriasVisitante  7939 non-null   int64         \n",
            " 3   Mandante            7939 non-null   object        \n",
            " 4   nVitoriasMandante   7939 non-null   int64         \n",
            " 5   avgGSVisitante      7939 non-null   float64       \n",
            " 6   avgGSMandante       7939 non-null   float64       \n",
            " 7   avgGFVisitante      7939 non-null   float64       \n",
            " 8   avgGFMandante       7939 non-null   float64       \n",
            " 9   Data                7939 non-null   datetime64[ns]\n",
            " 10  MandanteGols        7939 non-null   int64         \n",
            " 11  VisitanteGols       7939 non-null   int64         \n",
            " 12  Vencedor            7939 non-null   object        \n",
            " 13  Rodada              7939 non-null   object        \n",
            "dtypes: datetime64[ns](1), float64(4), int64(5), object(4)\n",
            "memory usage: 930.4+ KB\n"
          ],
          "name": "stdout"
        }
      ]
    },
    {
      "cell_type": "markdown",
      "metadata": {
        "id": "OHKe4HCp3tff"
      },
      "source": [
        "#### Criando a variavel total de gols, e redividindo-a em intervalos.(obtendo saída)\n",
        "> Para Total de gols menor ou igual a 3, {x = 0}\n",
        "\n",
        "> Para Total de gols maior que 3, {x = 1}"
      ]
    },
    {
      "cell_type": "code",
      "metadata": {
        "id": "a_HfkJCWIHAK",
        "outputId": "4e1102d0-465a-417b-9375-977bc78c4e7f",
        "colab": {
          "base_uri": "https://localhost:8080/",
          "height": 282
        }
      },
      "source": [
        "df_entradas['total_gols'] = df_entradas['MandanteGols'] + df_entradas['VisitanteGols']\n",
        "df_entradas.total_gols.plot(kind='hist')"
      ],
      "execution_count": 14,
      "outputs": [
        {
          "output_type": "execute_result",
          "data": {
            "text/plain": [
              "<matplotlib.axes._subplots.AxesSubplot at 0x7eff324f59e8>"
            ]
          },
          "metadata": {
            "tags": []
          },
          "execution_count": 14
        },
        {
          "output_type": "display_data",
          "data": {
            "image/png": "[encoded data removed]",
            "text/plain": [
              "<Figure size 432x288 with 1 Axes>"
            ]
          },
          "metadata": {
            "tags": [],
            "needs_background": "light"
          }
        }
      ]
    },
    {
      "cell_type": "code",
      "metadata": {
        "id": "s5aPtaqOIj7R",
        "outputId": "5cf324b7-bc25-4366-e216-86932a786e4c",
        "colab": {
          "base_uri": "https://localhost:8080/",
          "height": 625
        }
      },
      "source": [
        "#matriz de correlação plotada\n",
        "plt.figure(figsize=(12,9))\n",
        "matriz_correlacao=df_entradas.corr()\n",
        "sns.heatmap(matriz_correlacao, annot=True)\n",
        "plt.show()"
      ],
      "execution_count": 16,
      "outputs": [
        {
          "output_type": "display_data",
          "data": {
            "image/png": "[encoded data removed]",
            "text/plain": [
              "<Figure size 864x648 with 2 Axes>"
            ]
          },
          "metadata": {
            "tags": [],
            "needs_background": "light"
          }
        }
      ]
    },
    {
      "cell_type": "code",
      "metadata": {
        "id": "PWv_G0qaE_AR",
        "outputId": "dca45ced-6465-4268-c577-2ab466a91c23",
        "colab": {
          "base_uri": "https://localhost:8080/",
          "height": 68
        }
      },
      "source": [
        "# dividindo  em intervalos \n",
        "df_entradas['faixa_degols'] = df_entradas['total_gols'].apply(lambda x: 0 if x<=3 else 1)\n",
        "df_entradas['faixa_degols'].value_counts()\n",
        "                                                          "
      ],
      "execution_count": 17,
      "outputs": [
        {
          "output_type": "execute_result",
          "data": {
            "text/plain": [
              "0    5754\n",
              "1    2185\n",
              "Name: faixa_degols, dtype: int64"
            ]
          },
          "metadata": {
            "tags": []
          },
          "execution_count": 17
        }
      ]
    },
    {
      "cell_type": "markdown",
      "metadata": {
        "id": "ddoJ3FYO42yA"
      },
      "source": [
        "#### Dividindo os dados para entrada 'X' e saída 'y'"
      ]
    },
    {
      "cell_type": "code",
      "metadata": {
        "id": "a8EjVM5QF-dk"
      },
      "source": [
        "X = df_entradas[['avgGFMandante','avgGFVisitante','avgGSMandante','avgGSVisitante','nVitoriasMandante','nVitoriasVisitante']]\n",
        "y = df_entradas['faixa_degols']"
      ],
      "execution_count": 40,
      "outputs": []
    },
    {
      "cell_type": "markdown",
      "metadata": {
        "id": "sap6qWqNPl3a"
      },
      "source": [
        "#### Tratando desbalanceamento "
      ]
    },
    {
      "cell_type": "code",
      "metadata": {
        "id": "8KbdJUF8HnWt",
        "outputId": "30d80a18-87da-40bf-d271-93a8e6a634c1",
        "colab": {
          "base_uri": "https://localhost:8080/",
          "height": 156
        }
      },
      "source": [
        "from imblearn.under_sampling import NearMiss\n",
        "nr = NearMiss()\n",
        "X, y = nr.fit_sample(X, y)\n",
        "np.bincount(y)"
      ],
      "execution_count": 41,
      "outputs": [
        {
          "output_type": "stream",
          "text": [
            "/usr/local/lib/python3.6/dist-packages/sklearn/utils/deprecation.py:87: FutureWarning: Function safe_indexing is deprecated; safe_indexing is deprecated in version 0.22 and will be removed in version 0.24.\n",
            "  warnings.warn(msg, category=FutureWarning)\n",
            "/usr/local/lib/python3.6/dist-packages/sklearn/utils/deprecation.py:87: FutureWarning: Function safe_indexing is deprecated; safe_indexing is deprecated in version 0.22 and will be removed in version 0.24.\n",
            "  warnings.warn(msg, category=FutureWarning)\n",
            "/usr/local/lib/python3.6/dist-packages/sklearn/utils/deprecation.py:87: FutureWarning: Function safe_indexing is deprecated; safe_indexing is deprecated in version 0.22 and will be removed in version 0.24.\n",
            "  warnings.warn(msg, category=FutureWarning)\n"
          ],
          "name": "stderr"
        },
        {
          "output_type": "execute_result",
          "data": {
            "text/plain": [
              "array([2185, 2185])"
            ]
          },
          "metadata": {
            "tags": []
          },
          "execution_count": 41
        }
      ]
    },
    {
      "cell_type": "markdown",
      "metadata": {
        "id": "9xIiNfgg5Epe"
      },
      "source": [
        "#### Efetuando normalização dos dados"
      ]
    },
    {
      "cell_type": "code",
      "metadata": {
        "id": "ii3Ml1r_GwNv"
      },
      "source": [
        "#importando o preprocessamento com o MinMax\n",
        "from sklearn.preprocessing import MinMaxScaler\n",
        "sc_X = MinMaxScaler()\n",
        "X_escaler = sc_X.fit_transform(X)\n"
      ],
      "execution_count": 42,
      "outputs": []
    },
    {
      "cell_type": "markdown",
      "metadata": {
        "id": "yCVOItVt5NMm"
      },
      "source": [
        "#### Dividindo dados para treino e teste (Validação cruzada)"
      ]
    },
    {
      "cell_type": "code",
      "metadata": {
        "id": "LDOT-rehGyi1"
      },
      "source": [
        "from sklearn.model_selection import train_test_split\n",
        "X_train, X_test, y_train, y_test = train_test_split(X_escaler, y, test_size=0.3, random_state=0)"
      ],
      "execution_count": 43,
      "outputs": []
    },
    {
      "cell_type": "markdown",
      "metadata": {
        "id": "52Zfpnop5ZRI"
      },
      "source": [
        "#### Resultados Para Regressão Logistica "
      ]
    },
    {
      "cell_type": "code",
      "metadata": {
        "id": "YodGMqa_G1NR",
        "outputId": "000b2fdb-33db-4bb3-9ddc-4670dce060d4",
        "colab": {
          "base_uri": "https://localhost:8080/",
          "height": 102
        }
      },
      "source": [
        "from sklearn.linear_model import LogisticRegression\n",
        "classifier = LogisticRegression(random_state = 0)\n",
        "classifier.fit(X_train, y_train)"
      ],
      "execution_count": 44,
      "outputs": [
        {
          "output_type": "execute_result",
          "data": {
            "text/plain": [
              "LogisticRegression(C=1.0, class_weight=None, dual=False, fit_intercept=True,\n",
              "                   intercept_scaling=1, l1_ratio=None, max_iter=100,\n",
              "                   multi_class='auto', n_jobs=None, penalty='l2',\n",
              "                   random_state=0, solver='lbfgs', tol=0.0001, verbose=0,\n",
              "                   warm_start=False)"
            ]
          },
          "metadata": {
            "tags": []
          },
          "execution_count": 44
        }
      ]
    },
    {
      "cell_type": "code",
      "metadata": {
        "id": "xgRNvLs4HeYF"
      },
      "source": [
        "y_pred = classifier.predict(X_test)"
      ],
      "execution_count": 45,
      "outputs": []
    },
    {
      "cell_type": "code",
      "metadata": {
        "id": "310gj1jZHfQR",
        "outputId": "da833ecc-7039-4553-9f64-f943f9b5ba9a",
        "colab": {
          "base_uri": "https://localhost:8080/",
          "height": 51
        }
      },
      "source": [
        "from sklearn.metrics import accuracy_score\n",
        "from sklearn.model_selection import cross_val_score\n",
        "print(\"Acurácia para a classificação :  \",accuracy_score(y_pred,y_test))\n",
        "print(cross_val_score(classifier, X_test, y_test,cv=5))"
      ],
      "execution_count": 46,
      "outputs": [
        {
          "output_type": "stream",
          "text": [
            "Acurácia para a classificação :   0.6125095347063311\n",
            "[0.61977186 0.61068702 0.6221374  0.64122137 0.6259542 ]\n"
          ],
          "name": "stdout"
        }
      ]
    },
    {
      "cell_type": "markdown",
      "metadata": {
        "id": "gjIwj5-75fv-"
      },
      "source": [
        "#### Resultados para KNN"
      ]
    },
    {
      "cell_type": "code",
      "metadata": {
        "id": "jY0fHaFiIkaC"
      },
      "source": [
        "from sklearn.neighbors import KNeighborsClassifier\n",
        "clf_KNN = KNeighborsClassifier(n_neighbors=5)"
      ],
      "execution_count": 47,
      "outputs": []
    },
    {
      "cell_type": "code",
      "metadata": {
        "id": "QsXGe04sIn0F",
        "outputId": "9f4cb1a7-848e-4491-9e5a-6dd1f88af638",
        "colab": {
          "base_uri": "https://localhost:8080/",
          "height": 68
        }
      },
      "source": [
        "clf_KNN.fit(X_train, y_train)"
      ],
      "execution_count": 48,
      "outputs": [
        {
          "output_type": "execute_result",
          "data": {
            "text/plain": [
              "KNeighborsClassifier(algorithm='auto', leaf_size=30, metric='minkowski',\n",
              "                     metric_params=None, n_jobs=None, n_neighbors=5, p=2,\n",
              "                     weights='uniform')"
            ]
          },
          "metadata": {
            "tags": []
          },
          "execution_count": 48
        }
      ]
    },
    {
      "cell_type": "code",
      "metadata": {
        "id": "pvDLXOshIrl5"
      },
      "source": [
        "y_pred_KNN = clf_KNN.predict(X_test)"
      ],
      "execution_count": 49,
      "outputs": []
    },
    {
      "cell_type": "code",
      "metadata": {
        "id": "RNG5AnAqIxIW",
        "outputId": "8055407f-4bf8-4338-9bfa-c9344c7d3d9b",
        "colab": {
          "base_uri": "https://localhost:8080/",
          "height": 51
        }
      },
      "source": [
        "from sklearn.metrics import accuracy_score\n",
        "print(\"Acurácia para a classificação utilizando o KNN:  \",accuracy_score(y_pred_KNN,y_test))\n",
        "print(cross_val_score(clf_KNN, X_test, y_test,cv=5))"
      ],
      "execution_count": 50,
      "outputs": [
        {
          "output_type": "stream",
          "text": [
            "Acurácia para a classificação utilizando o KNN:   0.6071700991609459\n",
            "[0.61977186 0.61450382 0.55725191 0.61068702 0.63358779]\n"
          ],
          "name": "stdout"
        }
      ]
    },
    {
      "cell_type": "markdown",
      "metadata": {
        "id": "UAipe2DQ5lun"
      },
      "source": [
        "#### Resultados para Arvore de decisão "
      ]
    },
    {
      "cell_type": "code",
      "metadata": {
        "id": "ygpg5wMLJaZs"
      },
      "source": [
        "from sklearn.tree import DecisionTreeClassifier"
      ],
      "execution_count": 51,
      "outputs": []
    },
    {
      "cell_type": "code",
      "metadata": {
        "id": "0Sy_nrRGJcwy"
      },
      "source": [
        "# Cria o objeto de classificação através do \n",
        "clf_arvore = DecisionTreeClassifier()\n",
        "\n",
        "# Realiza o treinamento do classificador\n",
        "clf_arvore = clf_arvore.fit(X_train,y_train)\n",
        "\n",
        "#Realiza a previsão de classificaçao \n",
        "y_pred_arvore = clf_arvore.predict(X_test)"
      ],
      "execution_count": 52,
      "outputs": []
    },
    {
      "cell_type": "code",
      "metadata": {
        "id": "xuUr20NDJdvb",
        "outputId": "078a8446-f583-41d6-9a06-7632631c3acb",
        "colab": {
          "base_uri": "https://localhost:8080/",
          "height": 204
        }
      },
      "source": [
        "from sklearn.metrics import classification_report\n",
        "print(\"O valor de f1-score para a árvore de decisão é:\\n \",classification_report(y_test,y_pred_arvore))\n",
        "print(cross_val_score(clf_arvore, X_test, y_test,cv=5))"
      ],
      "execution_count": 53,
      "outputs": [
        {
          "output_type": "stream",
          "text": [
            "O valor de f1-score para a árvore de decisão é:\n",
            "                precision    recall  f1-score   support\n",
            "\n",
            "           0       0.58      0.58      0.58       664\n",
            "           1       0.57      0.56      0.56       647\n",
            "\n",
            "    accuracy                           0.57      1311\n",
            "   macro avg       0.57      0.57      0.57      1311\n",
            "weighted avg       0.57      0.57      0.57      1311\n",
            "\n",
            "[0.55893536 0.54198473 0.54961832 0.58396947 0.57633588]\n"
          ],
          "name": "stdout"
        }
      ]
    },
    {
      "cell_type": "markdown",
      "metadata": {
        "id": "C4q4cbqq5td8"
      },
      "source": [
        "#### Resultados para floresta randomica"
      ]
    },
    {
      "cell_type": "code",
      "metadata": {
        "id": "cS6jKrHvJqwW"
      },
      "source": [
        "from sklearn.ensemble import RandomForestClassifier"
      ],
      "execution_count": 54,
      "outputs": []
    },
    {
      "cell_type": "code",
      "metadata": {
        "id": "dTIZe0lWJt3O",
        "outputId": "f7df9d24-4f5a-468a-fa6e-8d746505cc1e",
        "colab": {
          "base_uri": "https://localhost:8080/",
          "height": 153
        }
      },
      "source": [
        "#define a floresta randomica\n",
        "clf_floresta = RandomForestClassifier(max_depth=9, random_state=1,n_estimators=100)\n",
        "clf_floresta.fit(X_train,y_train)"
      ],
      "execution_count": 55,
      "outputs": [
        {
          "output_type": "execute_result",
          "data": {
            "text/plain": [
              "RandomForestClassifier(bootstrap=True, ccp_alpha=0.0, class_weight=None,\n",
              "                       criterion='gini', max_depth=9, max_features='auto',\n",
              "                       max_leaf_nodes=None, max_samples=None,\n",
              "                       min_impurity_decrease=0.0, min_impurity_split=None,\n",
              "                       min_samples_leaf=1, min_samples_split=2,\n",
              "                       min_weight_fraction_leaf=0.0, n_estimators=100,\n",
              "                       n_jobs=None, oob_score=False, random_state=1, verbose=0,\n",
              "                       warm_start=False)"
            ]
          },
          "metadata": {
            "tags": []
          },
          "execution_count": 55
        }
      ]
    },
    {
      "cell_type": "code",
      "metadata": {
        "id": "N190ITRfJvJr"
      },
      "source": [
        "#Realiza a previsão de classificaçao \n",
        "y_pred_floresta = clf_floresta.predict(X_test)"
      ],
      "execution_count": 56,
      "outputs": []
    },
    {
      "cell_type": "code",
      "metadata": {
        "id": "P3VAtLUdJxm7",
        "outputId": "88433796-b7c8-464c-c167-cc0a030540ba",
        "colab": {
          "base_uri": "https://localhost:8080/",
          "height": 204
        }
      },
      "source": [
        "print(\"O valor de f1-score para a floresta randômica é:\\n \",classification_report(y_test,y_pred_floresta))\n",
        "print(cross_val_score(clf_floresta, X_train, y_train,cv=5))"
      ],
      "execution_count": 57,
      "outputs": [
        {
          "output_type": "stream",
          "text": [
            "O valor de f1-score para a floresta randômica é:\n",
            "                precision    recall  f1-score   support\n",
            "\n",
            "           0       0.63      0.80      0.71       664\n",
            "           1       0.72      0.51      0.60       647\n",
            "\n",
            "    accuracy                           0.66      1311\n",
            "   macro avg       0.67      0.66      0.65      1311\n",
            "weighted avg       0.67      0.66      0.65      1311\n",
            "\n",
            "[0.63398693 0.66176471 0.64705882 0.65849673 0.66121113]\n"
          ],
          "name": "stdout"
        }
      ]
    },
    {
      "cell_type": "code",
      "metadata": {
        "id": "pmWtZLKbPLiR",
        "outputId": "b8d671c3-6836-4550-8d88-6b088fee1c75",
        "colab": {
          "base_uri": "https://localhost:8080/",
          "height": 574
        }
      },
      "source": [
        "from sklearn.metrics import plot_confusion_matrix\n",
        "#realiza o plot da matriz de confusão\n",
        "plt.rcParams[\"figure.figsize\"]=(10, 10)\n",
        "plot_confusion_matrix(clf_floresta, X_test, y_test)\n",
        "plt.show()"
      ],
      "execution_count": 58,
      "outputs": [
        {
          "output_type": "display_data",
          "data": {
            "image/png": "[encoded data removed]",
            "text/plain": [
              "<Figure size 720x720 with 2 Axes>"
            ]
          },
          "metadata": {
            "tags": [],
            "needs_background": "light"
          }
        }
      ]
    },
    {
      "cell_type": "markdown",
      "metadata": {
        "id": "ATf2VRaQ51aX"
      },
      "source": [
        "#### Resultados para MLP"
      ]
    },
    {
      "cell_type": "code",
      "metadata": {
        "id": "hMTloRd3KAN0",
        "outputId": "bc95b3d4-fe7c-4e42-a803-9e42fe7f2a6e",
        "colab": {
          "base_uri": "https://localhost:8080/",
          "height": 71
        }
      },
      "source": [
        "#MLP como classificador\n",
        "from sklearn.neural_network import MLPClassifier\n",
        "#define a configuração da rede\n",
        "clf_mlp = MLPClassifier( alpha=1e-5, hidden_layer_sizes=(5, 5), random_state=1)\n",
        "\n",
        "#realiza o fit do modelo\n",
        "clf_mlp.fit(X_train,y_train)\n",
        "\n",
        "\n",
        "#realiza a previsão\n",
        "y_pred_mlp=clf_mlp.predict(X_test)"
      ],
      "execution_count": 59,
      "outputs": [
        {
          "output_type": "stream",
          "text": [
            "/usr/local/lib/python3.6/dist-packages/sklearn/neural_network/_multilayer_perceptron.py:571: ConvergenceWarning: Stochastic Optimizer: Maximum iterations (200) reached and the optimization hasn't converged yet.\n",
            "  % self.max_iter, ConvergenceWarning)\n"
          ],
          "name": "stderr"
        }
      ]
    },
    {
      "cell_type": "code",
      "metadata": {
        "id": "Rp_PVUBDKEA3",
        "outputId": "8eba2e07-2c26-414b-e0ce-35e603324d49",
        "colab": {
          "base_uri": "https://localhost:8080/",
          "height": 394
        }
      },
      "source": [
        "print(\"O valor de f1-score para MLP é:\\n \",classification_report(y_test,y_pred_mlp))\n",
        "print(cross_val_score(clf_mlp, X_train, y_train,cv=5))"
      ],
      "execution_count": 60,
      "outputs": [
        {
          "output_type": "stream",
          "text": [
            "O valor de f1-score para MLP é:\n",
            "                precision    recall  f1-score   support\n",
            "\n",
            "           0       0.65      0.76      0.70       664\n",
            "           1       0.70      0.58      0.63       647\n",
            "\n",
            "    accuracy                           0.67      1311\n",
            "   macro avg       0.67      0.67      0.66      1311\n",
            "weighted avg       0.67      0.67      0.67      1311\n",
            "\n"
          ],
          "name": "stdout"
        },
        {
          "output_type": "stream",
          "text": [
            "/usr/local/lib/python3.6/dist-packages/sklearn/neural_network/_multilayer_perceptron.py:571: ConvergenceWarning: Stochastic Optimizer: Maximum iterations (200) reached and the optimization hasn't converged yet.\n",
            "  % self.max_iter, ConvergenceWarning)\n",
            "/usr/local/lib/python3.6/dist-packages/sklearn/neural_network/_multilayer_perceptron.py:571: ConvergenceWarning: Stochastic Optimizer: Maximum iterations (200) reached and the optimization hasn't converged yet.\n",
            "  % self.max_iter, ConvergenceWarning)\n",
            "/usr/local/lib/python3.6/dist-packages/sklearn/neural_network/_multilayer_perceptron.py:571: ConvergenceWarning: Stochastic Optimizer: Maximum iterations (200) reached and the optimization hasn't converged yet.\n",
            "  % self.max_iter, ConvergenceWarning)\n",
            "/usr/local/lib/python3.6/dist-packages/sklearn/neural_network/_multilayer_perceptron.py:571: ConvergenceWarning: Stochastic Optimizer: Maximum iterations (200) reached and the optimization hasn't converged yet.\n",
            "  % self.max_iter, ConvergenceWarning)\n"
          ],
          "name": "stderr"
        },
        {
          "output_type": "stream",
          "text": [
            "[0.64542484 0.64542484 0.64215686 0.62581699 0.63175123]\n"
          ],
          "name": "stdout"
        },
        {
          "output_type": "stream",
          "text": [
            "/usr/local/lib/python3.6/dist-packages/sklearn/neural_network/_multilayer_perceptron.py:571: ConvergenceWarning: Stochastic Optimizer: Maximum iterations (200) reached and the optimization hasn't converged yet.\n",
            "  % self.max_iter, ConvergenceWarning)\n"
          ],
          "name": "stderr"
        }
      ]
    },
    {
      "cell_type": "code",
      "metadata": {
        "id": "oW7Mm1oCFIja",
        "outputId": "32494556-efd5-4eeb-ad16-745e17a524ee",
        "colab": {
          "base_uri": "https://localhost:8080/",
          "height": 575
        }
      },
      "source": [
        "\n",
        "#realiza o plot da matriz de confusão\n",
        "plt.rcParams[\"figure.figsize\"]=(10, 10)\n",
        "plot_confusion_matrix(clf_mlp, X_test, y_test)\n",
        "plt.show()"
      ],
      "execution_count": 61,
      "outputs": [
        {
          "output_type": "display_data",
          "data": {
            "image/png": "[encoded data removed]",
            "text/plain": [
              "<Figure size 720x720 with 2 Axes>"
            ]
          },
          "metadata": {
            "tags": [],
            "needs_background": "light"
          }
        }
      ]
    }
  ]
}