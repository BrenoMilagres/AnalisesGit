{
 "cells": [
  {
   "cell_type": "markdown",
   "metadata": {},
   "source": [
    "#### Fazendo a conexão do banco de Dados PostgresSQL  ####"
   ]
  },
  {
   "cell_type": "code",
   "execution_count": 135,
   "metadata": {},
   "outputs": [],
   "source": [
    "import psycopg2\n",
    "import pandas as pd\n",
    "import matplotlib.pyplot as plt\n",
    "\n",
    "\n",
    "\n",
    "con = psycopg2.connect(host='localhost', database='ebdb',\n",
    "user='postgres', password='366936')\n",
    "cur = con.cursor()"
   ]
  },
  {
   "cell_type": "markdown",
   "metadata": {},
   "source": [
    "#### Através de uma consulta sql conseguimos contruir um dataframe (Pandas) ####"
   ]
  },
  {
   "cell_type": "code",
   "execution_count": 136,
   "metadata": {},
   "outputs": [
    {
     "data": {
      "text/html": [
       "<div>\n",
       "<style scoped>\n",
       "    .dataframe tbody tr th:only-of-type {\n",
       "        vertical-align: middle;\n",
       "    }\n",
       "\n",
       "    .dataframe tbody tr th {\n",
       "        vertical-align: top;\n",
       "    }\n",
       "\n",
       "    .dataframe thead th {\n",
       "        text-align: right;\n",
       "    }\n",
       "</style>\n",
       "<table border=\"1\" class=\"dataframe\">\n",
       "  <thead>\n",
       "    <tr style=\"text-align: right;\">\n",
       "      <th></th>\n",
       "      <th>orderId</th>\n",
       "      <th>status</th>\n",
       "      <th>statusDescription</th>\n",
       "      <th>creationDate</th>\n",
       "      <th>authorizedDate</th>\n",
       "      <th>totalValue</th>\n",
       "      <th>paymentNames</th>\n",
       "    </tr>\n",
       "  </thead>\n",
       "  <tbody>\n",
       "    <tr>\n",
       "      <th>0</th>\n",
       "      <td>921060908773-01</td>\n",
       "      <td>canceled</td>\n",
       "      <td>Cancelado</td>\n",
       "      <td>2019-03-29 21:15:08+00:00</td>\n",
       "      <td>NaT</td>\n",
       "      <td>212689</td>\n",
       "      <td>Boleto Bancário</td>\n",
       "    </tr>\n",
       "    <tr>\n",
       "      <th>1</th>\n",
       "      <td>1035170627063-01</td>\n",
       "      <td>invoiced</td>\n",
       "      <td>Faturado</td>\n",
       "      <td>2020-05-26 16:10:31+00:00</td>\n",
       "      <td>2020-05-26 16:10:43+00:00</td>\n",
       "      <td>59409</td>\n",
       "      <td>PayPalPlus</td>\n",
       "    </tr>\n",
       "    <tr>\n",
       "      <th>2</th>\n",
       "      <td>1035171496388-01</td>\n",
       "      <td>invoiced</td>\n",
       "      <td>Faturado</td>\n",
       "      <td>2020-05-26 16:24:55+00:00</td>\n",
       "      <td>2020-05-26 17:00:19+00:00</td>\n",
       "      <td>43544</td>\n",
       "      <td>Débito Itau</td>\n",
       "    </tr>\n",
       "    <tr>\n",
       "      <th>3</th>\n",
       "      <td>1035182874044-01</td>\n",
       "      <td>invoiced</td>\n",
       "      <td>Faturado</td>\n",
       "      <td>2020-05-26 16:47:52+00:00</td>\n",
       "      <td>2020-05-27 13:00:34+00:00</td>\n",
       "      <td>35863</td>\n",
       "      <td>Boleto Bancário</td>\n",
       "    </tr>\n",
       "    <tr>\n",
       "      <th>4</th>\n",
       "      <td>1035183140510-01</td>\n",
       "      <td>canceled</td>\n",
       "      <td>Cancelado</td>\n",
       "      <td>2020-05-26 16:52:22+00:00</td>\n",
       "      <td>NaT</td>\n",
       "      <td>14715</td>\n",
       "      <td>Boleto Bancário</td>\n",
       "    </tr>\n",
       "  </tbody>\n",
       "</table>\n",
       "</div>"
      ],
      "text/plain": [
       "            orderId    status statusDescription              creationDate  \\\n",
       "0   921060908773-01  canceled         Cancelado 2019-03-29 21:15:08+00:00   \n",
       "1  1035170627063-01  invoiced          Faturado 2020-05-26 16:10:31+00:00   \n",
       "2  1035171496388-01  invoiced          Faturado 2020-05-26 16:24:55+00:00   \n",
       "3  1035182874044-01  invoiced          Faturado 2020-05-26 16:47:52+00:00   \n",
       "4  1035183140510-01  canceled         Cancelado 2020-05-26 16:52:22+00:00   \n",
       "\n",
       "             authorizedDate  totalValue     paymentNames  \n",
       "0                       NaT      212689  Boleto Bancário  \n",
       "1 2020-05-26 16:10:43+00:00       59409       PayPalPlus  \n",
       "2 2020-05-26 17:00:19+00:00       43544      Débito Itau  \n",
       "3 2020-05-27 13:00:34+00:00       35863  Boleto Bancário  \n",
       "4                       NaT       14715  Boleto Bancário  "
      ]
     },
     "execution_count": 136,
     "metadata": {},
     "output_type": "execute_result"
    }
   ],
   "source": [
    "df_orders = pd.read_sql_query('select * from dataset.orders',con)\n",
    "df_orders.head()\n",
    "    "
   ]
  },
  {
   "cell_type": "code",
   "execution_count": 137,
   "metadata": {},
   "outputs": [
    {
     "name": "stdout",
     "output_type": "stream",
     "text": [
      "<class 'pandas.core.frame.DataFrame'>\n",
      "RangeIndex: 10644 entries, 0 to 10643\n",
      "Data columns (total 7 columns):\n",
      " #   Column             Non-Null Count  Dtype              \n",
      "---  ------             --------------  -----              \n",
      " 0   orderId            10644 non-null  object             \n",
      " 1   status             10644 non-null  object             \n",
      " 2   statusDescription  10644 non-null  object             \n",
      " 3   creationDate       10644 non-null  datetime64[ns, UTC]\n",
      " 4   authorizedDate     8404 non-null   datetime64[ns, UTC]\n",
      " 5   totalValue         10644 non-null  int64              \n",
      " 6   paymentNames       10404 non-null  object             \n",
      "dtypes: datetime64[ns, UTC](2), int64(1), object(4)\n",
      "memory usage: 582.2+ KB\n"
     ]
    }
   ],
   "source": [
    "df_orders.info()"
   ]
  },
  {
   "cell_type": "markdown",
   "metadata": {},
   "source": [
    "#### Total de ordens do e-comerce"
   ]
  },
  {
   "cell_type": "code",
   "execution_count": 138,
   "metadata": {},
   "outputs": [
    {
     "data": {
      "text/plain": [
       "5322"
      ]
     },
     "execution_count": 138,
     "metadata": {},
     "output_type": "execute_result"
    }
   ],
   "source": [
    "df_orders['orderId'].nunique()"
   ]
  },
  {
   "cell_type": "code",
   "execution_count": 139,
   "metadata": {},
   "outputs": [
    {
     "data": {
      "text/plain": [
       "orderId                 0\n",
       "status                  0\n",
       "statusDescription       0\n",
       "creationDate            0\n",
       "authorizedDate       2240\n",
       "totalValue              0\n",
       "paymentNames          240\n",
       "dtype: int64"
      ]
     },
     "execution_count": 139,
     "metadata": {},
     "output_type": "execute_result"
    }
   ],
   "source": [
    "df_orders.isnull().sum()"
   ]
  },
  {
   "cell_type": "code",
   "execution_count": 140,
   "metadata": {},
   "outputs": [
    {
     "name": "stdout",
     "output_type": "stream",
     "text": [
      "True\n"
     ]
    }
   ],
   "source": [
    "# existem registros duplicados que precisam ser tratados\n",
    "print(any(df_orders['orderId'].duplicated()))\n",
    "df_orders = df_orders.drop_duplicates()\n",
    "\n"
   ]
  },
  {
   "cell_type": "code",
   "execution_count": 141,
   "metadata": {},
   "outputs": [
    {
     "data": {
      "text/html": [
       "<div>\n",
       "<style scoped>\n",
       "    .dataframe tbody tr th:only-of-type {\n",
       "        vertical-align: middle;\n",
       "    }\n",
       "\n",
       "    .dataframe tbody tr th {\n",
       "        vertical-align: top;\n",
       "    }\n",
       "\n",
       "    .dataframe thead th {\n",
       "        text-align: right;\n",
       "    }\n",
       "</style>\n",
       "<table border=\"1\" class=\"dataframe\">\n",
       "  <thead>\n",
       "    <tr style=\"text-align: right;\">\n",
       "      <th></th>\n",
       "      <th>orderId</th>\n",
       "      <th>status</th>\n",
       "      <th>statusDescription</th>\n",
       "      <th>creationDate</th>\n",
       "      <th>authorizedDate</th>\n",
       "      <th>totalValue</th>\n",
       "      <th>paymentNames</th>\n",
       "    </tr>\n",
       "  </thead>\n",
       "  <tbody>\n",
       "    <tr>\n",
       "      <th>1</th>\n",
       "      <td>1035170627063-01</td>\n",
       "      <td>invoiced</td>\n",
       "      <td>Faturado</td>\n",
       "      <td>2020-05-26 16:10:31+00:00</td>\n",
       "      <td>2020-05-26 16:10:43+00:00</td>\n",
       "      <td>59409</td>\n",
       "      <td>PayPalPlus</td>\n",
       "    </tr>\n",
       "    <tr>\n",
       "      <th>2</th>\n",
       "      <td>1035171496388-01</td>\n",
       "      <td>invoiced</td>\n",
       "      <td>Faturado</td>\n",
       "      <td>2020-05-26 16:24:55+00:00</td>\n",
       "      <td>2020-05-26 17:00:19+00:00</td>\n",
       "      <td>43544</td>\n",
       "      <td>Débito Itau</td>\n",
       "    </tr>\n",
       "    <tr>\n",
       "      <th>3</th>\n",
       "      <td>1035182874044-01</td>\n",
       "      <td>invoiced</td>\n",
       "      <td>Faturado</td>\n",
       "      <td>2020-05-26 16:47:52+00:00</td>\n",
       "      <td>2020-05-27 13:00:34+00:00</td>\n",
       "      <td>35863</td>\n",
       "      <td>Boleto Bancário</td>\n",
       "    </tr>\n",
       "    <tr>\n",
       "      <th>5</th>\n",
       "      <td>1035180591936-01</td>\n",
       "      <td>invoiced</td>\n",
       "      <td>Faturado</td>\n",
       "      <td>2020-05-26 17:09:47+00:00</td>\n",
       "      <td>2020-05-27 13:36:54+00:00</td>\n",
       "      <td>4083</td>\n",
       "      <td>Boleto Bancário</td>\n",
       "    </tr>\n",
       "    <tr>\n",
       "      <th>7</th>\n",
       "      <td>933473280816-01</td>\n",
       "      <td>invoiced</td>\n",
       "      <td>Faturado</td>\n",
       "      <td>2019-05-20 13:54:42+00:00</td>\n",
       "      <td>2019-05-21 17:00:30+00:00</td>\n",
       "      <td>31514</td>\n",
       "      <td>Boleto Bancário</td>\n",
       "    </tr>\n",
       "    <tr>\n",
       "      <th>...</th>\n",
       "      <td>...</td>\n",
       "      <td>...</td>\n",
       "      <td>...</td>\n",
       "      <td>...</td>\n",
       "      <td>...</td>\n",
       "      <td>...</td>\n",
       "      <td>...</td>\n",
       "    </tr>\n",
       "    <tr>\n",
       "      <th>5311</th>\n",
       "      <td>1056922257810-01</td>\n",
       "      <td>invoiced</td>\n",
       "      <td>Faturado</td>\n",
       "      <td>2020-08-25 06:37:35+00:00</td>\n",
       "      <td>2020-08-26 13:45:04+00:00</td>\n",
       "      <td>61290</td>\n",
       "      <td>Boleto Bancário</td>\n",
       "    </tr>\n",
       "    <tr>\n",
       "      <th>5313</th>\n",
       "      <td>1057111413173-01</td>\n",
       "      <td>invoiced</td>\n",
       "      <td>Faturado</td>\n",
       "      <td>2020-08-26 02:23:30+00:00</td>\n",
       "      <td>2020-08-26 02:23:41+00:00</td>\n",
       "      <td>27338</td>\n",
       "      <td>PayPalPlus</td>\n",
       "    </tr>\n",
       "    <tr>\n",
       "      <th>5315</th>\n",
       "      <td>1057120724104-01</td>\n",
       "      <td>invoiced</td>\n",
       "      <td>Faturado</td>\n",
       "      <td>2020-08-26 03:12:03+00:00</td>\n",
       "      <td>2020-08-26 12:59:30+00:00</td>\n",
       "      <td>44139</td>\n",
       "      <td>Boleto Bancário</td>\n",
       "    </tr>\n",
       "    <tr>\n",
       "      <th>5318</th>\n",
       "      <td>1057342679330-01</td>\n",
       "      <td>handling</td>\n",
       "      <td>Preparando Entrega</td>\n",
       "      <td>2020-08-27 00:44:35+00:00</td>\n",
       "      <td>2020-08-27 00:44:46+00:00</td>\n",
       "      <td>1956</td>\n",
       "      <td>PayPalPlus</td>\n",
       "    </tr>\n",
       "    <tr>\n",
       "      <th>5321</th>\n",
       "      <td>1057360754916-01</td>\n",
       "      <td>handling</td>\n",
       "      <td>Preparando Entrega</td>\n",
       "      <td>2020-08-27 03:12:31+00:00</td>\n",
       "      <td>2020-08-27 03:12:41+00:00</td>\n",
       "      <td>140060</td>\n",
       "      <td>PayPalPlus</td>\n",
       "    </tr>\n",
       "  </tbody>\n",
       "</table>\n",
       "<p>4119 rows × 7 columns</p>\n",
       "</div>"
      ],
      "text/plain": [
       "               orderId    status   statusDescription  \\\n",
       "1     1035170627063-01  invoiced            Faturado   \n",
       "2     1035171496388-01  invoiced            Faturado   \n",
       "3     1035182874044-01  invoiced            Faturado   \n",
       "5     1035180591936-01  invoiced            Faturado   \n",
       "7      933473280816-01  invoiced            Faturado   \n",
       "...                ...       ...                 ...   \n",
       "5311  1056922257810-01  invoiced            Faturado   \n",
       "5313  1057111413173-01  invoiced            Faturado   \n",
       "5315  1057120724104-01  invoiced            Faturado   \n",
       "5318  1057342679330-01  handling  Preparando Entrega   \n",
       "5321  1057360754916-01  handling  Preparando Entrega   \n",
       "\n",
       "                  creationDate            authorizedDate  totalValue  \\\n",
       "1    2020-05-26 16:10:31+00:00 2020-05-26 16:10:43+00:00       59409   \n",
       "2    2020-05-26 16:24:55+00:00 2020-05-26 17:00:19+00:00       43544   \n",
       "3    2020-05-26 16:47:52+00:00 2020-05-27 13:00:34+00:00       35863   \n",
       "5    2020-05-26 17:09:47+00:00 2020-05-27 13:36:54+00:00        4083   \n",
       "7    2019-05-20 13:54:42+00:00 2019-05-21 17:00:30+00:00       31514   \n",
       "...                        ...                       ...         ...   \n",
       "5311 2020-08-25 06:37:35+00:00 2020-08-26 13:45:04+00:00       61290   \n",
       "5313 2020-08-26 02:23:30+00:00 2020-08-26 02:23:41+00:00       27338   \n",
       "5315 2020-08-26 03:12:03+00:00 2020-08-26 12:59:30+00:00       44139   \n",
       "5318 2020-08-27 00:44:35+00:00 2020-08-27 00:44:46+00:00        1956   \n",
       "5321 2020-08-27 03:12:31+00:00 2020-08-27 03:12:41+00:00      140060   \n",
       "\n",
       "         paymentNames  \n",
       "1          PayPalPlus  \n",
       "2         Débito Itau  \n",
       "3     Boleto Bancário  \n",
       "5     Boleto Bancário  \n",
       "7     Boleto Bancário  \n",
       "...               ...  \n",
       "5311  Boleto Bancário  \n",
       "5313       PayPalPlus  \n",
       "5315  Boleto Bancário  \n",
       "5318       PayPalPlus  \n",
       "5321       PayPalPlus  \n",
       "\n",
       "[4119 rows x 7 columns]"
      ]
     },
     "execution_count": 141,
     "metadata": {},
     "output_type": "execute_result"
    }
   ],
   "source": [
    "# tratando valores nulos \n",
    "df_orders.dropna()"
   ]
  },
  {
   "cell_type": "code",
   "execution_count": 142,
   "metadata": {},
   "outputs": [
    {
     "name": "stdout",
     "output_type": "stream",
     "text": [
      "<class 'pandas.core.frame.DataFrame'>\n",
      "Int64Index: 5322 entries, 0 to 5321\n",
      "Data columns (total 7 columns):\n",
      " #   Column             Non-Null Count  Dtype              \n",
      "---  ------             --------------  -----              \n",
      " 0   orderId            5322 non-null   object             \n",
      " 1   status             5322 non-null   object             \n",
      " 2   statusDescription  5322 non-null   object             \n",
      " 3   creationDate       5322 non-null   datetime64[ns, UTC]\n",
      " 4   authorizedDate     4202 non-null   datetime64[ns, UTC]\n",
      " 5   totalValue         5322 non-null   int64              \n",
      " 6   paymentNames       5202 non-null   object             \n",
      "dtypes: datetime64[ns, UTC](2), int64(1), object(4)\n",
      "memory usage: 332.6+ KB\n"
     ]
    }
   ],
   "source": [
    "df_orders.info()"
   ]
  },
  {
   "cell_type": "markdown",
   "metadata": {},
   "source": [
    "#### Soma dos valores de todos os pedidos pagos."
   ]
  },
  {
   "cell_type": "code",
   "execution_count": 143,
   "metadata": {},
   "outputs": [
    {
     "data": {
      "text/plain": [
       "192542758"
      ]
     },
     "execution_count": 143,
     "metadata": {},
     "output_type": "execute_result"
    }
   ],
   "source": [
    "df_orders['totalValue'].sum()"
   ]
  },
  {
   "cell_type": "markdown",
   "metadata": {},
   "source": [
    "#### Modelos de pagamentos mais utilizados"
   ]
  },
  {
   "cell_type": "code",
   "execution_count": 144,
   "metadata": {},
   "outputs": [
    {
     "data": {
      "text/plain": [
       "<matplotlib.axes._subplots.AxesSubplot at 0x1fe06b0a908>"
      ]
     },
     "execution_count": 144,
     "metadata": {},
     "output_type": "execute_result"
    },
    {
     "data": {
      "image/png": "[encoded data removed]",
      "text/plain": [
       "<Figure size 432x288 with 1 Axes>"
      ]
     },
     "metadata": {
      "needs_background": "light"
     },
     "output_type": "display_data"
    }
   ],
   "source": [
    "df_orders['paymentNames'].value_counts().plot(kind='bar', title='Tipos de pagamentos')"
   ]
  },
  {
   "cell_type": "markdown",
   "metadata": {},
   "source": [
    "*É possível observar que a maior parte dos pagamentos são feitos através do paypalplus e boleto bancário, logo a manutenção desses serviços é mais importante que as demais.*"
   ]
  },
  {
   "cell_type": "markdown",
   "metadata": {},
   "source": [
    "#### Total De pedidos Pagos "
   ]
  },
  {
   "cell_type": "code",
   "execution_count": 145,
   "metadata": {},
   "outputs": [
    {
     "data": {
      "text/plain": [
       "4162"
      ]
     },
     "execution_count": 145,
     "metadata": {},
     "output_type": "execute_result"
    }
   ],
   "source": [
    "(df_orders['status']=='invoiced').sum()\n"
   ]
  },
  {
   "cell_type": "code",
   "execution_count": 146,
   "metadata": {},
   "outputs": [
    {
     "data": {
      "text/plain": [
       "<matplotlib.axes._subplots.AxesSubplot at 0x1fe0987d5c0>"
      ]
     },
     "execution_count": 146,
     "metadata": {},
     "output_type": "execute_result"
    },
    {
     "data": {
      "image/png": "[encoded data removed]",
      "text/plain": [
       "<Figure size 432x288 with 1 Axes>"
      ]
     },
     "metadata": {
      "needs_background": "light"
     },
     "output_type": "display_data"
    }
   ],
   "source": [
    "df_orders['status'].value_counts().plot(kind='bar', title='Status dos pedidos')"
   ]
  },
  {
   "cell_type": "markdown",
   "metadata": {},
   "source": [
    "*A maioria dos pedidos são concluídos, logo o modelo de site e estratégias de marketing estão alinhados com as prioridades dos clientes.*"
   ]
  },
  {
   "cell_type": "markdown",
   "metadata": {},
   "source": [
    "#### Quantidade de Clientes "
   ]
  },
  {
   "cell_type": "code",
   "execution_count": 147,
   "metadata": {},
   "outputs": [
    {
     "data": {
      "text/html": [
       "<div>\n",
       "<style scoped>\n",
       "    .dataframe tbody tr th:only-of-type {\n",
       "        vertical-align: middle;\n",
       "    }\n",
       "\n",
       "    .dataframe tbody tr th {\n",
       "        vertical-align: top;\n",
       "    }\n",
       "\n",
       "    .dataframe thead th {\n",
       "        text-align: right;\n",
       "    }\n",
       "</style>\n",
       "<table border=\"1\" class=\"dataframe\">\n",
       "  <thead>\n",
       "    <tr style=\"text-align: right;\">\n",
       "      <th></th>\n",
       "      <th>orderId</th>\n",
       "      <th>firstName</th>\n",
       "      <th>userProfileId</th>\n",
       "    </tr>\n",
       "  </thead>\n",
       "  <tbody>\n",
       "    <tr>\n",
       "      <th>0</th>\n",
       "      <td>921060908773-01</td>\n",
       "      <td>teste</td>\n",
       "      <td>d2a40eac-4be0-45cf-a8c2-ce77c1ce6e35</td>\n",
       "    </tr>\n",
       "    <tr>\n",
       "      <th>1</th>\n",
       "      <td>1035760481271-01</td>\n",
       "      <td>Tanyclaer</td>\n",
       "      <td>1082b882-2476-4198-9ab2-b75969d70fcf</td>\n",
       "    </tr>\n",
       "    <tr>\n",
       "      <th>2</th>\n",
       "      <td>933472736971-01</td>\n",
       "      <td>ju</td>\n",
       "      <td>cc4aacc0-6af1-4236-9771-1b0df28b84c5</td>\n",
       "    </tr>\n",
       "    <tr>\n",
       "      <th>3</th>\n",
       "      <td>1035170627063-01</td>\n",
       "      <td>Maria Fernanda</td>\n",
       "      <td>8d4ee5c7-bcbf-468c-8641-f13a58d4cab6</td>\n",
       "    </tr>\n",
       "    <tr>\n",
       "      <th>4</th>\n",
       "      <td>1035171496388-01</td>\n",
       "      <td>CLAUDIA</td>\n",
       "      <td>e8f368d0-e504-4d03-b478-070ea0980936</td>\n",
       "    </tr>\n",
       "  </tbody>\n",
       "</table>\n",
       "</div>"
      ],
      "text/plain": [
       "            orderId       firstName                         userProfileId\n",
       "0   921060908773-01           teste  d2a40eac-4be0-45cf-a8c2-ce77c1ce6e35\n",
       "1  1035760481271-01       Tanyclaer  1082b882-2476-4198-9ab2-b75969d70fcf\n",
       "2   933472736971-01              ju  cc4aacc0-6af1-4236-9771-1b0df28b84c5\n",
       "3  1035170627063-01  Maria Fernanda  8d4ee5c7-bcbf-468c-8641-f13a58d4cab6\n",
       "4  1035171496388-01         CLAUDIA  e8f368d0-e504-4d03-b478-070ea0980936"
      ]
     },
     "execution_count": 147,
     "metadata": {},
     "output_type": "execute_result"
    }
   ],
   "source": [
    "df_clientes = pd.read_sql_query('select * from dataset.order_clients;',con)\n",
    "df_clientes.head()"
   ]
  },
  {
   "cell_type": "code",
   "execution_count": 148,
   "metadata": {},
   "outputs": [
    {
     "name": "stdout",
     "output_type": "stream",
     "text": [
      "<class 'pandas.core.frame.DataFrame'>\n",
      "RangeIndex: 10644 entries, 0 to 10643\n",
      "Data columns (total 3 columns):\n",
      " #   Column         Non-Null Count  Dtype \n",
      "---  ------         --------------  ----- \n",
      " 0   orderId        10644 non-null  object\n",
      " 1   firstName      10644 non-null  object\n",
      " 2   userProfileId  10420 non-null  object\n",
      "dtypes: object(3)\n",
      "memory usage: 249.6+ KB\n"
     ]
    }
   ],
   "source": [
    "df_clientes.info()"
   ]
  },
  {
   "cell_type": "code",
   "execution_count": 149,
   "metadata": {},
   "outputs": [
    {
     "data": {
      "text/plain": [
       "orderId            0\n",
       "firstName          0\n",
       "userProfileId    224\n",
       "dtype: int64"
      ]
     },
     "execution_count": 149,
     "metadata": {},
     "output_type": "execute_result"
    }
   ],
   "source": [
    "df_clientes.isnull().sum()"
   ]
  },
  {
   "cell_type": "code",
   "execution_count": 150,
   "metadata": {},
   "outputs": [
    {
     "data": {
      "text/html": [
       "<div>\n",
       "<style scoped>\n",
       "    .dataframe tbody tr th:only-of-type {\n",
       "        vertical-align: middle;\n",
       "    }\n",
       "\n",
       "    .dataframe tbody tr th {\n",
       "        vertical-align: top;\n",
       "    }\n",
       "\n",
       "    .dataframe thead th {\n",
       "        text-align: right;\n",
       "    }\n",
       "</style>\n",
       "<table border=\"1\" class=\"dataframe\">\n",
       "  <thead>\n",
       "    <tr style=\"text-align: right;\">\n",
       "      <th></th>\n",
       "      <th>orderId</th>\n",
       "      <th>firstName</th>\n",
       "      <th>userProfileId</th>\n",
       "    </tr>\n",
       "  </thead>\n",
       "  <tbody>\n",
       "    <tr>\n",
       "      <th>0</th>\n",
       "      <td>921060908773-01</td>\n",
       "      <td>teste</td>\n",
       "      <td>d2a40eac-4be0-45cf-a8c2-ce77c1ce6e35</td>\n",
       "    </tr>\n",
       "    <tr>\n",
       "      <th>1</th>\n",
       "      <td>1035760481271-01</td>\n",
       "      <td>Tanyclaer</td>\n",
       "      <td>1082b882-2476-4198-9ab2-b75969d70fcf</td>\n",
       "    </tr>\n",
       "    <tr>\n",
       "      <th>2</th>\n",
       "      <td>933472736971-01</td>\n",
       "      <td>ju</td>\n",
       "      <td>cc4aacc0-6af1-4236-9771-1b0df28b84c5</td>\n",
       "    </tr>\n",
       "    <tr>\n",
       "      <th>3</th>\n",
       "      <td>1035170627063-01</td>\n",
       "      <td>Maria Fernanda</td>\n",
       "      <td>8d4ee5c7-bcbf-468c-8641-f13a58d4cab6</td>\n",
       "    </tr>\n",
       "    <tr>\n",
       "      <th>4</th>\n",
       "      <td>1035171496388-01</td>\n",
       "      <td>CLAUDIA</td>\n",
       "      <td>e8f368d0-e504-4d03-b478-070ea0980936</td>\n",
       "    </tr>\n",
       "    <tr>\n",
       "      <th>...</th>\n",
       "      <td>...</td>\n",
       "      <td>...</td>\n",
       "      <td>...</td>\n",
       "    </tr>\n",
       "    <tr>\n",
       "      <th>10639</th>\n",
       "      <td>1057112887242-01</td>\n",
       "      <td>Helen</td>\n",
       "      <td>4b6ff588-a225-437f-b6f0-6d15a5a5a307</td>\n",
       "    </tr>\n",
       "    <tr>\n",
       "      <th>10640</th>\n",
       "      <td>1057111413173-01</td>\n",
       "      <td>Luciane</td>\n",
       "      <td>de0fea29-1125-4fc4-955a-24902e919252</td>\n",
       "    </tr>\n",
       "    <tr>\n",
       "      <th>10641</th>\n",
       "      <td>1057123169732-01</td>\n",
       "      <td>Fernando</td>\n",
       "      <td>7e500927-d2d9-4a72-aae2-fda61c32594c</td>\n",
       "    </tr>\n",
       "    <tr>\n",
       "      <th>10642</th>\n",
       "      <td>1057120724104-01</td>\n",
       "      <td>Carolina</td>\n",
       "      <td>8a7e28f2-3a4c-4b1b-80a4-cd5061c49ba0</td>\n",
       "    </tr>\n",
       "    <tr>\n",
       "      <th>10643</th>\n",
       "      <td>1057360754916-01</td>\n",
       "      <td>Daiane</td>\n",
       "      <td>7ddea2c5-0dce-486c-9641-eae38d88c6fb</td>\n",
       "    </tr>\n",
       "  </tbody>\n",
       "</table>\n",
       "<p>10420 rows × 3 columns</p>\n",
       "</div>"
      ],
      "text/plain": [
       "                orderId       firstName                         userProfileId\n",
       "0       921060908773-01           teste  d2a40eac-4be0-45cf-a8c2-ce77c1ce6e35\n",
       "1      1035760481271-01       Tanyclaer  1082b882-2476-4198-9ab2-b75969d70fcf\n",
       "2       933472736971-01              ju  cc4aacc0-6af1-4236-9771-1b0df28b84c5\n",
       "3      1035170627063-01  Maria Fernanda  8d4ee5c7-bcbf-468c-8641-f13a58d4cab6\n",
       "4      1035171496388-01         CLAUDIA  e8f368d0-e504-4d03-b478-070ea0980936\n",
       "...                 ...             ...                                   ...\n",
       "10639  1057112887242-01           Helen  4b6ff588-a225-437f-b6f0-6d15a5a5a307\n",
       "10640  1057111413173-01         Luciane  de0fea29-1125-4fc4-955a-24902e919252\n",
       "10641  1057123169732-01        Fernando  7e500927-d2d9-4a72-aae2-fda61c32594c\n",
       "10642  1057120724104-01        Carolina  8a7e28f2-3a4c-4b1b-80a4-cd5061c49ba0\n",
       "10643  1057360754916-01          Daiane  7ddea2c5-0dce-486c-9641-eae38d88c6fb\n",
       "\n",
       "[10420 rows x 3 columns]"
      ]
     },
     "execution_count": 150,
     "metadata": {},
     "output_type": "execute_result"
    }
   ],
   "source": [
    "# Tratando dados nulos\n",
    "df_clientes.dropna()\n"
   ]
  },
  {
   "cell_type": "code",
   "execution_count": 151,
   "metadata": {},
   "outputs": [
    {
     "name": "stdout",
     "output_type": "stream",
     "text": [
      "<class 'pandas.core.frame.DataFrame'>\n",
      "RangeIndex: 10644 entries, 0 to 10643\n",
      "Data columns (total 3 columns):\n",
      " #   Column         Non-Null Count  Dtype \n",
      "---  ------         --------------  ----- \n",
      " 0   orderId        10644 non-null  object\n",
      " 1   firstName      10644 non-null  object\n",
      " 2   userProfileId  10420 non-null  object\n",
      "dtypes: object(3)\n",
      "memory usage: 249.6+ KB\n"
     ]
    }
   ],
   "source": [
    "df_clientes.info()"
   ]
  },
  {
   "cell_type": "markdown",
   "metadata": {},
   "source": [
    "#### Total De  Clientes "
   ]
  },
  {
   "cell_type": "code",
   "execution_count": 152,
   "metadata": {},
   "outputs": [
    {
     "data": {
      "text/plain": [
       "3445"
      ]
     },
     "execution_count": 152,
     "metadata": {},
     "output_type": "execute_result"
    }
   ],
   "source": [
    "df_clientes['userProfileId'].nunique()"
   ]
  },
  {
   "cell_type": "markdown",
   "metadata": {},
   "source": [
    "#### Vendas por categorias de produtos"
   ]
  },
  {
   "cell_type": "code",
   "execution_count": 153,
   "metadata": {},
   "outputs": [
    {
     "data": {
      "text/html": [
       "<div>\n",
       "<style scoped>\n",
       "    .dataframe tbody tr th:only-of-type {\n",
       "        vertical-align: middle;\n",
       "    }\n",
       "\n",
       "    .dataframe tbody tr th {\n",
       "        vertical-align: top;\n",
       "    }\n",
       "\n",
       "    .dataframe thead th {\n",
       "        text-align: right;\n",
       "    }\n",
       "</style>\n",
       "<table border=\"1\" class=\"dataframe\">\n",
       "  <thead>\n",
       "    <tr style=\"text-align: right;\">\n",
       "      <th></th>\n",
       "      <th>orderId</th>\n",
       "      <th>status</th>\n",
       "      <th>CategoryId</th>\n",
       "    </tr>\n",
       "  </thead>\n",
       "  <tbody>\n",
       "    <tr>\n",
       "      <th>0</th>\n",
       "      <td>1028680800913-01</td>\n",
       "      <td>invoiced</td>\n",
       "      <td>322951761</td>\n",
       "    </tr>\n",
       "    <tr>\n",
       "      <th>1</th>\n",
       "      <td>1028680800913-01</td>\n",
       "      <td>invoiced</td>\n",
       "      <td>322951761</td>\n",
       "    </tr>\n",
       "    <tr>\n",
       "      <th>2</th>\n",
       "      <td>1026853121043-01</td>\n",
       "      <td>invoiced</td>\n",
       "      <td>322951761</td>\n",
       "    </tr>\n",
       "    <tr>\n",
       "      <th>3</th>\n",
       "      <td>1026853121043-01</td>\n",
       "      <td>invoiced</td>\n",
       "      <td>322951761</td>\n",
       "    </tr>\n",
       "    <tr>\n",
       "      <th>4</th>\n",
       "      <td>1021782077463-01</td>\n",
       "      <td>invoiced</td>\n",
       "      <td>322951761</td>\n",
       "    </tr>\n",
       "  </tbody>\n",
       "</table>\n",
       "</div>"
      ],
      "text/plain": [
       "            orderId    status  CategoryId\n",
       "0  1028680800913-01  invoiced   322951761\n",
       "1  1028680800913-01  invoiced   322951761\n",
       "2  1026853121043-01  invoiced   322951761\n",
       "3  1026853121043-01  invoiced   322951761\n",
       "4  1021782077463-01  invoiced   322951761"
      ]
     },
     "execution_count": 153,
     "metadata": {},
     "output_type": "execute_result"
    }
   ],
   "source": [
    "df_categorias = pd.read_sql_query('select a.\"orderId\", a.status, p.\"CategoryId\" from dataset.orders a join dataset.order_items g on a.\"orderId\" = g.\"orderId\" join dataset.products p on  p.\"product_Id\" = g.\"productId\" ',con) \n",
    "df_categorias.head()"
   ]
  },
  {
   "cell_type": "code",
   "execution_count": 154,
   "metadata": {},
   "outputs": [
    {
     "name": "stdout",
     "output_type": "stream",
     "text": [
      "<class 'pandas.core.frame.DataFrame'>\n",
      "RangeIndex: 100536 entries, 0 to 100535\n",
      "Data columns (total 3 columns):\n",
      " #   Column      Non-Null Count   Dtype \n",
      "---  ------      --------------   ----- \n",
      " 0   orderId     100536 non-null  object\n",
      " 1   status      100536 non-null  object\n",
      " 2   CategoryId  100536 non-null  int64 \n",
      "dtypes: int64(1), object(2)\n",
      "memory usage: 2.3+ MB\n"
     ]
    }
   ],
   "source": [
    "df_categorias.info()"
   ]
  },
  {
   "cell_type": "code",
   "execution_count": 155,
   "metadata": {},
   "outputs": [
    {
     "data": {
      "text/plain": [
       "5198"
      ]
     },
     "execution_count": 155,
     "metadata": {},
     "output_type": "execute_result"
    }
   ],
   "source": [
    "df_categorias['orderId'].nunique()"
   ]
  },
  {
   "cell_type": "code",
   "execution_count": 156,
   "metadata": {},
   "outputs": [],
   "source": [
    "df_categorias = df_categorias.drop_duplicates()\n",
    "\n"
   ]
  },
  {
   "cell_type": "code",
   "execution_count": 157,
   "metadata": {},
   "outputs": [
    {
     "data": {
      "text/plain": [
       "orderId       0\n",
       "status        0\n",
       "CategoryId    0\n",
       "dtype: int64"
      ]
     },
     "execution_count": 157,
     "metadata": {},
     "output_type": "execute_result"
    }
   ],
   "source": [
    "df_categorias.isnull().sum()"
   ]
  },
  {
   "cell_type": "code",
   "execution_count": 158,
   "metadata": {},
   "outputs": [
    {
     "name": "stdout",
     "output_type": "stream",
     "text": [
      "<class 'pandas.core.frame.DataFrame'>\n",
      "Int64Index: 8017 entries, 0 to 50136\n",
      "Data columns (total 3 columns):\n",
      " #   Column      Non-Null Count  Dtype \n",
      "---  ------      --------------  ----- \n",
      " 0   orderId     8017 non-null   object\n",
      " 1   status      8017 non-null   object\n",
      " 2   CategoryId  8017 non-null   int64 \n",
      "dtypes: int64(1), object(2)\n",
      "memory usage: 250.5+ KB\n"
     ]
    }
   ],
   "source": [
    "df_categorias.info()"
   ]
  },
  {
   "cell_type": "code",
   "execution_count": 159,
   "metadata": {},
   "outputs": [
    {
     "data": {
      "text/plain": [
       "<matplotlib.axes._subplots.AxesSubplot at 0x1fe0b5a2e80>"
      ]
     },
     "execution_count": 159,
     "metadata": {},
     "output_type": "execute_result"
    },
    {
     "data": {
      "image/png": "[encoded data removed]",
      "text/plain": [
       "<Figure size 1440x720 with 1 Axes>"
      ]
     },
     "metadata": {
      "needs_background": "light"
     },
     "output_type": "display_data"
    }
   ],
   "source": [
    "# Conta quantos produtos por categoria e coloca dentro da variável vendas_produto_por_categoria:\n",
    "vendas_produto_por_categoria = df_categorias.groupby(by='CategoryId').status.value_counts()\n",
    "vendas_produto_por_categoria.plot(kind='bar',title='valor total por categoria',ylabel='Quantidade de pedidos',xlabel='Categoria',figsize=(20,10))"
   ]
  },
  {
   "cell_type": "markdown",
   "metadata": {},
   "source": [
    "*As categorias cujo id são 102, 322951761 e 490292628 se destacaram com muitas vendas faturadas, são as categorias que vendem mais no e-comerce*"
   ]
  },
  {
   "cell_type": "markdown",
   "metadata": {},
   "source": [
    "#### Quantidade de vendas por e estado"
   ]
  },
  {
   "cell_type": "code",
   "execution_count": 160,
   "metadata": {},
   "outputs": [
    {
     "data": {
      "text/html": [
       "<div>\n",
       "<style scoped>\n",
       "    .dataframe tbody tr th:only-of-type {\n",
       "        vertical-align: middle;\n",
       "    }\n",
       "\n",
       "    .dataframe tbody tr th {\n",
       "        vertical-align: top;\n",
       "    }\n",
       "\n",
       "    .dataframe thead th {\n",
       "        text-align: right;\n",
       "    }\n",
       "</style>\n",
       "<table border=\"1\" class=\"dataframe\">\n",
       "  <thead>\n",
       "    <tr style=\"text-align: right;\">\n",
       "      <th></th>\n",
       "      <th>totalValue</th>\n",
       "      <th>status</th>\n",
       "      <th>state</th>\n",
       "    </tr>\n",
       "  </thead>\n",
       "  <tbody>\n",
       "    <tr>\n",
       "      <th>0</th>\n",
       "      <td>212689</td>\n",
       "      <td>canceled</td>\n",
       "      <td>SP</td>\n",
       "    </tr>\n",
       "    <tr>\n",
       "      <th>1</th>\n",
       "      <td>212689</td>\n",
       "      <td>canceled</td>\n",
       "      <td>SP</td>\n",
       "    </tr>\n",
       "    <tr>\n",
       "      <th>2</th>\n",
       "      <td>59409</td>\n",
       "      <td>invoiced</td>\n",
       "      <td>SP</td>\n",
       "    </tr>\n",
       "    <tr>\n",
       "      <th>3</th>\n",
       "      <td>59409</td>\n",
       "      <td>invoiced</td>\n",
       "      <td>SP</td>\n",
       "    </tr>\n",
       "    <tr>\n",
       "      <th>4</th>\n",
       "      <td>43544</td>\n",
       "      <td>invoiced</td>\n",
       "      <td>PA</td>\n",
       "    </tr>\n",
       "  </tbody>\n",
       "</table>\n",
       "</div>"
      ],
      "text/plain": [
       "   totalValue    status state\n",
       "0      212689  canceled    SP\n",
       "1      212689  canceled    SP\n",
       "2       59409  invoiced    SP\n",
       "3       59409  invoiced    SP\n",
       "4       43544  invoiced    PA"
      ]
     },
     "execution_count": 160,
     "metadata": {},
     "output_type": "execute_result"
    }
   ],
   "source": [
    "df_estado = pd.read_sql_query('select a.\"totalValue\", a.status, g.state from dataset.orders a join dataset.order_shippingaddress g on a.\"orderId\" = g.\"orderId\"',con)\n",
    "df_estado.head()"
   ]
  },
  {
   "cell_type": "code",
   "execution_count": 161,
   "metadata": {},
   "outputs": [
    {
     "name": "stdout",
     "output_type": "stream",
     "text": [
      "<class 'pandas.core.frame.DataFrame'>\n",
      "Int64Index: 4293 entries, 0 to 10626\n",
      "Data columns (total 3 columns):\n",
      " #   Column      Non-Null Count  Dtype \n",
      "---  ------      --------------  ----- \n",
      " 0   totalValue  4293 non-null   int64 \n",
      " 1   status      4293 non-null   object\n",
      " 2   state       4293 non-null   object\n",
      "dtypes: int64(1), object(2)\n",
      "memory usage: 134.2+ KB\n"
     ]
    }
   ],
   "source": [
    "df_estado = df_estado.drop_duplicates()\n",
    "df_estado.info()"
   ]
  },
  {
   "cell_type": "code",
   "execution_count": 162,
   "metadata": {},
   "outputs": [
    {
     "data": {
      "text/plain": [
       "<matplotlib.axes._subplots.AxesSubplot at 0x1fe0ae6e780>"
      ]
     },
     "execution_count": 162,
     "metadata": {},
     "output_type": "execute_result"
    },
    {
     "data": {
      "image/png": "[encoded data removed]",
      "text/plain": [
       "<Figure size 1440x720 with 1 Axes>"
      ]
     },
     "metadata": {
      "needs_background": "light"
     },
     "output_type": "display_data"
    }
   ],
   "source": [
    "vendas_produto_estado = df_estado.groupby(by='state').totalValue.sum()\n",
    "vendas_produto_estado.plot(kind ='bar' ,figsize=(20,10),xlabel='Estado',ylabel='Faturamento')\n",
    "\n"
   ]
  },
  {
   "cell_type": "markdown",
   "metadata": {},
   "source": [
    "   *No estado de São Paulo ocorreu o maior faturamento, com um indicador consideravelmente maior que os outros, Minas Gerais e Rio de Janeiro também se destacaram com um bom desempenho.*\n",
    "\n",
    "   *É evidente que o estado de São Paulo oferece um retorno muito maior do que os demais estados, logo é interessante direcionar marketing e recursos para essa região.*"
   ]
  },
  {
   "cell_type": "markdown",
   "metadata": {},
   "source": [
    "#### Quais meses do ano houve maior Faturamento?"
   ]
  },
  {
   "cell_type": "code",
   "execution_count": 163,
   "metadata": {},
   "outputs": [],
   "source": [
    "# transformando dados da tabela creationdate para datetime\n",
    "df_orders['creationDate'] = pd.to_datetime(df_orders['creationDate'])"
   ]
  },
  {
   "cell_type": "code",
   "execution_count": 164,
   "metadata": {},
   "outputs": [
    {
     "name": "stderr",
     "output_type": "stream",
     "text": [
      "C:\\Users\\breno\\Anaconda3\\envs\\Dev\\lib\\site-packages\\pandas\\core\\arrays\\datetimes.py:1091: UserWarning:\n",
      "\n",
      "Converting to PeriodArray/Index representation will drop timezone information.\n",
      "\n"
     ]
    },
    {
     "data": {
      "text/html": [
       "<div>\n",
       "<style scoped>\n",
       "    .dataframe tbody tr th:only-of-type {\n",
       "        vertical-align: middle;\n",
       "    }\n",
       "\n",
       "    .dataframe tbody tr th {\n",
       "        vertical-align: top;\n",
       "    }\n",
       "\n",
       "    .dataframe thead th {\n",
       "        text-align: right;\n",
       "    }\n",
       "</style>\n",
       "<table border=\"1\" class=\"dataframe\">\n",
       "  <thead>\n",
       "    <tr style=\"text-align: right;\">\n",
       "      <th></th>\n",
       "      <th>orderId</th>\n",
       "      <th>status</th>\n",
       "      <th>statusDescription</th>\n",
       "      <th>creationDate</th>\n",
       "      <th>authorizedDate</th>\n",
       "      <th>totalValue</th>\n",
       "      <th>paymentNames</th>\n",
       "      <th>order_mes</th>\n",
       "    </tr>\n",
       "  </thead>\n",
       "  <tbody>\n",
       "    <tr>\n",
       "      <th>0</th>\n",
       "      <td>921060908773-01</td>\n",
       "      <td>canceled</td>\n",
       "      <td>Cancelado</td>\n",
       "      <td>2019-03-29 21:15:08+00:00</td>\n",
       "      <td>NaT</td>\n",
       "      <td>212689</td>\n",
       "      <td>Boleto Bancário</td>\n",
       "      <td>2019-03</td>\n",
       "    </tr>\n",
       "    <tr>\n",
       "      <th>1</th>\n",
       "      <td>1035170627063-01</td>\n",
       "      <td>invoiced</td>\n",
       "      <td>Faturado</td>\n",
       "      <td>2020-05-26 16:10:31+00:00</td>\n",
       "      <td>2020-05-26 16:10:43+00:00</td>\n",
       "      <td>59409</td>\n",
       "      <td>PayPalPlus</td>\n",
       "      <td>2020-05</td>\n",
       "    </tr>\n",
       "    <tr>\n",
       "      <th>2</th>\n",
       "      <td>1035171496388-01</td>\n",
       "      <td>invoiced</td>\n",
       "      <td>Faturado</td>\n",
       "      <td>2020-05-26 16:24:55+00:00</td>\n",
       "      <td>2020-05-26 17:00:19+00:00</td>\n",
       "      <td>43544</td>\n",
       "      <td>Débito Itau</td>\n",
       "      <td>2020-05</td>\n",
       "    </tr>\n",
       "    <tr>\n",
       "      <th>3</th>\n",
       "      <td>1035182874044-01</td>\n",
       "      <td>invoiced</td>\n",
       "      <td>Faturado</td>\n",
       "      <td>2020-05-26 16:47:52+00:00</td>\n",
       "      <td>2020-05-27 13:00:34+00:00</td>\n",
       "      <td>35863</td>\n",
       "      <td>Boleto Bancário</td>\n",
       "      <td>2020-05</td>\n",
       "    </tr>\n",
       "    <tr>\n",
       "      <th>4</th>\n",
       "      <td>1035183140510-01</td>\n",
       "      <td>canceled</td>\n",
       "      <td>Cancelado</td>\n",
       "      <td>2020-05-26 16:52:22+00:00</td>\n",
       "      <td>NaT</td>\n",
       "      <td>14715</td>\n",
       "      <td>Boleto Bancário</td>\n",
       "      <td>2020-05</td>\n",
       "    </tr>\n",
       "  </tbody>\n",
       "</table>\n",
       "</div>"
      ],
      "text/plain": [
       "            orderId    status statusDescription              creationDate  \\\n",
       "0   921060908773-01  canceled         Cancelado 2019-03-29 21:15:08+00:00   \n",
       "1  1035170627063-01  invoiced          Faturado 2020-05-26 16:10:31+00:00   \n",
       "2  1035171496388-01  invoiced          Faturado 2020-05-26 16:24:55+00:00   \n",
       "3  1035182874044-01  invoiced          Faturado 2020-05-26 16:47:52+00:00   \n",
       "4  1035183140510-01  canceled         Cancelado 2020-05-26 16:52:22+00:00   \n",
       "\n",
       "             authorizedDate  totalValue     paymentNames order_mes  \n",
       "0                       NaT      212689  Boleto Bancário   2019-03  \n",
       "1 2020-05-26 16:10:43+00:00       59409       PayPalPlus   2020-05  \n",
       "2 2020-05-26 17:00:19+00:00       43544      Débito Itau   2020-05  \n",
       "3 2020-05-27 13:00:34+00:00       35863  Boleto Bancário   2020-05  \n",
       "4                       NaT       14715  Boleto Bancário   2020-05  "
      ]
     },
     "execution_count": 164,
     "metadata": {},
     "output_type": "execute_result"
    }
   ],
   "source": [
    "# Criando uma nova coluna para os meses \n",
    "# e usando o método to_periodo() com o ´M´ para formatar os dados:\n",
    "df_orders['order_mes'] = df_orders.creationDate.dt.to_period('M').astype(str)\n",
    "df_orders.head()"
   ]
  },
  {
   "cell_type": "code",
   "execution_count": 165,
   "metadata": {},
   "outputs": [
    {
     "data": {
      "text/plain": [
       "<matplotlib.axes._subplots.AxesSubplot at 0x1fe0c7bcc18>"
      ]
     },
     "execution_count": 165,
     "metadata": {},
     "output_type": "execute_result"
    },
    {
     "data": {
      "image/png": "[encoded data removed]",
      "text/plain": [
       "<Figure size 1440x720 with 1 Axes>"
      ]
     },
     "metadata": {
      "needs_background": "light"
     },
     "output_type": "display_data"
    }
   ],
   "source": [
    "vendas_por_mes = df_orders.groupby(by='order_mes').totalValue.sum()\n",
    "vendas_por_mes.plot(xlabel='Meses',ylabel='Faturamento',figsize=(20,10))"
   ]
  },
  {
   "cell_type": "markdown",
   "metadata": {},
   "source": [
    "   *É possivel observar que existe uma tendência nas vendas ao longo dos meses: Do começo do ano até julho as vendas crescem, de julho até setembro as vendas sofrem uma queda e de setembro até novembro as vendas voltam a crescer e se mantêm com mesmo indicador até  o começo do ano seguinte.* \n",
    "   *Logo é interessante manter mais produtos em estoque e investir em campanhas de marketing nas épocas onde os indicadores tendem a crescer.*"
   ]
  },
  {
   "cell_type": "markdown",
   "metadata": {},
   "source": [
    "#### Previsão de Vendas com Análise de Séries Temporais usando o ARIMA "
   ]
  },
  {
   "cell_type": "code",
   "execution_count": 166,
   "metadata": {},
   "outputs": [
    {
     "name": "stderr",
     "output_type": "stream",
     "text": [
      "C:\\Users\\breno\\Anaconda3\\envs\\Dev\\lib\\site-packages\\pandas\\core\\frame.py:4167: SettingWithCopyWarning:\n",
      "\n",
      "\n",
      "A value is trying to be set on a copy of a slice from a DataFrame\n",
      "\n",
      "See the caveats in the documentation: https://pandas.pydata.org/pandas-docs/stable/user_guide/indexing.html#returning-a-view-versus-a-copy\n",
      "\n"
     ]
    }
   ],
   "source": [
    "series = df_orders.loc[df_orders['status']=='invoiced']\n",
    "cols = ['statusDescription','creationDate','authorizedDate','totalValue','paymentNames']\n",
    "series.drop(cols,axis=1,inplace=True)"
   ]
  },
  {
   "cell_type": "code",
   "execution_count": 167,
   "metadata": {},
   "outputs": [
    {
     "data": {
      "text/html": [
       "<div>\n",
       "<style scoped>\n",
       "    .dataframe tbody tr th:only-of-type {\n",
       "        vertical-align: middle;\n",
       "    }\n",
       "\n",
       "    .dataframe tbody tr th {\n",
       "        vertical-align: top;\n",
       "    }\n",
       "\n",
       "    .dataframe thead th {\n",
       "        text-align: right;\n",
       "    }\n",
       "</style>\n",
       "<table border=\"1\" class=\"dataframe\">\n",
       "  <thead>\n",
       "    <tr style=\"text-align: right;\">\n",
       "      <th></th>\n",
       "      <th>orderId</th>\n",
       "      <th>status</th>\n",
       "      <th>order_mes</th>\n",
       "    </tr>\n",
       "  </thead>\n",
       "  <tbody>\n",
       "    <tr>\n",
       "      <th>1</th>\n",
       "      <td>1035170627063-01</td>\n",
       "      <td>invoiced</td>\n",
       "      <td>2020-05</td>\n",
       "    </tr>\n",
       "    <tr>\n",
       "      <th>2</th>\n",
       "      <td>1035171496388-01</td>\n",
       "      <td>invoiced</td>\n",
       "      <td>2020-05</td>\n",
       "    </tr>\n",
       "    <tr>\n",
       "      <th>3</th>\n",
       "      <td>1035182874044-01</td>\n",
       "      <td>invoiced</td>\n",
       "      <td>2020-05</td>\n",
       "    </tr>\n",
       "    <tr>\n",
       "      <th>5</th>\n",
       "      <td>1035180591936-01</td>\n",
       "      <td>invoiced</td>\n",
       "      <td>2020-05</td>\n",
       "    </tr>\n",
       "    <tr>\n",
       "      <th>7</th>\n",
       "      <td>933473280816-01</td>\n",
       "      <td>invoiced</td>\n",
       "      <td>2019-05</td>\n",
       "    </tr>\n",
       "  </tbody>\n",
       "</table>\n",
       "</div>"
      ],
      "text/plain": [
       "            orderId    status order_mes\n",
       "1  1035170627063-01  invoiced   2020-05\n",
       "2  1035171496388-01  invoiced   2020-05\n",
       "3  1035182874044-01  invoiced   2020-05\n",
       "5  1035180591936-01  invoiced   2020-05\n",
       "7   933473280816-01  invoiced   2019-05"
      ]
     },
     "execution_count": 167,
     "metadata": {},
     "output_type": "execute_result"
    }
   ],
   "source": [
    "series.head()"
   ]
  },
  {
   "cell_type": "code",
   "execution_count": 168,
   "metadata": {},
   "outputs": [
    {
     "data": {
      "text/plain": [
       "orderId      0\n",
       "status       0\n",
       "order_mes    0\n",
       "dtype: int64"
      ]
     },
     "execution_count": 168,
     "metadata": {},
     "output_type": "execute_result"
    }
   ],
   "source": [
    "series.sort_values('order_mes')\n",
    "series.isnull().sum()"
   ]
  },
  {
   "cell_type": "code",
   "execution_count": 169,
   "metadata": {},
   "outputs": [],
   "source": [
    "series = series.groupby('order_mes')['status'].value_counts()"
   ]
  },
  {
   "cell_type": "code",
   "execution_count": 174,
   "metadata": {},
   "outputs": [
    {
     "data": {
      "text/plain": [
       "<matplotlib.axes._subplots.AxesSubplot at 0x1fe0a8593c8>"
      ]
     },
     "execution_count": 174,
     "metadata": {},
     "output_type": "execute_result"
    },
    {
     "data": {
      "image/png": "[encoded data removed]",
      "text/plain": [
       "<Figure size 1440x720 with 1 Axes>"
      ]
     },
     "metadata": {
      "needs_background": "light"
     },
     "output_type": "display_data"
    }
   ],
   "source": [
    "series.plot(figsize=(20,10),xlabel='Datas',ylabel=' Total de Pedidos Faturados')\n",
    "\n"
   ]
  },
  {
   "cell_type": "markdown",
   "metadata": {},
   "source": [
    "*Alguns padrões distinguíveis aparecem quando plotamos os dados. A série temporal apresenta padrão de sazonalidade, como as vendas são sempre baixas no início do ano e altas no final do ano. Há sempre uma tendência ascendente em qualquer ano com alguns meses de baixa em meados do ano.*"
   ]
  },
  {
   "cell_type": "markdown",
   "metadata": {},
   "source": [
    "#### Seleção de parâmetros para o Modelo"
   ]
  },
  {
   "cell_type": "code",
   "execution_count": 180,
   "metadata": {},
   "outputs": [
    {
     "name": "stdout",
     "output_type": "stream",
     "text": [
      "Exemplos de parâmetros para o Arima...\n",
      "Arimax: (0, 0, 1) x (0, 0, 1, 12)\n",
      "Arimax: (0, 0, 1) x (0, 1, 0, 12)\n",
      "Arimax: (0, 1, 0) x (0, 1, 1, 12)\n",
      "Arimax: (0, 1, 0) x (1, 0, 0, 12)\n"
     ]
    }
   ],
   "source": [
    "import itertools\n",
    "p = d = q =range(0,2)\n",
    "pdq = list(itertools.product(p,d,q))\n",
    "seasonal_pdq = [(x[0],x[1],x[2],12)for x in list(itertools.product(p,d,q))]\n",
    "print ('Exemplos de parâmetros para o Arima...')\n",
    "print('Arimax: {} x {}'.format(pdq[1],seasonal_pdq[1]))\n",
    "print('Arimax: {} x {}'.format(pdq[1],seasonal_pdq[2]))\n",
    "print('Arimax: {} x {}'.format(pdq[2],seasonal_pdq[3]))\n",
    "print('Arimax: {} x {}'.format(pdq[2],seasonal_pdq[4]))"
   ]
  },
  {
   "cell_type": "code",
   "execution_count": 185,
   "metadata": {},
   "outputs": [
    {
     "name": "stdout",
     "output_type": "stream",
     "text": [
      "Arima(0, 0, 0)x(0, 0, 0, 12) - AIC219.32169162716207\n",
      "Arima(0, 0, 0)x(0, 0, 1, 12) - AIC221.07559278308824\n",
      "Arima(0, 0, 0)x(0, 1, 0, 12) - AIC47.20045299674629\n",
      "Arima(0, 0, 0)x(0, 1, 1, 12) - AIC49.07251349832782\n",
      "Arima(0, 0, 0)x(1, 0, 0, 12) - AIC220.76618791547173\n",
      "Arima(0, 0, 0)x(1, 0, 1, 12) - AIC222.7661879158384\n",
      "Arima(0, 0, 0)x(1, 1, 0, 12) - AIC48.92098513343436\n",
      "Arima(0, 0, 0)x(1, 1, 1, 12) - AIC50.91098546432359\n",
      "Arima(0, 0, 1)x(0, 0, 0, 12) - AIC205.80804808472647\n",
      "Arima(0, 0, 1)x(0, 0, 1, 12) - AIC206.95232795364106\n",
      "Arima(0, 0, 1)x(0, 1, 0, 12) - AIC46.79105284554503\n",
      "Arima(0, 0, 1)x(0, 1, 1, 12) - AIC48.70229029807587\n",
      "Arima(0, 0, 1)x(1, 0, 0, 12) - AIC206.9523350563605\n",
      "Arima(0, 0, 1)x(1, 0, 1, 12) - AIC208.9523214606579\n",
      "Arima(0, 0, 1)x(1, 1, 0, 12) - AIC48.69575235986964\n",
      "Arima(0, 0, 1)x(1, 1, 1, 12) - AIC50.69090318309512\n",
      "Arima(0, 1, 0)x(0, 0, 0, 12) - AIC177.2303861632288\n",
      "Arima(0, 1, 0)x(0, 0, 1, 12) - AIC179.2251350251065\n",
      "Arima(0, 1, 0)x(0, 1, 0, 12) - AIC28.53045864868448\n",
      "Arima(0, 1, 0)x(0, 1, 1, 12) - AIC30.527155502515907\n",
      "Arima(0, 1, 0)x(1, 0, 0, 12) - AIC179.22513543877315\n",
      "Arima(0, 1, 0)x(1, 0, 1, 12) - AIC181.22513502167308\n",
      "Arima(0, 1, 0)x(1, 1, 0, 12) - AIC30.52687663900712\n",
      "Arima(0, 1, 0)x(1, 1, 1, 12) - AIC32.52398190163764\n",
      "Arima(0, 1, 1)x(0, 0, 0, 12) - AIC179.2301262051725\n",
      "Arima(0, 1, 1)x(0, 0, 1, 12) - AIC181.22508860207742\n",
      "Arima(0, 1, 1)x(0, 1, 0, 12) - AIC30.34872280355362\n",
      "Arima(0, 1, 1)x(0, 1, 1, 12) - AIC32.337134391196614\n",
      "Arima(0, 1, 1)x(1, 0, 0, 12) - AIC181.2250886026854\n",
      "Arima(0, 1, 1)x(1, 0, 1, 12) - AIC183.2250886019891\n",
      "Arima(0, 1, 1)x(1, 1, 0, 12) - AIC32.33722328971714\n",
      "Arima(0, 1, 1)x(1, 1, 1, 12) - AIC34.33720288177433\n",
      "Arima(1, 0, 0)x(0, 0, 0, 12) - AIC193.12160558265217\n",
      "Arima(1, 0, 0)x(0, 0, 1, 12) - AIC195.10157705670386\n",
      "Arima(1, 0, 0)x(0, 1, 0, 12) - AIC44.567993465438164\n",
      "Arima(1, 0, 0)x(0, 1, 1, 12) - AIC46.51427718651957\n",
      "Arima(1, 0, 0)x(1, 0, 0, 12) - AIC195.10240540881196\n",
      "Arima(1, 0, 0)x(1, 0, 1, 12) - AIC197.12163427200306\n",
      "Arima(1, 0, 0)x(1, 1, 0, 12) - AIC46.162815119950224\n",
      "Arima(1, 0, 0)x(1, 1, 1, 12) - AIC48.16187086452838\n",
      "Arima(1, 0, 1)x(0, 0, 0, 12) - AIC195.03652849965303\n",
      "Arima(1, 0, 1)x(0, 0, 1, 12) - AIC196.9908926410092\n",
      "Arima(1, 0, 1)x(0, 1, 0, 12) - AIC46.72012001828471\n",
      "Arima(1, 0, 1)x(0, 1, 1, 12) - AIC48.642523023976786\n",
      "Arima(1, 0, 1)x(1, 0, 0, 12) - AIC196.99217821645516\n",
      "Arima(1, 0, 1)x(1, 0, 1, 12) - AIC198.98342205554752\n",
      "Arima(1, 0, 1)x(1, 1, 0, 12) - AIC48.242165991323695\n",
      "Arima(1, 0, 1)x(1, 1, 1, 12) - AIC50.2118460883544\n",
      "Arima(1, 1, 0)x(0, 0, 0, 12) - AIC179.2301476629982\n",
      "Arima(1, 1, 0)x(0, 0, 1, 12) - AIC181.22509238918124\n",
      "Arima(1, 1, 0)x(0, 1, 0, 12) - AICnan\n",
      "Arima(1, 1, 0)x(1, 0, 0, 12) - AIC181.22509239603824\n",
      "Arima(1, 1, 0)x(1, 0, 1, 12) - AIC183.22509239532403\n",
      "Arima(1, 1, 1)x(0, 0, 0, 12) - AIC181.0681408876551\n",
      "Arima(1, 1, 1)x(0, 0, 1, 12) - AIC183.0673100227852\n",
      "Arima(1, 1, 1)x(0, 1, 0, 12) - AIC32.338334313365294\n",
      "Arima(1, 1, 1)x(0, 1, 1, 12) - AIC34.339826308214434\n",
      "Arima(1, 1, 1)x(1, 0, 0, 12) - AIC183.06730991626975\n",
      "Arima(1, 1, 1)x(1, 0, 1, 12) - AIC185.0673099972252\n",
      "Arima(1, 1, 1)x(1, 1, 0, 12) - AIC34.34007049045246\n",
      "Arima(1, 1, 1)x(1, 1, 1, 12) - AIC36.31833656404045\n"
     ]
    }
   ],
   "source": [
    "import statsmodels.api as sm \n",
    "import warnings\n",
    "warnings.filterwarnings('ignore')\n",
    "for param in pdq:\n",
    "    for param_seasonal in seasonal_pdq:\n",
    "        try:\n",
    "            mod = sm.tsa.statespace.SARIMAX(series,\n",
    "                                           order=param,\n",
    "                                           seasonal_order=param_seasonal,\n",
    "                                           enforce_stationary=False,\n",
    "                                           enforce_envertibility= False)\n",
    "            results = mod.fit()\n",
    "            print('Arima{}x{} - AIC{}'.format(param,param_seasonal,results.aic))\n",
    "        except:\n",
    "            continue \n",
    "            "
   ]
  },
  {
   "cell_type": "markdown",
   "metadata": {},
   "source": [
    "*A saída acima mostra que os parâmetros que geram menor valor de AIC são: Arima(0, 1, 0)x(0, 1, 0, 12) - AIC28.53045864868448, por isso devemos considerar essa a melhor opção.*"
   ]
  },
  {
   "cell_type": "code",
   "execution_count": 199,
   "metadata": {},
   "outputs": [
    {
     "name": "stdout",
     "output_type": "stream",
     "text": [
      "==============================================================================\n",
      "                 coef    std err          z      P>|z|      [0.025      0.975]\n",
      "------------------------------------------------------------------------------\n",
      "sigma2      6.326e+04   6.39e+06      0.010      0.992   -1.25e+07    1.26e+07\n",
      "==============================================================================\n"
     ]
    }
   ],
   "source": [
    "# Ajustando o modelo Arima \n",
    "mod = sm.tsa.statespace.SARIMAX(series,\n",
    "                               order=(0,1,0),\n",
    "                               seasonal_order=(0,1,0,12),\n",
    "                               enforce_stationarity=False,\n",
    "                               enforce_invertibility=False)\n",
    "results =mod.fit()\n",
    "print(results.summary().tables[1])"
   ]
  },
  {
   "cell_type": "markdown",
   "metadata": {},
   "source": [
    "#### Validando Previsões\n",
    "*Para nos ajudar a entender a exatidão de nossas previsões, comparamos as vendas previstas às vendas reais da série temporal e definimos as previsões para começar em 2019–05 até o final dos dados.*"
   ]
  },
  {
   "cell_type": "code",
   "execution_count": 213,
   "metadata": {},
   "outputs": [
    {
     "data": {
      "image/png": "[encoded data removed]",
      "text/plain": [
       "<Figure size 1008x504 with 1 Axes>"
      ]
     },
     "metadata": {
      "needs_background": "light"
     },
     "output_type": "display_data"
    }
   ],
   "source": [
    "\n",
    "pred = results.get_prediction(start='2019-05',dynamic=False)\n",
    "pred_ci = pred.conf_int()\n",
    "ax = series['2019':].plot(label='Observado')\n",
    "pred.predicted_mean.plot(ax=ax,label='previsão',alpha=0.7,figsize=(14,7))\n",
    "\n",
    "ax.set_xlabel('data')\n",
    "ax.set_ylabel('Vendas')\n",
    "plt.legend()\n",
    "plt.show()"
   ]
  },
  {
   "cell_type": "markdown",
   "metadata": {},
   "source": [
    "*O gráfico de linhas mostra os valores observados em comparação com as previsões de previsão de rotação. No geral, nossas projeções se alinham muito bem com os valores reais, mostrando uma tendência ascendente desde o início do ano e capturou a sazonalidade no final do ano.*"
   ]
  },
  {
   "cell_type": "markdown",
   "metadata": {},
   "source": [
    "#### Produzindo e Visualizando as previsões para o futuro"
   ]
  },
  {
   "cell_type": "code",
   "execution_count": 220,
   "metadata": {},
   "outputs": [
    {
     "data": {
      "image/png": "[encoded data removed]",
      "text/plain": [
       "<Figure size 1152x576 with 1 Axes>"
      ]
     },
     "metadata": {
      "needs_background": "light"
     },
     "output_type": "display_data"
    }
   ],
   "source": [
    "pred_uc = results.get_forecast(steps=50)\n",
    "pred_ci = pred_uc.conf_int()\n",
    "ax= series.plot(label='observado',figsize=(16,8))\n",
    "pred_uc.predicted_mean.plot(ax=ax,label='Previsão')\n",
    "ax.set_xlabel('Data')\n",
    "ax.set_ylabel('Vendas')\n",
    "plt.legend()\n",
    "plt.show()"
   ]
  },
  {
   "cell_type": "markdown",
   "metadata": {},
   "source": [
    "*Nosso modelo captou claramente a sazonalidade das vendas conforme projetamos mais longe no futuro*"
   ]
  }
 ],
 "metadata": {
  "kernelspec": {
   "display_name": "Python 3",
   "language": "python",
   "name": "python3"
  },
  "language_info": {
   "codemirror_mode": {
    "name": "ipython",
    "version": 3
   },
   "file_extension": ".py",
   "mimetype": "text/x-python",
   "name": "python",
   "nbconvert_exporter": "python",
   "pygments_lexer": "ipython3",
   "version": "3.7.1"
  }
 },
 "nbformat": 4,
 "nbformat_minor": 4
}
