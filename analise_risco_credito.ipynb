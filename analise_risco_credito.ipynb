{
  "nbformat": 4,
  "nbformat_minor": 0,
  "metadata": {
    "colab": {
      "name": "analise_risco_credito.ipynb",
      "provenance": [],
      "collapsed_sections": [],
      "authorship_tag": "ABX9TyOIsaWUivofE03prCGrLV0W",
      "include_colab_link": true
    },
    "kernelspec": {
      "name": "python3",
      "display_name": "Python 3"
    },
    "language_info": {
      "name": "python"
    }
  },
  "cells": [
    {
      "cell_type": "markdown",
      "metadata": {
        "id": "view-in-github",
        "colab_type": "text"
      },
      "source": [
        "<a href=\"https://colab.research.google.com/github/BrenoMilagres/DataScienceProjetos_Python_R/blob/master/analise_risco_credito.ipynb\" target=\"_parent\"><img src=\"https://colab.research.google.com/assets/colab-badge.svg\" alt=\"Open In Colab\"/></a>"
      ]
    },
    {
      "cell_type": "markdown",
      "metadata": {
        "id": "29BfqlvJ4lQ5"
      },
      "source": [
        "# Análise de risco sobre prestação de crédito\n",
        "#### Case para vaga analista de dados na MOVA - Breno Milagres\n",
        "![image.png](data:image/png;base64,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)\n",
        "##### Dataset baixado no kaggle: https://www.kaggle.com/laotse/credit-risk-dataset\n",
        "\n"
      ]
    },
    {
      "cell_type": "markdown",
      "metadata": {
        "id": "Epr2iJcv5Z0Q"
      },
      "source": [
        "#### Dicionário de Variáveis\n",
        "- **person_age**:\tIdade do cliente\n",
        "- **person_income**:\tRendimento anual\n",
        "- **person_home_ownership**: Tipo de moradia\n",
        "- **person_emp_length**:\tTempo de emprego (em anos)\n",
        "- **loan_intent**: Finalidade do empréstimo\n",
        "- **loan_grade**:\tGrau de empréstimo\n",
        "- **loan_amnt**:\tMontante do empréstimo\n",
        "- **loan_int_rate**:\tTaxa de juros\n",
        "- **loan_status**:\tStatus do empréstimo (0 = pago, 1 = não pago)\n",
        "- **loan_percent_income**: quantos % o empréstimo corresponde da renda anual (empréstimo / Renda anual)\n",
        "- **cb_person_default_on_file**:\tPadrão histórico \n",
        "- **cb_preson_cred_hist_length**:\tHá quanto tempo usa crédito "
      ]
    },
    {
      "cell_type": "markdown",
      "metadata": {
        "id": "mSjrZF309xmi"
      },
      "source": [
        "#### Importando bibliotecas e Dataset "
      ]
    },
    {
      "cell_type": "code",
      "metadata": {
        "id": "YJNekrnC1hBT"
      },
      "source": [
        "import numpy as np \n",
        "import pandas as pd \n",
        "import matplotlib as mpl\n",
        "import matplotlib.pyplot as plt\n",
        "import seaborn as sns\n",
        "from sklearn.metrics import classification_report\n",
        "import xgboost as xgb"
      ],
      "execution_count": 1,
      "outputs": []
    },
    {
      "cell_type": "code",
      "metadata": {
        "colab": {
          "resources": {
            "http://localhost:8080/nbextensions/google.colab/files.js": {
              "data": "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",
              "ok": true,
              "headers": [
                [
                  "content-type",
                  "application/javascript"
                ]
              ],
              "status": 200,
              "status_text": ""
            }
          },
          "base_uri": "https://localhost:8080/",
          "height": 73
        },
        "id": "OH4Uq1nH1vkN",
        "outputId": "dfb1197b-7b33-47aa-f914-4a75e7e77626"
      },
      "source": [
        "#importando os dados para o google colab\n",
        "from google.colab import files\n",
        "uploaded = files.upload()"
      ],
      "execution_count": 2,
      "outputs": [
        {
          "output_type": "display_data",
          "data": {
            "text/html": [
              "\n",
              "     <input type=\"file\" id=\"files-efa52eb9-8ef0-45fd-b959-072d096099ea\" name=\"files[]\" multiple disabled\n",
              "        style=\"border:none\" />\n",
              "     <output id=\"result-efa52eb9-8ef0-45fd-b959-072d096099ea\">\n",
              "      Upload widget is only available when the cell has been executed in the\n",
              "      current browser session. Please rerun this cell to enable.\n",
              "      </output>\n",
              "      <script src=\"/nbextensions/google.colab/files.js\"></script> "
            ],
            "text/plain": [
              "<IPython.core.display.HTML object>"
            ]
          },
          "metadata": {
            "tags": []
          }
        },
        {
          "output_type": "stream",
          "text": [
            "Saving credit_risk_dataset.csv to credit_risk_dataset.csv\n"
          ],
          "name": "stdout"
        }
      ]
    },
    {
      "cell_type": "code",
      "metadata": {
        "colab": {
          "base_uri": "https://localhost:8080/",
          "height": 217
        },
        "id": "93DHyH2Y2cPG",
        "outputId": "4f7843cd-58d3-4eec-a05f-4a8212c0bd31"
      },
      "source": [
        "df_cr = pd.read_csv('credit_risk_dataset.csv')\n",
        "df_cr.tail()"
      ],
      "execution_count": 2,
      "outputs": [
        {
          "output_type": "execute_result",
          "data": {
            "text/html": [
              "<div>\n",
              "<style scoped>\n",
              "    .dataframe tbody tr th:only-of-type {\n",
              "        vertical-align: middle;\n",
              "    }\n",
              "\n",
              "    .dataframe tbody tr th {\n",
              "        vertical-align: top;\n",
              "    }\n",
              "\n",
              "    .dataframe thead th {\n",
              "        text-align: right;\n",
              "    }\n",
              "</style>\n",
              "<table border=\"1\" class=\"dataframe\">\n",
              "  <thead>\n",
              "    <tr style=\"text-align: right;\">\n",
              "      <th></th>\n",
              "      <th>person_age</th>\n",
              "      <th>person_income</th>\n",
              "      <th>person_home_ownership</th>\n",
              "      <th>person_emp_length</th>\n",
              "      <th>loan_intent</th>\n",
              "      <th>loan_grade</th>\n",
              "      <th>loan_amnt</th>\n",
              "      <th>loan_int_rate</th>\n",
              "      <th>loan_status</th>\n",
              "      <th>loan_percent_income</th>\n",
              "      <th>cb_person_default_on_file</th>\n",
              "      <th>cb_person_cred_hist_length</th>\n",
              "    </tr>\n",
              "  </thead>\n",
              "  <tbody>\n",
              "    <tr>\n",
              "      <th>32576</th>\n",
              "      <td>57</td>\n",
              "      <td>53000</td>\n",
              "      <td>MORTGAGE</td>\n",
              "      <td>1.0</td>\n",
              "      <td>PERSONAL</td>\n",
              "      <td>C</td>\n",
              "      <td>5800</td>\n",
              "      <td>13.16</td>\n",
              "      <td>0</td>\n",
              "      <td>0.11</td>\n",
              "      <td>N</td>\n",
              "      <td>30</td>\n",
              "    </tr>\n",
              "    <tr>\n",
              "      <th>32577</th>\n",
              "      <td>54</td>\n",
              "      <td>120000</td>\n",
              "      <td>MORTGAGE</td>\n",
              "      <td>4.0</td>\n",
              "      <td>PERSONAL</td>\n",
              "      <td>A</td>\n",
              "      <td>17625</td>\n",
              "      <td>7.49</td>\n",
              "      <td>0</td>\n",
              "      <td>0.15</td>\n",
              "      <td>N</td>\n",
              "      <td>19</td>\n",
              "    </tr>\n",
              "    <tr>\n",
              "      <th>32578</th>\n",
              "      <td>65</td>\n",
              "      <td>76000</td>\n",
              "      <td>RENT</td>\n",
              "      <td>3.0</td>\n",
              "      <td>HOMEIMPROVEMENT</td>\n",
              "      <td>B</td>\n",
              "      <td>35000</td>\n",
              "      <td>10.99</td>\n",
              "      <td>1</td>\n",
              "      <td>0.46</td>\n",
              "      <td>N</td>\n",
              "      <td>28</td>\n",
              "    </tr>\n",
              "    <tr>\n",
              "      <th>32579</th>\n",
              "      <td>56</td>\n",
              "      <td>150000</td>\n",
              "      <td>MORTGAGE</td>\n",
              "      <td>5.0</td>\n",
              "      <td>PERSONAL</td>\n",
              "      <td>B</td>\n",
              "      <td>15000</td>\n",
              "      <td>11.48</td>\n",
              "      <td>0</td>\n",
              "      <td>0.10</td>\n",
              "      <td>N</td>\n",
              "      <td>26</td>\n",
              "    </tr>\n",
              "    <tr>\n",
              "      <th>32580</th>\n",
              "      <td>66</td>\n",
              "      <td>42000</td>\n",
              "      <td>RENT</td>\n",
              "      <td>2.0</td>\n",
              "      <td>MEDICAL</td>\n",
              "      <td>B</td>\n",
              "      <td>6475</td>\n",
              "      <td>9.99</td>\n",
              "      <td>0</td>\n",
              "      <td>0.15</td>\n",
              "      <td>N</td>\n",
              "      <td>30</td>\n",
              "    </tr>\n",
              "  </tbody>\n",
              "</table>\n",
              "</div>"
            ],
            "text/plain": [
              "       person_age  ...  cb_person_cred_hist_length\n",
              "32576          57  ...                          30\n",
              "32577          54  ...                          19\n",
              "32578          65  ...                          28\n",
              "32579          56  ...                          26\n",
              "32580          66  ...                          30\n",
              "\n",
              "[5 rows x 12 columns]"
            ]
          },
          "metadata": {
            "tags": []
          },
          "execution_count": 2
        }
      ]
    },
    {
      "cell_type": "markdown",
      "metadata": {
        "id": "TUragJLQ921y"
      },
      "source": [
        "#### Verificando se existem valores nulos"
      ]
    },
    {
      "cell_type": "code",
      "metadata": {
        "colab": {
          "base_uri": "https://localhost:8080/"
        },
        "id": "DWGw7ukW2sZp",
        "outputId": "deb96a6a-f175-4c0c-8ac7-8c9750e3595d"
      },
      "source": [
        "df_cr.isnull().sum()"
      ],
      "execution_count": 3,
      "outputs": [
        {
          "output_type": "execute_result",
          "data": {
            "text/plain": [
              "person_age                       0\n",
              "person_income                    0\n",
              "person_home_ownership            0\n",
              "person_emp_length              895\n",
              "loan_intent                      0\n",
              "loan_grade                       0\n",
              "loan_amnt                        0\n",
              "loan_int_rate                 3116\n",
              "loan_status                      0\n",
              "loan_percent_income              0\n",
              "cb_person_default_on_file        0\n",
              "cb_person_cred_hist_length       0\n",
              "dtype: int64"
            ]
          },
          "metadata": {
            "tags": []
          },
          "execution_count": 3
        }
      ]
    },
    {
      "cell_type": "code",
      "metadata": {
        "colab": {
          "base_uri": "https://localhost:8080/"
        },
        "id": "OTIRuB0m2yhw",
        "outputId": "6f8e61f9-40d0-4d6c-d42a-450b837feab8"
      },
      "source": [
        "#### Substituindo valores nulos pela média da coluna.\n",
        "df_cr['person_emp_length'].fillna((df_cr['person_emp_length'].median()), inplace=True)\n",
        "df_cr['loan_int_rate'].fillna((df_cr['loan_int_rate'].median()), inplace = True)\n",
        "df_cr.info()"
      ],
      "execution_count": 4,
      "outputs": [
        {
          "output_type": "stream",
          "text": [
            "<class 'pandas.core.frame.DataFrame'>\n",
            "RangeIndex: 32581 entries, 0 to 32580\n",
            "Data columns (total 12 columns):\n",
            " #   Column                      Non-Null Count  Dtype  \n",
            "---  ------                      --------------  -----  \n",
            " 0   person_age                  32581 non-null  int64  \n",
            " 1   person_income               32581 non-null  int64  \n",
            " 2   person_home_ownership       32581 non-null  object \n",
            " 3   person_emp_length           32581 non-null  float64\n",
            " 4   loan_intent                 32581 non-null  object \n",
            " 5   loan_grade                  32581 non-null  object \n",
            " 6   loan_amnt                   32581 non-null  int64  \n",
            " 7   loan_int_rate               32581 non-null  float64\n",
            " 8   loan_status                 32581 non-null  int64  \n",
            " 9   loan_percent_income         32581 non-null  float64\n",
            " 10  cb_person_default_on_file   32581 non-null  object \n",
            " 11  cb_person_cred_hist_length  32581 non-null  int64  \n",
            "dtypes: float64(3), int64(5), object(4)\n",
            "memory usage: 3.0+ MB\n"
          ],
          "name": "stdout"
        }
      ]
    },
    {
      "cell_type": "markdown",
      "metadata": {
        "id": "yjVd8qdI-07O"
      },
      "source": [
        "#### Tratando variáveis categóricas com one hot enconding "
      ]
    },
    {
      "cell_type": "code",
      "metadata": {
        "colab": {
          "base_uri": "https://localhost:8080/",
          "height": 217
        },
        "id": "g4DYF_-m31Al",
        "outputId": "5e51d8f4-099a-41af-da4f-7bfd03f9efb2"
      },
      "source": [
        "num_col = df_cr.select_dtypes(exclude = 'object')\n",
        "char_col = df_cr.select_dtypes(include = 'object')\n",
        "encoded_char_col = pd.get_dummies(char_col)\n",
        "df_final = pd.concat([num_col, encoded_char_col], axis=1)\n",
        "df_final.tail()"
      ],
      "execution_count": 5,
      "outputs": [
        {
          "output_type": "execute_result",
          "data": {
            "text/html": [
              "<div>\n",
              "<style scoped>\n",
              "    .dataframe tbody tr th:only-of-type {\n",
              "        vertical-align: middle;\n",
              "    }\n",
              "\n",
              "    .dataframe tbody tr th {\n",
              "        vertical-align: top;\n",
              "    }\n",
              "\n",
              "    .dataframe thead th {\n",
              "        text-align: right;\n",
              "    }\n",
              "</style>\n",
              "<table border=\"1\" class=\"dataframe\">\n",
              "  <thead>\n",
              "    <tr style=\"text-align: right;\">\n",
              "      <th></th>\n",
              "      <th>person_age</th>\n",
              "      <th>person_income</th>\n",
              "      <th>person_emp_length</th>\n",
              "      <th>loan_amnt</th>\n",
              "      <th>loan_int_rate</th>\n",
              "      <th>loan_status</th>\n",
              "      <th>loan_percent_income</th>\n",
              "      <th>cb_person_cred_hist_length</th>\n",
              "      <th>person_home_ownership_MORTGAGE</th>\n",
              "      <th>person_home_ownership_OTHER</th>\n",
              "      <th>person_home_ownership_OWN</th>\n",
              "      <th>person_home_ownership_RENT</th>\n",
              "      <th>loan_intent_DEBTCONSOLIDATION</th>\n",
              "      <th>loan_intent_EDUCATION</th>\n",
              "      <th>loan_intent_HOMEIMPROVEMENT</th>\n",
              "      <th>loan_intent_MEDICAL</th>\n",
              "      <th>loan_intent_PERSONAL</th>\n",
              "      <th>loan_intent_VENTURE</th>\n",
              "      <th>loan_grade_A</th>\n",
              "      <th>loan_grade_B</th>\n",
              "      <th>loan_grade_C</th>\n",
              "      <th>loan_grade_D</th>\n",
              "      <th>loan_grade_E</th>\n",
              "      <th>loan_grade_F</th>\n",
              "      <th>loan_grade_G</th>\n",
              "      <th>cb_person_default_on_file_N</th>\n",
              "      <th>cb_person_default_on_file_Y</th>\n",
              "    </tr>\n",
              "  </thead>\n",
              "  <tbody>\n",
              "    <tr>\n",
              "      <th>32576</th>\n",
              "      <td>57</td>\n",
              "      <td>53000</td>\n",
              "      <td>1.0</td>\n",
              "      <td>5800</td>\n",
              "      <td>13.16</td>\n",
              "      <td>0</td>\n",
              "      <td>0.11</td>\n",
              "      <td>30</td>\n",
              "      <td>1</td>\n",
              "      <td>0</td>\n",
              "      <td>0</td>\n",
              "      <td>0</td>\n",
              "      <td>0</td>\n",
              "      <td>0</td>\n",
              "      <td>0</td>\n",
              "      <td>0</td>\n",
              "      <td>1</td>\n",
              "      <td>0</td>\n",
              "      <td>0</td>\n",
              "      <td>0</td>\n",
              "      <td>1</td>\n",
              "      <td>0</td>\n",
              "      <td>0</td>\n",
              "      <td>0</td>\n",
              "      <td>0</td>\n",
              "      <td>1</td>\n",
              "      <td>0</td>\n",
              "    </tr>\n",
              "    <tr>\n",
              "      <th>32577</th>\n",
              "      <td>54</td>\n",
              "      <td>120000</td>\n",
              "      <td>4.0</td>\n",
              "      <td>17625</td>\n",
              "      <td>7.49</td>\n",
              "      <td>0</td>\n",
              "      <td>0.15</td>\n",
              "      <td>19</td>\n",
              "      <td>1</td>\n",
              "      <td>0</td>\n",
              "      <td>0</td>\n",
              "      <td>0</td>\n",
              "      <td>0</td>\n",
              "      <td>0</td>\n",
              "      <td>0</td>\n",
              "      <td>0</td>\n",
              "      <td>1</td>\n",
              "      <td>0</td>\n",
              "      <td>1</td>\n",
              "      <td>0</td>\n",
              "      <td>0</td>\n",
              "      <td>0</td>\n",
              "      <td>0</td>\n",
              "      <td>0</td>\n",
              "      <td>0</td>\n",
              "      <td>1</td>\n",
              "      <td>0</td>\n",
              "    </tr>\n",
              "    <tr>\n",
              "      <th>32578</th>\n",
              "      <td>65</td>\n",
              "      <td>76000</td>\n",
              "      <td>3.0</td>\n",
              "      <td>35000</td>\n",
              "      <td>10.99</td>\n",
              "      <td>1</td>\n",
              "      <td>0.46</td>\n",
              "      <td>28</td>\n",
              "      <td>0</td>\n",
              "      <td>0</td>\n",
              "      <td>0</td>\n",
              "      <td>1</td>\n",
              "      <td>0</td>\n",
              "      <td>0</td>\n",
              "      <td>1</td>\n",
              "      <td>0</td>\n",
              "      <td>0</td>\n",
              "      <td>0</td>\n",
              "      <td>0</td>\n",
              "      <td>1</td>\n",
              "      <td>0</td>\n",
              "      <td>0</td>\n",
              "      <td>0</td>\n",
              "      <td>0</td>\n",
              "      <td>0</td>\n",
              "      <td>1</td>\n",
              "      <td>0</td>\n",
              "    </tr>\n",
              "    <tr>\n",
              "      <th>32579</th>\n",
              "      <td>56</td>\n",
              "      <td>150000</td>\n",
              "      <td>5.0</td>\n",
              "      <td>15000</td>\n",
              "      <td>11.48</td>\n",
              "      <td>0</td>\n",
              "      <td>0.10</td>\n",
              "      <td>26</td>\n",
              "      <td>1</td>\n",
              "      <td>0</td>\n",
              "      <td>0</td>\n",
              "      <td>0</td>\n",
              "      <td>0</td>\n",
              "      <td>0</td>\n",
              "      <td>0</td>\n",
              "      <td>0</td>\n",
              "      <td>1</td>\n",
              "      <td>0</td>\n",
              "      <td>0</td>\n",
              "      <td>1</td>\n",
              "      <td>0</td>\n",
              "      <td>0</td>\n",
              "      <td>0</td>\n",
              "      <td>0</td>\n",
              "      <td>0</td>\n",
              "      <td>1</td>\n",
              "      <td>0</td>\n",
              "    </tr>\n",
              "    <tr>\n",
              "      <th>32580</th>\n",
              "      <td>66</td>\n",
              "      <td>42000</td>\n",
              "      <td>2.0</td>\n",
              "      <td>6475</td>\n",
              "      <td>9.99</td>\n",
              "      <td>0</td>\n",
              "      <td>0.15</td>\n",
              "      <td>30</td>\n",
              "      <td>0</td>\n",
              "      <td>0</td>\n",
              "      <td>0</td>\n",
              "      <td>1</td>\n",
              "      <td>0</td>\n",
              "      <td>0</td>\n",
              "      <td>0</td>\n",
              "      <td>1</td>\n",
              "      <td>0</td>\n",
              "      <td>0</td>\n",
              "      <td>0</td>\n",
              "      <td>1</td>\n",
              "      <td>0</td>\n",
              "      <td>0</td>\n",
              "      <td>0</td>\n",
              "      <td>0</td>\n",
              "      <td>0</td>\n",
              "      <td>1</td>\n",
              "      <td>0</td>\n",
              "    </tr>\n",
              "  </tbody>\n",
              "</table>\n",
              "</div>"
            ],
            "text/plain": [
              "       person_age  ...  cb_person_default_on_file_Y\n",
              "32576          57  ...                            0\n",
              "32577          54  ...                            0\n",
              "32578          65  ...                            0\n",
              "32579          56  ...                            0\n",
              "32580          66  ...                            0\n",
              "\n",
              "[5 rows x 27 columns]"
            ]
          },
          "metadata": {
            "tags": []
          },
          "execution_count": 5
        }
      ]
    },
    {
      "cell_type": "markdown",
      "metadata": {
        "id": "Cmmk_mXgBdAe"
      },
      "source": [
        "#### Análise explorátória"
      ]
    },
    {
      "cell_type": "code",
      "metadata": {
        "colab": {
          "base_uri": "https://localhost:8080/",
          "height": 287
        },
        "id": "QOdGs7D4Afxn",
        "outputId": "a5b15f28-ac16-4c28-b299-00421fab50d6"
      },
      "source": [
        "### Análise estatística\n",
        "stats = ['person_age','person_income','person_emp_length','loan_amnt']\n",
        "df_final[stats].describe()"
      ],
      "execution_count": 6,
      "outputs": [
        {
          "output_type": "execute_result",
          "data": {
            "text/html": [
              "<div>\n",
              "<style scoped>\n",
              "    .dataframe tbody tr th:only-of-type {\n",
              "        vertical-align: middle;\n",
              "    }\n",
              "\n",
              "    .dataframe tbody tr th {\n",
              "        vertical-align: top;\n",
              "    }\n",
              "\n",
              "    .dataframe thead th {\n",
              "        text-align: right;\n",
              "    }\n",
              "</style>\n",
              "<table border=\"1\" class=\"dataframe\">\n",
              "  <thead>\n",
              "    <tr style=\"text-align: right;\">\n",
              "      <th></th>\n",
              "      <th>person_age</th>\n",
              "      <th>person_income</th>\n",
              "      <th>person_emp_length</th>\n",
              "      <th>loan_amnt</th>\n",
              "    </tr>\n",
              "  </thead>\n",
              "  <tbody>\n",
              "    <tr>\n",
              "      <th>count</th>\n",
              "      <td>32581.000000</td>\n",
              "      <td>3.258100e+04</td>\n",
              "      <td>32581.000000</td>\n",
              "      <td>32581.000000</td>\n",
              "    </tr>\n",
              "    <tr>\n",
              "      <th>mean</th>\n",
              "      <td>27.734600</td>\n",
              "      <td>6.607485e+04</td>\n",
              "      <td>4.767994</td>\n",
              "      <td>9589.371106</td>\n",
              "    </tr>\n",
              "    <tr>\n",
              "      <th>std</th>\n",
              "      <td>6.348078</td>\n",
              "      <td>6.198312e+04</td>\n",
              "      <td>4.087372</td>\n",
              "      <td>6322.086646</td>\n",
              "    </tr>\n",
              "    <tr>\n",
              "      <th>min</th>\n",
              "      <td>20.000000</td>\n",
              "      <td>4.000000e+03</td>\n",
              "      <td>0.000000</td>\n",
              "      <td>500.000000</td>\n",
              "    </tr>\n",
              "    <tr>\n",
              "      <th>25%</th>\n",
              "      <td>23.000000</td>\n",
              "      <td>3.850000e+04</td>\n",
              "      <td>2.000000</td>\n",
              "      <td>5000.000000</td>\n",
              "    </tr>\n",
              "    <tr>\n",
              "      <th>50%</th>\n",
              "      <td>26.000000</td>\n",
              "      <td>5.500000e+04</td>\n",
              "      <td>4.000000</td>\n",
              "      <td>8000.000000</td>\n",
              "    </tr>\n",
              "    <tr>\n",
              "      <th>75%</th>\n",
              "      <td>30.000000</td>\n",
              "      <td>7.920000e+04</td>\n",
              "      <td>7.000000</td>\n",
              "      <td>12200.000000</td>\n",
              "    </tr>\n",
              "    <tr>\n",
              "      <th>max</th>\n",
              "      <td>144.000000</td>\n",
              "      <td>6.000000e+06</td>\n",
              "      <td>123.000000</td>\n",
              "      <td>35000.000000</td>\n",
              "    </tr>\n",
              "  </tbody>\n",
              "</table>\n",
              "</div>"
            ],
            "text/plain": [
              "         person_age  person_income  person_emp_length     loan_amnt\n",
              "count  32581.000000   3.258100e+04       32581.000000  32581.000000\n",
              "mean      27.734600   6.607485e+04           4.767994   9589.371106\n",
              "std        6.348078   6.198312e+04           4.087372   6322.086646\n",
              "min       20.000000   4.000000e+03           0.000000    500.000000\n",
              "25%       23.000000   3.850000e+04           2.000000   5000.000000\n",
              "50%       26.000000   5.500000e+04           4.000000   8000.000000\n",
              "75%       30.000000   7.920000e+04           7.000000  12200.000000\n",
              "max      144.000000   6.000000e+06         123.000000  35000.000000"
            ]
          },
          "metadata": {
            "tags": []
          },
          "execution_count": 6
        }
      ]
    },
    {
      "cell_type": "code",
      "metadata": {
        "colab": {
          "base_uri": "https://localhost:8080/"
        },
        "id": "2rewUew8BjK7",
        "outputId": "633ea1ff-ad6d-4eee-bbf4-6e80506713ee"
      },
      "source": [
        "### Verificando quais labels são mais frequentes para variável loan_intent\n",
        "df_cr['loan_intent'].value_counts()"
      ],
      "execution_count": 7,
      "outputs": [
        {
          "output_type": "execute_result",
          "data": {
            "text/plain": [
              "EDUCATION            6453\n",
              "MEDICAL              6071\n",
              "VENTURE              5719\n",
              "PERSONAL             5521\n",
              "DEBTCONSOLIDATION    5212\n",
              "HOMEIMPROVEMENT      3605\n",
              "Name: loan_intent, dtype: int64"
            ]
          },
          "metadata": {
            "tags": []
          },
          "execution_count": 7
        }
      ]
    },
    {
      "cell_type": "code",
      "metadata": {
        "colab": {
          "base_uri": "https://localhost:8080/",
          "height": 668
        },
        "id": "e4HUmKJlB4ak",
        "outputId": "730b9fdd-c1a0-4aab-fe51-3609c5d670f7"
      },
      "source": [
        "#matriz de correlação plotada\n",
        "plt.figure(figsize=(12,9))\n",
        "matriz_correlacao=df_cr.corr()\n",
        "sns.heatmap(matriz_correlacao, annot=True)\n",
        "plt.show()"
      ],
      "execution_count": 8,
      "outputs": [
        {
          "output_type": "display_data",
          "data": {
            "image/png": "[encoded data removed]",
            "text/plain": [
              "<Figure size 864x648 with 2 Axes>"
            ]
          },
          "metadata": {
            "tags": [],
            "needs_background": "light"
          }
        }
      ]
    },
    {
      "cell_type": "code",
      "metadata": {
        "colab": {
          "base_uri": "https://localhost:8080/",
          "height": 281
        },
        "id": "Vp64-_a6Cv63",
        "outputId": "88d95d96-0b69-499c-afe4-1f04c98c9c35"
      },
      "source": [
        "### Conferindo frequência das labels de saída\n",
        "df_final.loan_status.plot(kind='hist')"
      ],
      "execution_count": 9,
      "outputs": [
        {
          "output_type": "execute_result",
          "data": {
            "text/plain": [
              "<matplotlib.axes._subplots.AxesSubplot at 0x7f1808d52e10>"
            ]
          },
          "metadata": {
            "tags": []
          },
          "execution_count": 9
        },
        {
          "output_type": "display_data",
          "data": {
            "image/png": "[encoded data removed]",
            "text/plain": [
              "<Figure size 432x288 with 1 Axes>"
            ]
          },
          "metadata": {
            "tags": [],
            "needs_background": "light"
          }
        }
      ]
    },
    {
      "cell_type": "markdown",
      "metadata": {
        "id": "-R37GbvWDgUN"
      },
      "source": [
        "gráfico configura um dataset desbalanceado, será necessário undersampling ou oversampling para treinar o modelo."
      ]
    },
    {
      "cell_type": "markdown",
      "metadata": {
        "id": "xfKhI0WUIXcb"
      },
      "source": [
        "#### Dividindo entradas e saída."
      ]
    },
    {
      "cell_type": "code",
      "metadata": {
        "id": "nJCu5toWH80V"
      },
      "source": [
        "X = df_final.drop(columns='loan_status')\n",
        "y = df_final['loan_status']"
      ],
      "execution_count": 33,
      "outputs": []
    },
    {
      "cell_type": "markdown",
      "metadata": {
        "id": "su7WTG87JLO9"
      },
      "source": [
        "### Tratando desbalanceamento "
      ]
    },
    {
      "cell_type": "code",
      "metadata": {
        "colab": {
          "base_uri": "https://localhost:8080/"
        },
        "id": "_ZbrAvjROeey",
        "outputId": "995cc3f4-8de5-483e-f30a-51f2705db2fc"
      },
      "source": [
        "from imblearn.over_sampling import SMOTE\n",
        "oversample = SMOTE()\n",
        "X, y = oversample.fit_resample(X, y)\n",
        "np.bincount(y)"
      ],
      "execution_count": 34,
      "outputs": [
        {
          "output_type": "stream",
          "text": [
            "/usr/local/lib/python3.7/dist-packages/sklearn/utils/deprecation.py:87: FutureWarning: Function safe_indexing is deprecated; safe_indexing is deprecated in version 0.22 and will be removed in version 0.24.\n",
            "  warnings.warn(msg, category=FutureWarning)\n"
          ],
          "name": "stderr"
        },
        {
          "output_type": "execute_result",
          "data": {
            "text/plain": [
              "array([25473, 25473])"
            ]
          },
          "metadata": {
            "tags": []
          },
          "execution_count": 34
        }
      ]
    },
    {
      "cell_type": "markdown",
      "metadata": {
        "id": "2aMBVjEgJA2e"
      },
      "source": [
        "#### Normalizando Dados de entrada"
      ]
    },
    {
      "cell_type": "code",
      "metadata": {
        "id": "oGqu4mwFJCvn"
      },
      "source": [
        "from sklearn.preprocessing import scale\n",
        "X_escaler = scale(X)"
      ],
      "execution_count": 35,
      "outputs": []
    },
    {
      "cell_type": "markdown",
      "metadata": {
        "id": "PH2cKse_Inof"
      },
      "source": [
        "#### Dividindo dataset entre treino e teste"
      ]
    },
    {
      "cell_type": "code",
      "metadata": {
        "id": "Nm26YSF1IsLJ"
      },
      "source": [
        "from sklearn.model_selection import train_test_split\n",
        "\n",
        "X_train, X_test, y_train, y_test = train_test_split(X_escaler, y, test_size=0.3, random_state=0)"
      ],
      "execution_count": 36,
      "outputs": []
    },
    {
      "cell_type": "markdown",
      "metadata": {
        "id": "Kpt4mjKBKcT7"
      },
      "source": [
        "#### Efetuando previsões "
      ]
    },
    {
      "cell_type": "markdown",
      "metadata": {
        "id": "5xl5AgS7MLNx"
      },
      "source": [
        "#### Floresta Randômica"
      ]
    },
    {
      "cell_type": "code",
      "metadata": {
        "colab": {
          "base_uri": "https://localhost:8080/"
        },
        "id": "QlDMPEgBKe7_",
        "outputId": "c6bbeb43-1db9-4bbb-9735-dd42e23cf310"
      },
      "source": [
        "\n",
        "from sklearn.ensemble import RandomForestClassifier\n",
        "#define a floresta randomica\n",
        "clf_floresta = RandomForestClassifier(max_depth=9,n_estimators=100,min_samples_split=2,max_features='auto',oob_score=True,criterion='gini')\n",
        "clf_floresta.fit(X_train,y_train)"
      ],
      "execution_count": 37,
      "outputs": [
        {
          "output_type": "execute_result",
          "data": {
            "text/plain": [
              "RandomForestClassifier(bootstrap=True, ccp_alpha=0.0, class_weight=None,\n",
              "                       criterion='gini', max_depth=9, max_features='auto',\n",
              "                       max_leaf_nodes=None, max_samples=None,\n",
              "                       min_impurity_decrease=0.0, min_impurity_split=None,\n",
              "                       min_samples_leaf=1, min_samples_split=2,\n",
              "                       min_weight_fraction_leaf=0.0, n_estimators=100,\n",
              "                       n_jobs=None, oob_score=True, random_state=None,\n",
              "                       verbose=0, warm_start=False)"
            ]
          },
          "metadata": {
            "tags": []
          },
          "execution_count": 37
        }
      ]
    },
    {
      "cell_type": "code",
      "metadata": {
        "colab": {
          "base_uri": "https://localhost:8080/"
        },
        "id": "smGiWh9nKkqU",
        "outputId": "722fff5f-c54d-4578-c1d9-3aa82d4ddbe5"
      },
      "source": [
        "y_pred_floresta = clf_floresta.predict(X_test)\n",
        "print(\"Resultados para floresta randômica é:\\n \",classification_report(y_test,y_pred_floresta))"
      ],
      "execution_count": 38,
      "outputs": [
        {
          "output_type": "stream",
          "text": [
            "O valor de f1-score para a floresta randômica é:\n",
            "                precision    recall  f1-score   support\n",
            "\n",
            "           0       0.91      0.98      0.94      7654\n",
            "           1       0.97      0.90      0.94      7630\n",
            "\n",
            "    accuracy                           0.94     15284\n",
            "   macro avg       0.94      0.94      0.94     15284\n",
            "weighted avg       0.94      0.94      0.94     15284\n",
            "\n"
          ],
          "name": "stdout"
        }
      ]
    },
    {
      "cell_type": "markdown",
      "metadata": {
        "id": "da2HV-KPMN5W"
      },
      "source": [
        "#### SVM"
      ]
    },
    {
      "cell_type": "code",
      "metadata": {
        "colab": {
          "base_uri": "https://localhost:8080/"
        },
        "id": "Byw8xyMvMY1r",
        "outputId": "d839e374-060b-4e79-97f5-3d2c94cebf7e"
      },
      "source": [
        "from sklearn.svm import SVC\n",
        "\n",
        "clf_svm = SVC(kernel='rbf',gamma='auto',C=0.1)\n",
        "clf_svm.fit(X_train,y_train)\n",
        "y_pred_svm = clf_svm.predict(X_test)\n",
        "print(\"Resultados para SVM:\\n \",classification_report(y_test,y_pred_svm))"
      ],
      "execution_count": 39,
      "outputs": [
        {
          "output_type": "stream",
          "text": [
            "O valor de f1-score para Naive Bayes é:\n",
            "                precision    recall  f1-score   support\n",
            "\n",
            "           0       0.86      0.95      0.90      7654\n",
            "           1       0.94      0.84      0.89      7630\n",
            "\n",
            "    accuracy                           0.89     15284\n",
            "   macro avg       0.90      0.89      0.89     15284\n",
            "weighted avg       0.90      0.89      0.89     15284\n",
            "\n"
          ],
          "name": "stdout"
        }
      ]
    },
    {
      "cell_type": "markdown",
      "metadata": {
        "id": "UeH8bunYMP_R"
      },
      "source": [
        "#### gradient Boost\n",
        "\n"
      ]
    },
    {
      "cell_type": "code",
      "metadata": {
        "colab": {
          "base_uri": "https://localhost:8080/"
        },
        "id": "Sv8jGd4tN-5L",
        "outputId": "9fb83ec8-c2f1-44eb-fdac-3934ea237c6a"
      },
      "source": [
        "from sklearn.ensemble import GradientBoostingClassifier\n",
        "\n",
        "\n",
        "\n",
        "clf_gradient = GradientBoostingClassifier(n_estimators=1000, learning_rate=1,max_depth=1 ,max_features='auto',subsample = 1, loss='exponential').fit(X_train, y_train)\n",
        "\n",
        "y_pred_gradient = clf_gradient.predict(X_test)\n",
        "\n",
        "print(\"REsultados para GradientBoos:\\n \",classification_report(y_test,y_pred_gradient))\n",
        "clf_gradient.score(X_test, y_test)\n",
        "print(clf_gradient)"
      ],
      "execution_count": 40,
      "outputs": [
        {
          "output_type": "stream",
          "text": [
            "REsultados para GradientBoos:\n",
            "                precision    recall  f1-score   support\n",
            "\n",
            "           0       0.91      0.95      0.93      7654\n",
            "           1       0.95      0.91      0.93      7630\n",
            "\n",
            "    accuracy                           0.93     15284\n",
            "   macro avg       0.93      0.93      0.93     15284\n",
            "weighted avg       0.93      0.93      0.93     15284\n",
            "\n",
            "GradientBoostingClassifier(ccp_alpha=0.0, criterion='friedman_mse', init=None,\n",
            "                           learning_rate=1, loss='exponential', max_depth=1,\n",
            "                           max_features='auto', max_leaf_nodes=None,\n",
            "                           min_impurity_decrease=0.0, min_impurity_split=None,\n",
            "                           min_samples_leaf=1, min_samples_split=2,\n",
            "                           min_weight_fraction_leaf=0.0, n_estimators=1000,\n",
            "                           n_iter_no_change=None, presort='deprecated',\n",
            "                           random_state=None, subsample=1, tol=0.0001,\n",
            "                           validation_fraction=0.1, verbose=0,\n",
            "                           warm_start=False)\n"
          ],
          "name": "stdout"
        }
      ]
    }
  ]
}