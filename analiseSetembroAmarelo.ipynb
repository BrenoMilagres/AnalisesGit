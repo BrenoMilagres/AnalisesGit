{
  "nbformat": 4,
  "nbformat_minor": 0,
  "metadata": {
    "colab": {
      "name": "analiseSetembroAmarelo.ipynb",
      "provenance": [],
      "collapsed_sections": [],
      "include_colab_link": true
    },
    "kernelspec": {
      "name": "python3",
      "display_name": "Python 3"
    }
  },
  "cells": [
    {
      "cell_type": "markdown",
      "metadata": {
        "id": "view-in-github",
        "colab_type": "text"
      },
      "source": [
        "<a href=\"https://colab.research.google.com/github/BrenoMilagres/AnalisesGit/blob/master/analiseSetembroAmarelo.ipynb\" target=\"_parent\"><img src=\"https://colab.research.google.com/assets/colab-badge.svg\" alt=\"Open In Colab\"/></a>"
      ]
    },
    {
      "cell_type": "markdown",
      "metadata": {
        "id": "zLNoUaB_R4-f",
        "colab_type": "text"
      },
      "source": [
        "# Setembro Amarelo: análise do suicídio no Brasil com Data Science\n",
        "\n",
        "Todos os anos, mais de 12 mil pessoas tiram suas próprias vidas no Brasil. Em um cenário mundial, esse número ultrapassa 1 milhão de pessoas, levando o suicídio a ser considerado um problema de saúde pública.\n",
        "\n",
        "**Setembro Amarelo** é uma iniciativa da Associação Brasileira de Psiquiatria (ABP), em parceria com o Conselho Federal de Medicina (CFM), para divulgar e alertar a população sobre o problema.\n",
        "\n",
        "Oficialmente, o Dia Mundial de Prevenção ao Suicídio ocorre no dia 10 de setembro, porém durante o mês inteiro são promovidos debates, campanhas e ações para a conscientização sobre o suicídio.\n",
        "\n"
      ]
    },
    {
      "cell_type": "code",
      "metadata": {
        "id": "JX-dbWTb-E5f",
        "colab_type": "code",
        "colab": {
          "base_uri": "https://localhost:8080/",
          "height": 71
        },
        "outputId": "4841bcba-e758-40c3-f049-50f45f94c670"
      },
      "source": [
        "# importar pacotes necessários\n",
        "import numpy as np\n",
        "import pandas as pd\n",
        "import matplotlib.pyplot as plt\n",
        "import seaborn as sns\n",
        "\n",
        "%matplotlib inline"
      ],
      "execution_count": 2,
      "outputs": [
        {
          "output_type": "stream",
          "text": [
            "/usr/local/lib/python3.6/dist-packages/statsmodels/tools/_testing.py:19: FutureWarning: pandas.util.testing is deprecated. Use the functions in the public API at pandas.testing instead.\n",
            "  import pandas.util.testing as tm\n"
          ],
          "name": "stderr"
        }
      ]
    },
    {
      "cell_type": "code",
      "metadata": {
        "id": "GWblP2W-DT4d",
        "colab_type": "code",
        "colab": {
          "resources": {
            "http://localhost:8080/nbextensions/google.colab/files.js": {
              "data": "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",
              "ok": true,
              "headers": [
                [
                  "content-type",
                  "application/javascript"
                ]
              ],
              "status": 200,
              "status_text": ""
            }
          },
          "base_uri": "https://localhost:8080/",
          "height": 72
        },
        "outputId": "2bc40295-205a-478b-9a83-4da3032a8860"
      },
      "source": [
        "from google.colab import files\n",
        "uploaded = files.upload()"
      ],
      "execution_count": 3,
      "outputs": [
        {
          "output_type": "display_data",
          "data": {
            "text/html": [
              "\n",
              "     <input type=\"file\" id=\"files-8b265c5f-504a-4aed-8054-1ef47bfb8ee6\" name=\"files[]\" multiple disabled\n",
              "        style=\"border:none\" />\n",
              "     <output id=\"result-8b265c5f-504a-4aed-8054-1ef47bfb8ee6\">\n",
              "      Upload widget is only available when the cell has been executed in the\n",
              "      current browser session. Please rerun this cell to enable.\n",
              "      </output>\n",
              "      <script src=\"/nbextensions/google.colab/files.js\"></script> "
            ],
            "text/plain": [
              "<IPython.core.display.HTML object>"
            ]
          },
          "metadata": {
            "tags": []
          }
        },
        {
          "output_type": "stream",
          "text": [
            "Saving suicide_rates.csv to suicide_rates.csv\n"
          ],
          "name": "stdout"
        }
      ]
    },
    {
      "cell_type": "code",
      "metadata": {
        "id": "07Wbf53k-PN_",
        "colab_type": "code",
        "colab": {}
      },
      "source": [
        "# importar os dados sobre suicídio para um DataFrame\n",
        "df = pd.read_csv(\"suicide_rates.csv\")"
      ],
      "execution_count": 5,
      "outputs": []
    },
    {
      "cell_type": "markdown",
      "metadata": {
        "id": "UVU0wYVcFFEP",
        "colab_type": "text"
      },
      "source": [
        "### Dicionário de Variáveis\n",
        "\n",
        "Esse arquivo *csv* possui 12 colunas. São elas:\n",
        "\n",
        "* **country:** país onde os dados foram registrados\n",
        "  * 101 países\n",
        "* **year:** ano em que os dados foram registrados\n",
        "  * 1987 a 2016\n",
        "* **sex:** sexo considerado no registro\n",
        "  * *male* - masculino\n",
        "  * *female* - feminino\n",
        "* **age**: faixa etária considerada\n",
        "  * 5-14 anos\n",
        "  * 15-24 anos\n",
        "  * 25-34 anos\n",
        "  * 35-54 anos\n",
        "  * 55-74 anos\n",
        "  * 75+ anos\n",
        "* **suicides_no:** número de suicídios\n",
        "* **population:** população para o grupo\n",
        "* **suicides/100k pop:** número de suicídios por 100 mil habitantes\n",
        "* **country_year:** identificador contendo `country` + `year`\n",
        "* **HDI for year:** Índice de Desenvolvimento Humano (IDH) para o ano\n",
        "* **gdp_for_year:** Produto Interno Bruto (PIB) para o ano\n",
        "* **gdp_per_capita:** Produto Interno Bruto (PIB) per capita"
      ]
    },
    {
      "cell_type": "markdown",
      "metadata": {
        "id": "Jj1Aiqxlc3uR",
        "colab_type": "text"
      },
      "source": [
        "## Análise Exploratória dos Dados\n",
        "Este arquivo recebeu um tratamento anterior que facilitará muito a análise.\n",
        "\n"
      ]
    },
    {
      "cell_type": "code",
      "metadata": {
        "id": "jytGO2md-dNH",
        "colab_type": "code",
        "colab": {
          "base_uri": "https://localhost:8080/",
          "height": 221
        },
        "outputId": "1f2ab439-d393-460c-c9e0-43f75e61a4fe"
      },
      "source": [
        "# ver o formato do DataFrame\n",
        "print(\"Formato do DataFrame: \", df.shape)\n",
        "\n",
        "# ver as 5 primeiras entradas dos dataset\n",
        "df.head()"
      ],
      "execution_count": 6,
      "outputs": [
        {
          "output_type": "stream",
          "text": [
            "Formato do DataFrame:  (27820, 12)\n"
          ],
          "name": "stdout"
        },
        {
          "output_type": "execute_result",
          "data": {
            "text/html": [
              "<div>\n",
              "<style scoped>\n",
              "    .dataframe tbody tr th:only-of-type {\n",
              "        vertical-align: middle;\n",
              "    }\n",
              "\n",
              "    .dataframe tbody tr th {\n",
              "        vertical-align: top;\n",
              "    }\n",
              "\n",
              "    .dataframe thead th {\n",
              "        text-align: right;\n",
              "    }\n",
              "</style>\n",
              "<table border=\"1\" class=\"dataframe\">\n",
              "  <thead>\n",
              "    <tr style=\"text-align: right;\">\n",
              "      <th></th>\n",
              "      <th>country</th>\n",
              "      <th>year</th>\n",
              "      <th>sex</th>\n",
              "      <th>age</th>\n",
              "      <th>suicides_no</th>\n",
              "      <th>population</th>\n",
              "      <th>suicides/100k pop</th>\n",
              "      <th>country-year</th>\n",
              "      <th>HDI for year</th>\n",
              "      <th>gdp_for_year ($)</th>\n",
              "      <th>gdp_per_capita ($)</th>\n",
              "      <th>generation</th>\n",
              "    </tr>\n",
              "  </thead>\n",
              "  <tbody>\n",
              "    <tr>\n",
              "      <th>0</th>\n",
              "      <td>Albania</td>\n",
              "      <td>1987</td>\n",
              "      <td>male</td>\n",
              "      <td>15-24 years</td>\n",
              "      <td>21</td>\n",
              "      <td>312900</td>\n",
              "      <td>6.71</td>\n",
              "      <td>Albania1987</td>\n",
              "      <td>NaN</td>\n",
              "      <td>2,156,624,900</td>\n",
              "      <td>796</td>\n",
              "      <td>Generation X</td>\n",
              "    </tr>\n",
              "    <tr>\n",
              "      <th>1</th>\n",
              "      <td>Albania</td>\n",
              "      <td>1987</td>\n",
              "      <td>male</td>\n",
              "      <td>35-54 years</td>\n",
              "      <td>16</td>\n",
              "      <td>308000</td>\n",
              "      <td>5.19</td>\n",
              "      <td>Albania1987</td>\n",
              "      <td>NaN</td>\n",
              "      <td>2,156,624,900</td>\n",
              "      <td>796</td>\n",
              "      <td>Silent</td>\n",
              "    </tr>\n",
              "    <tr>\n",
              "      <th>2</th>\n",
              "      <td>Albania</td>\n",
              "      <td>1987</td>\n",
              "      <td>female</td>\n",
              "      <td>15-24 years</td>\n",
              "      <td>14</td>\n",
              "      <td>289700</td>\n",
              "      <td>4.83</td>\n",
              "      <td>Albania1987</td>\n",
              "      <td>NaN</td>\n",
              "      <td>2,156,624,900</td>\n",
              "      <td>796</td>\n",
              "      <td>Generation X</td>\n",
              "    </tr>\n",
              "    <tr>\n",
              "      <th>3</th>\n",
              "      <td>Albania</td>\n",
              "      <td>1987</td>\n",
              "      <td>male</td>\n",
              "      <td>75+ years</td>\n",
              "      <td>1</td>\n",
              "      <td>21800</td>\n",
              "      <td>4.59</td>\n",
              "      <td>Albania1987</td>\n",
              "      <td>NaN</td>\n",
              "      <td>2,156,624,900</td>\n",
              "      <td>796</td>\n",
              "      <td>G.I. Generation</td>\n",
              "    </tr>\n",
              "    <tr>\n",
              "      <th>4</th>\n",
              "      <td>Albania</td>\n",
              "      <td>1987</td>\n",
              "      <td>male</td>\n",
              "      <td>25-34 years</td>\n",
              "      <td>9</td>\n",
              "      <td>274300</td>\n",
              "      <td>3.28</td>\n",
              "      <td>Albania1987</td>\n",
              "      <td>NaN</td>\n",
              "      <td>2,156,624,900</td>\n",
              "      <td>796</td>\n",
              "      <td>Boomers</td>\n",
              "    </tr>\n",
              "  </tbody>\n",
              "</table>\n",
              "</div>"
            ],
            "text/plain": [
              "   country  year  ... gdp_per_capita ($)       generation\n",
              "0  Albania  1987  ...                796     Generation X\n",
              "1  Albania  1987  ...                796           Silent\n",
              "2  Albania  1987  ...                796     Generation X\n",
              "3  Albania  1987  ...                796  G.I. Generation\n",
              "4  Albania  1987  ...                796          Boomers\n",
              "\n",
              "[5 rows x 12 columns]"
            ]
          },
          "metadata": {
            "tags": []
          },
          "execution_count": 6
        }
      ]
    },
    {
      "cell_type": "markdown",
      "metadata": {
        "id": "JzgWV8djJ8ZW",
        "colab_type": "text"
      },
      "source": [
        "# Soma de suicídios por país\n",
        "Para ver a tendência, é melhor sempre usar essa relação por 100 mil, pois a população do país cresceu muito de 1985 para 2015. Se formos comparar em termos absolutos, poderemos tirar conclusões erradas ou distorcidas.\n",
        "> Russia, Lituânia e Hungria apresentam as taxas mais alarmantes."
      ]
    },
    {
      "cell_type": "code",
      "metadata": {
        "id": "wJctO5EtHudR",
        "colab_type": "code",
        "colab": {
          "base_uri": "https://localhost:8080/",
          "height": 707
        },
        "outputId": "f3ef56f1-c47c-4d30-a334-dc3f710e0d94"
      },
      "source": [
        "suicides_world_sum = df.groupby('country')['suicides/100k pop'].sum()\n",
        "# plotar barplot com a soma de suicidios em cada país\n",
        "suicides_world_sum.plot.bar(x=df.country, y=suicides_world_sum,stacked=True, figsize=(18,9))\n"
      ],
      "execution_count": 9,
      "outputs": [
        {
          "output_type": "execute_result",
          "data": {
            "text/plain": [
              "<matplotlib.axes._subplots.AxesSubplot at 0x7ff85c6fab70>"
            ]
          },
          "metadata": {
            "tags": []
          },
          "execution_count": 9
        },
        {
          "output_type": "display_data",
          "data": {
            "image/png": "[encoded data removed]",
            "text/plain": [
              "<Figure size 1296x648 with 1 Axes>"
            ]
          },
          "metadata": {
            "tags": [],
            "needs_background": "light"
          }
        }
      ]
    },
    {
      "cell_type": "markdown",
      "metadata": {
        "id": "Z_JKgWqKeYm5",
        "colab_type": "text"
      },
      "source": [
        "# Criar um *DataFrame* contendo apenas as informações relacionadas ao Brasil.\n",
        "\n",
        "\n"
      ]
    },
    {
      "cell_type": "code",
      "metadata": {
        "id": "4oisAgzrevf2",
        "colab_type": "code",
        "colab": {
          "base_uri": "https://localhost:8080/",
          "height": 221
        },
        "outputId": "9b45017a-0b90-4119-e02a-2475552b1571"
      },
      "source": [
        "# extrair apenas os dados relativos ao Brasil\n",
        "df_brasil = df[df.country == \"Brazil\"].copy()\n",
        "\n",
        "# ver o formato do novo DataFrame\n",
        "print(\"Formato do DataFrame: \", df_brasil.shape)\n",
        "\n",
        "# exibir as 5 primeiras entradas do novo DataFrame\n",
        "df_brasil.head()"
      ],
      "execution_count": null,
      "outputs": [
        {
          "output_type": "stream",
          "text": [
            "Formato do DataFrame:  (372, 12)\n"
          ],
          "name": "stdout"
        },
        {
          "output_type": "execute_result",
          "data": {
            "text/html": [
              "<div>\n",
              "<style scoped>\n",
              "    .dataframe tbody tr th:only-of-type {\n",
              "        vertical-align: middle;\n",
              "    }\n",
              "\n",
              "    .dataframe tbody tr th {\n",
              "        vertical-align: top;\n",
              "    }\n",
              "\n",
              "    .dataframe thead th {\n",
              "        text-align: right;\n",
              "    }\n",
              "</style>\n",
              "<table border=\"1\" class=\"dataframe\">\n",
              "  <thead>\n",
              "    <tr style=\"text-align: right;\">\n",
              "      <th></th>\n",
              "      <th>country</th>\n",
              "      <th>year</th>\n",
              "      <th>sex</th>\n",
              "      <th>age</th>\n",
              "      <th>suicides_no</th>\n",
              "      <th>population</th>\n",
              "      <th>suicides/100k pop</th>\n",
              "      <th>country-year</th>\n",
              "      <th>HDI for year</th>\n",
              "      <th>gdp_for_year ($)</th>\n",
              "      <th>gdp_per_capita ($)</th>\n",
              "      <th>generation</th>\n",
              "    </tr>\n",
              "  </thead>\n",
              "  <tbody>\n",
              "    <tr>\n",
              "      <th>4172</th>\n",
              "      <td>Brazil</td>\n",
              "      <td>1985</td>\n",
              "      <td>male</td>\n",
              "      <td>75+ years</td>\n",
              "      <td>129</td>\n",
              "      <td>840300</td>\n",
              "      <td>15.35</td>\n",
              "      <td>Brazil1985</td>\n",
              "      <td>0.576</td>\n",
              "      <td>222,942,790,435</td>\n",
              "      <td>1898</td>\n",
              "      <td>G.I. Generation</td>\n",
              "    </tr>\n",
              "    <tr>\n",
              "      <th>4173</th>\n",
              "      <td>Brazil</td>\n",
              "      <td>1985</td>\n",
              "      <td>male</td>\n",
              "      <td>55-74 years</td>\n",
              "      <td>535</td>\n",
              "      <td>5364900</td>\n",
              "      <td>9.97</td>\n",
              "      <td>Brazil1985</td>\n",
              "      <td>0.576</td>\n",
              "      <td>222,942,790,435</td>\n",
              "      <td>1898</td>\n",
              "      <td>G.I. Generation</td>\n",
              "    </tr>\n",
              "    <tr>\n",
              "      <th>4174</th>\n",
              "      <td>Brazil</td>\n",
              "      <td>1985</td>\n",
              "      <td>male</td>\n",
              "      <td>35-54 years</td>\n",
              "      <td>1011</td>\n",
              "      <td>11986300</td>\n",
              "      <td>8.43</td>\n",
              "      <td>Brazil1985</td>\n",
              "      <td>0.576</td>\n",
              "      <td>222,942,790,435</td>\n",
              "      <td>1898</td>\n",
              "      <td>Silent</td>\n",
              "    </tr>\n",
              "    <tr>\n",
              "      <th>4175</th>\n",
              "      <td>Brazil</td>\n",
              "      <td>1985</td>\n",
              "      <td>male</td>\n",
              "      <td>25-34 years</td>\n",
              "      <td>791</td>\n",
              "      <td>10762900</td>\n",
              "      <td>7.35</td>\n",
              "      <td>Brazil1985</td>\n",
              "      <td>0.576</td>\n",
              "      <td>222,942,790,435</td>\n",
              "      <td>1898</td>\n",
              "      <td>Boomers</td>\n",
              "    </tr>\n",
              "    <tr>\n",
              "      <th>4176</th>\n",
              "      <td>Brazil</td>\n",
              "      <td>1985</td>\n",
              "      <td>male</td>\n",
              "      <td>15-24 years</td>\n",
              "      <td>661</td>\n",
              "      <td>13834000</td>\n",
              "      <td>4.78</td>\n",
              "      <td>Brazil1985</td>\n",
              "      <td>0.576</td>\n",
              "      <td>222,942,790,435</td>\n",
              "      <td>1898</td>\n",
              "      <td>Generation X</td>\n",
              "    </tr>\n",
              "  </tbody>\n",
              "</table>\n",
              "</div>"
            ],
            "text/plain": [
              "     country  year  ... gdp_per_capita ($)       generation\n",
              "4172  Brazil  1985  ...               1898  G.I. Generation\n",
              "4173  Brazil  1985  ...               1898  G.I. Generation\n",
              "4174  Brazil  1985  ...               1898           Silent\n",
              "4175  Brazil  1985  ...               1898          Boomers\n",
              "4176  Brazil  1985  ...               1898     Generation X\n",
              "\n",
              "[5 rows x 12 columns]"
            ]
          },
          "metadata": {
            "tags": []
          },
          "execution_count": 5
        }
      ]
    },
    {
      "cell_type": "code",
      "metadata": {
        "id": "m0HS6gfPHXp1",
        "colab_type": "code",
        "colab": {
          "base_uri": "https://localhost:8080/",
          "height": 567
        },
        "outputId": "4de7aa35-47de-4843-c30a-7882b5e54fea"
      },
      "source": [
        "# valores ausentes nos dados mundiais\n",
        "print(\"--> Mundial:\")\n",
        "display(df.isnull().sum())\n",
        "\n",
        "print(\"\\n\", \"--.\" * 10, \"\\n\")\n",
        "\n",
        "# velores ausentes nos dados do Brasil\n",
        "print(\"--> Brasil:\")\n",
        "display(df_brasil.isnull().sum())"
      ],
      "execution_count": null,
      "outputs": [
        {
          "output_type": "stream",
          "text": [
            "--> Mundial:\n"
          ],
          "name": "stdout"
        },
        {
          "output_type": "display_data",
          "data": {
            "text/plain": [
              "country                   0\n",
              "year                      0\n",
              "sex                       0\n",
              "age                       0\n",
              "suicides_no               0\n",
              "population                0\n",
              "suicides/100k pop         0\n",
              "country-year              0\n",
              "HDI for year          19456\n",
              " gdp_for_year ($)         0\n",
              "gdp_per_capita ($)        0\n",
              "generation                0\n",
              "dtype: int64"
            ]
          },
          "metadata": {
            "tags": []
          }
        },
        {
          "output_type": "stream",
          "text": [
            "\n",
            " --.--.--.--.--.--.--.--.--.--. \n",
            "\n",
            "--> Brasil:\n"
          ],
          "name": "stdout"
        },
        {
          "output_type": "display_data",
          "data": {
            "text/plain": [
              "country                 0\n",
              "year                    0\n",
              "sex                     0\n",
              "age                     0\n",
              "suicides_no             0\n",
              "population              0\n",
              "suicides/100k pop       0\n",
              "country-year            0\n",
              "HDI for year          252\n",
              " gdp_for_year ($)       0\n",
              "gdp_per_capita ($)      0\n",
              "generation              0\n",
              "dtype: int64"
            ]
          },
          "metadata": {
            "tags": []
          }
        }
      ]
    },
    {
      "cell_type": "markdown",
      "metadata": {
        "id": "WmHM3UDsLtBX",
        "colab_type": "text"
      },
      "source": [
        "### Tendência da taxa de suicídio no Brasil\n",
        "\n"
      ]
    },
    {
      "cell_type": "markdown",
      "metadata": {
        "id": "7jfaSCv2IzFZ",
        "colab_type": "text"
      },
      "source": [
        "A primeira comparação, diz respeito ao número de suicídios cometidos no Brasil por 100 mil habitantes, e a tendência do gráfico em relação à taxa mundial."
      ]
    },
    {
      "cell_type": "code",
      "metadata": {
        "id": "OLi25tlnKS-m",
        "colab_type": "code",
        "colab": {
          "base_uri": "https://localhost:8080/",
          "height": 266
        },
        "outputId": "d0c192ba-df97-4693-d9b5-c123110ba271"
      },
      "source": [
        "# pegar a media mundial e do Brasil em suicidios\n",
        "years = df_brasil.year.unique()    # pegar os anos para o eixo x\n",
        "suicides_brasil_mean = df_brasil.groupby('year')['suicides/100k pop'].mean()\n",
        "suicides_world_mean = df.groupby('year')['suicides/100k pop'].mean()\n",
        "\n",
        "# como o Brasil nao tem 2016, vou eliminar do dataframe mundial essa entrada\n",
        "suicides_world_mean.drop(2016, inplace=True)\n",
        "\n",
        "# plotar lineplot comparativo entre Brasil e Mundo\n",
        "ax = sns.lineplot(x=years, y=suicides_brasil_mean, label='Brasil')\n",
        "ax = sns.lineplot(x=years, y=suicides_world_mean, label='Mundo')\n",
        "plt.legend(title=\"Taxa de suicídio\")\n",
        "plt.show()"
      ],
      "execution_count": null,
      "outputs": [
        {
          "output_type": "display_data",
          "data": {
            "image/png": "[encoded data removed]",
            "text/plain": [
              "<Figure size 432x288 with 1 Axes>"
            ]
          },
          "metadata": {
            "tags": [],
            "needs_background": "light"
          }
        }
      ]
    },
    {
      "cell_type": "markdown",
      "metadata": {
        "id": "n99JaHjAK8Az",
        "colab_type": "text"
      },
      "source": [
        "Uma coisa que é facilmente percebida no gráfico acima é que apesar da taxa de suicídios no Brasil ser menor que a média mundial, ela vem crescendo constantemente ao longo de 30 anos.\n",
        "\n",
        "A linha laranja teve um pico por volta de 1995, porém reverteu o *slope* e vem caindo ano após ano. Já a linha azul (Brasil) tem um *slope* positivo praticamente ao longo de todo o período analisado."
      ]
    },
    {
      "cell_type": "markdown",
      "metadata": {
        "id": "YPU1kfEVK8sm",
        "colab_type": "text"
      },
      "source": [
        "### Faixa etária com maior índice de suícidio\n",
        "\n"
      ]
    },
    {
      "cell_type": "code",
      "metadata": {
        "id": "IR_nZc7bG01Q",
        "colab_type": "code",
        "colab": {
          "base_uri": "https://localhost:8080/",
          "height": 235
        },
        "outputId": "af5d8521-d3b7-41f0-8626-c05d2ce9da99"
      },
      "source": [
        "# criar uma tabela dinâmica\n",
        "table = pd.pivot_table(df_brasil, values='suicides_no', index=['year'], columns=['age'])\n",
        "\n",
        "# reordenar as tableas para deixar em ordem crescente\n",
        "column_order = ['5-14 years', '15-24 years', '25-34 years', '35-54 years', '55-74 years', '75+ years']\n",
        "table = table.reindex(column_order, axis=1)\n",
        "\n",
        "# ver as 5 primeiras entradas da pivot table\n",
        "table.head()"
      ],
      "execution_count": null,
      "outputs": [
        {
          "output_type": "execute_result",
          "data": {
            "text/html": [
              "<div>\n",
              "<style scoped>\n",
              "    .dataframe tbody tr th:only-of-type {\n",
              "        vertical-align: middle;\n",
              "    }\n",
              "\n",
              "    .dataframe tbody tr th {\n",
              "        vertical-align: top;\n",
              "    }\n",
              "\n",
              "    .dataframe thead th {\n",
              "        text-align: right;\n",
              "    }\n",
              "</style>\n",
              "<table border=\"1\" class=\"dataframe\">\n",
              "  <thead>\n",
              "    <tr style=\"text-align: right;\">\n",
              "      <th>age</th>\n",
              "      <th>5-14 years</th>\n",
              "      <th>15-24 years</th>\n",
              "      <th>25-34 years</th>\n",
              "      <th>35-54 years</th>\n",
              "      <th>55-74 years</th>\n",
              "      <th>75+ years</th>\n",
              "    </tr>\n",
              "    <tr>\n",
              "      <th>year</th>\n",
              "      <th></th>\n",
              "      <th></th>\n",
              "      <th></th>\n",
              "      <th></th>\n",
              "      <th></th>\n",
              "      <th></th>\n",
              "    </tr>\n",
              "  </thead>\n",
              "  <tbody>\n",
              "    <tr>\n",
              "      <th>1985</th>\n",
              "      <td>38.0</td>\n",
              "      <td>470.5</td>\n",
              "      <td>530.0</td>\n",
              "      <td>653.5</td>\n",
              "      <td>341.5</td>\n",
              "      <td>80.5</td>\n",
              "    </tr>\n",
              "    <tr>\n",
              "      <th>1986</th>\n",
              "      <td>31.0</td>\n",
              "      <td>508.0</td>\n",
              "      <td>505.5</td>\n",
              "      <td>651.0</td>\n",
              "      <td>372.0</td>\n",
              "      <td>68.0</td>\n",
              "    </tr>\n",
              "    <tr>\n",
              "      <th>1987</th>\n",
              "      <td>33.5</td>\n",
              "      <td>502.0</td>\n",
              "      <td>565.5</td>\n",
              "      <td>724.5</td>\n",
              "      <td>422.0</td>\n",
              "      <td>88.5</td>\n",
              "    </tr>\n",
              "    <tr>\n",
              "      <th>1988</th>\n",
              "      <td>30.0</td>\n",
              "      <td>472.0</td>\n",
              "      <td>557.5</td>\n",
              "      <td>724.0</td>\n",
              "      <td>356.0</td>\n",
              "      <td>93.5</td>\n",
              "    </tr>\n",
              "    <tr>\n",
              "      <th>1989</th>\n",
              "      <td>31.5</td>\n",
              "      <td>491.5</td>\n",
              "      <td>569.0</td>\n",
              "      <td>692.5</td>\n",
              "      <td>354.5</td>\n",
              "      <td>92.5</td>\n",
              "    </tr>\n",
              "  </tbody>\n",
              "</table>\n",
              "</div>"
            ],
            "text/plain": [
              "age   5-14 years  15-24 years  25-34 years  35-54 years  55-74 years  75+ years\n",
              "year                                                                           \n",
              "1985        38.0        470.5        530.0        653.5        341.5       80.5\n",
              "1986        31.0        508.0        505.5        651.0        372.0       68.0\n",
              "1987        33.5        502.0        565.5        724.5        422.0       88.5\n",
              "1988        30.0        472.0        557.5        724.0        356.0       93.5\n",
              "1989        31.5        491.5        569.0        692.5        354.5       92.5"
            ]
          },
          "metadata": {
            "tags": []
          },
          "execution_count": 8
        }
      ]
    },
    {
      "cell_type": "code",
      "metadata": {
        "id": "AZ8UuFqZLi5T",
        "colab_type": "code",
        "colab": {
          "base_uri": "https://localhost:8080/",
          "height": 512
        },
        "outputId": "61cab8e0-383e-474f-96c4-f2d0a440ebca"
      },
      "source": [
        "# plotar a pivot table das faixas etárias\n",
        "table.plot.bar(stacked=True, figsize=(16,8))\n",
        "plt.legend(title=\"Idade\");"
      ],
      "execution_count": null,
      "outputs": [
        {
          "output_type": "display_data",
          "data": {
            "image/png": "[encoded data removed]",
            "text/plain": [
              "<Figure size 1152x576 with 1 Axes>"
            ]
          },
          "metadata": {
            "tags": [],
            "needs_background": "light"
          }
        }
      ]
    },
    {
      "cell_type": "markdown",
      "metadata": {
        "id": "6B1ughmpLium",
        "colab_type": "text"
      },
      "source": [
        "Mesmo visualmente é fácil identificar que o grupo de pessoas que mais cometem suicídio está entre 35-54 anos. Em segundo lugar, estão pessoas entre 25-34 anos de idade.\n",
        "\n",
        "Juntos, esses dois grupos correspondem a quase 60% dos registros do banco de dados."
      ]
    },
    {
      "cell_type": "code",
      "metadata": {
        "id": "QgIVvsPVMiH0",
        "colab_type": "code",
        "colab": {
          "base_uri": "https://localhost:8080/",
          "height": 153
        },
        "outputId": "1e550199-7728-44eb-a61a-254c56545611"
      },
      "source": [
        "# estatística de suicídios por faixa etária\n",
        "table[['25-34 years']].loc[2015]\n",
        "table.loc[2015] / table.loc[2015].sum()"
      ],
      "execution_count": null,
      "outputs": [
        {
          "output_type": "execute_result",
          "data": {
            "text/plain": [
              "age\n",
              "5-14 years     0.012094\n",
              "15-24 years    0.159993\n",
              "25-34 years    0.211681\n",
              "35-54 years    0.371585\n",
              "55-74 years    0.194571\n",
              "75+ years      0.050076\n",
              "Name: 2015, dtype: float64"
            ]
          },
          "metadata": {
            "tags": []
          },
          "execution_count": 10
        }
      ]
    },
    {
      "cell_type": "markdown",
      "metadata": {
        "id": "fZHt72icN25_",
        "colab_type": "text"
      },
      "source": [
        "Um outro ponto que vale a pena ressaltar é o aumento de casos entre pessoas acima de 55 anos. Em 1985, as pessoas com mais idade representavam uma pequena fatia do número total.\n",
        "\n",
        "Entretanto, em 2015 é nítido que mesmo para pessoas acima de 75 anos houve um incremento significativo no número de suicídios.\n"
      ]
    },
    {
      "cell_type": "markdown",
      "metadata": {
        "id": "Lyrq8U0RDekZ",
        "colab_type": "text"
      },
      "source": [
        "### Taxa de suicídio entre homens e mulheres\n"
      ]
    },
    {
      "cell_type": "markdown",
      "metadata": {
        "id": "ABgm3pcgRZua",
        "colab_type": "text"
      },
      "source": [
        "Uma outra análise de grande importância é ver a porcentagem dos suicídios entre homens e mulheres.\n",
        "\n",
        "Analisando-se todo o período, o *dataset* utilizado mostrou que aproximadamente 78% dos casos foram cometidos por homens e 22% deles por mulheres. Optou-se por pegar a média dos 30 anos, pois não houve mudança significativa desse comportamento durante o período."
      ]
    },
    {
      "cell_type": "code",
      "metadata": {
        "id": "3-qsgukyP1MB",
        "colab_type": "code",
        "colab": {
          "base_uri": "https://localhost:8080/",
          "height": 248
        },
        "outputId": "139e7b3d-b5b4-427c-9399-72cc083427e0"
      },
      "source": [
        "# extrair valores entre homens e mulheres\n",
        "homens_mulheres = df_brasil.groupby('sex').suicides_no.sum() / df_brasil.groupby('sex').suicides_no.sum().sum()\n",
        "\n",
        "# plotar o gráfico de pizza\n",
        "plt.pie(homens_mulheres, labels=['mulheres', 'homens'], autopct='%1.1f%%', shadow=True);"
      ],
      "execution_count": null,
      "outputs": [
        {
          "output_type": "display_data",
          "data": {
            "image/png": "[encoded data removed]",
            "text/plain": [
              "<Figure size 432x288 with 1 Axes>"
            ]
          },
          "metadata": {
            "tags": []
          }
        }
      ]
    },
    {
      "cell_type": "markdown",
      "metadata": {
        "id": "ixz-drYDQBwb",
        "colab_type": "text"
      },
      "source": [
        "### Correlações entre o PIB, IDH e número de suicídios\n",
        "\n",
        "Criando uma matriz de correlação e plotando um *heatmap*, infere-se que o aumento no PIB per capita não diminuiu o número de suicídios por 100 mil habitantes. Na verdade, ele se manteve estável, contrariando o senso comum da maioria das pessoas.\n",
        "\n",
        "Em relação ao IDH, há muitos valores ausentes nas células, o que pode dar uma interpretação incorreta.\n"
      ]
    },
    {
      "cell_type": "code",
      "metadata": {
        "id": "jcd0QdNySOVa",
        "colab_type": "code",
        "colab": {
          "base_uri": "https://localhost:8080/",
          "height": 353
        },
        "outputId": "9ec747fb-fd38-447a-d73b-ad28a100562a"
      },
      "source": [
        "# plotar heatmap\n",
        "corr = df_brasil.corr()\n",
        "sns.heatmap(corr, cmap='RdBu', fmt='.2f', square=True, linecolor='white', annot=True);"
      ],
      "execution_count": null,
      "outputs": [
        {
          "output_type": "display_data",
          "data": {
            "image/png": "[encoded data removed]",
            "text/plain": [
              "<Figure size 432x288 with 2 Axes>"
            ]
          },
          "metadata": {
            "tags": [],
            "needs_background": "light"
          }
        }
      ]
    },
    {
      "cell_type": "markdown",
      "metadata": {
        "id": "ddUo5jicTjaI",
        "colab_type": "text"
      },
      "source": [
        "## Data Science na prevenção do suicídio\n",
        "\n",
        "\n",
        "> **A campanha é em setembro, mas falar sobre prevenção do suicídio em todos os meses do ano é fundamental** *-Setembro Amarelo*\n",
        "\n"
      ]
    }
  ]
}